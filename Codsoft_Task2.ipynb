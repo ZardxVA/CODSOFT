{
  "nbformat": 4,
  "nbformat_minor": 0,
  "metadata": {
    "colab": {
      "provenance": []
    },
    "kernelspec": {
      "name": "python3",
      "display_name": "Python 3"
    },
    "language_info": {
      "name": "python"
    }
  },
  "cells": [
    {
      "cell_type": "markdown",
      "source": [
        "\n",
        "# **CODSOFT VIRTUAL INTERNSHIP**\n",
        "\n",
        "**TASK 2 : MOVIE RATING PREDICTION WITH PYTHON**\n",
        "\n",
        "> Author : Vaibhav Aswal\n",
        "\n",
        "> Domain : Data Science\n",
        "\n",
        "> Batch : SEPTEMBER BATCH A77\n"
      ],
      "metadata": {
        "id": "Zj1Oyl2T53hR"
      }
    },
    {
      "cell_type": "code",
      "source": [
        "#Importing Important Libraries\n",
        "\n",
        "import numpy as np\n",
        "import pandas as pd\n",
        "import matplotlib.pyplot as plt\n",
        "import seaborn as sns\n",
        "import plotly.express as px"
      ],
      "metadata": {
        "id": "U3P2TOVIN8kZ"
      },
      "execution_count": null,
      "outputs": []
    },
    {
      "cell_type": "markdown",
      "source": [],
      "metadata": {
        "id": "6xTZWYqe54Ti"
      }
    },
    {
      "cell_type": "code",
      "source": [
        "from google.colab import files\n",
        "uploaded = files.upload()"
      ],
      "metadata": {
        "colab": {
          "base_uri": "https://localhost:8080/",
          "height": 73
        },
        "id": "OYCiw7dOPQv4",
        "outputId": "4c15e14d-6487-4575-a92a-6fb3567a56b5"
      },
      "execution_count": null,
      "outputs": [
        {
          "output_type": "display_data",
          "data": {
            "text/plain": [
              "<IPython.core.display.HTML object>"
            ],
            "text/html": [
              "\n",
              "     <input type=\"file\" id=\"files-b1a4f9ba-c141-40cb-992b-191577749026\" name=\"files[]\" multiple disabled\n",
              "        style=\"border:none\" />\n",
              "     <output id=\"result-b1a4f9ba-c141-40cb-992b-191577749026\">\n",
              "      Upload widget is only available when the cell has been executed in the\n",
              "      current browser session. Please rerun this cell to enable.\n",
              "      </output>\n",
              "      <script>// Copyright 2017 Google LLC\n",
              "//\n",
              "// Licensed under the Apache License, Version 2.0 (the \"License\");\n",
              "// you may not use this file except in compliance with the License.\n",
              "// You may obtain a copy of the License at\n",
              "//\n",
              "//      http://www.apache.org/licenses/LICENSE-2.0\n",
              "//\n",
              "// Unless required by applicable law or agreed to in writing, software\n",
              "// distributed under the License is distributed on an \"AS IS\" BASIS,\n",
              "// WITHOUT WARRANTIES OR CONDITIONS OF ANY KIND, either express or implied.\n",
              "// See the License for the specific language governing permissions and\n",
              "// limitations under the License.\n",
              "\n",
              "/**\n",
              " * @fileoverview Helpers for google.colab Python module.\n",
              " */\n",
              "(function(scope) {\n",
              "function span(text, styleAttributes = {}) {\n",
              "  const element = document.createElement('span');\n",
              "  element.textContent = text;\n",
              "  for (const key of Object.keys(styleAttributes)) {\n",
              "    element.style[key] = styleAttributes[key];\n",
              "  }\n",
              "  return element;\n",
              "}\n",
              "\n",
              "// Max number of bytes which will be uploaded at a time.\n",
              "const MAX_PAYLOAD_SIZE = 100 * 1024;\n",
              "\n",
              "function _uploadFiles(inputId, outputId) {\n",
              "  const steps = uploadFilesStep(inputId, outputId);\n",
              "  const outputElement = document.getElementById(outputId);\n",
              "  // Cache steps on the outputElement to make it available for the next call\n",
              "  // to uploadFilesContinue from Python.\n",
              "  outputElement.steps = steps;\n",
              "\n",
              "  return _uploadFilesContinue(outputId);\n",
              "}\n",
              "\n",
              "// This is roughly an async generator (not supported in the browser yet),\n",
              "// where there are multiple asynchronous steps and the Python side is going\n",
              "// to poll for completion of each step.\n",
              "// This uses a Promise to block the python side on completion of each step,\n",
              "// then passes the result of the previous step as the input to the next step.\n",
              "function _uploadFilesContinue(outputId) {\n",
              "  const outputElement = document.getElementById(outputId);\n",
              "  const steps = outputElement.steps;\n",
              "\n",
              "  const next = steps.next(outputElement.lastPromiseValue);\n",
              "  return Promise.resolve(next.value.promise).then((value) => {\n",
              "    // Cache the last promise value to make it available to the next\n",
              "    // step of the generator.\n",
              "    outputElement.lastPromiseValue = value;\n",
              "    return next.value.response;\n",
              "  });\n",
              "}\n",
              "\n",
              "/**\n",
              " * Generator function which is called between each async step of the upload\n",
              " * process.\n",
              " * @param {string} inputId Element ID of the input file picker element.\n",
              " * @param {string} outputId Element ID of the output display.\n",
              " * @return {!Iterable<!Object>} Iterable of next steps.\n",
              " */\n",
              "function* uploadFilesStep(inputId, outputId) {\n",
              "  const inputElement = document.getElementById(inputId);\n",
              "  inputElement.disabled = false;\n",
              "\n",
              "  const outputElement = document.getElementById(outputId);\n",
              "  outputElement.innerHTML = '';\n",
              "\n",
              "  const pickedPromise = new Promise((resolve) => {\n",
              "    inputElement.addEventListener('change', (e) => {\n",
              "      resolve(e.target.files);\n",
              "    });\n",
              "  });\n",
              "\n",
              "  const cancel = document.createElement('button');\n",
              "  inputElement.parentElement.appendChild(cancel);\n",
              "  cancel.textContent = 'Cancel upload';\n",
              "  const cancelPromise = new Promise((resolve) => {\n",
              "    cancel.onclick = () => {\n",
              "      resolve(null);\n",
              "    };\n",
              "  });\n",
              "\n",
              "  // Wait for the user to pick the files.\n",
              "  const files = yield {\n",
              "    promise: Promise.race([pickedPromise, cancelPromise]),\n",
              "    response: {\n",
              "      action: 'starting',\n",
              "    }\n",
              "  };\n",
              "\n",
              "  cancel.remove();\n",
              "\n",
              "  // Disable the input element since further picks are not allowed.\n",
              "  inputElement.disabled = true;\n",
              "\n",
              "  if (!files) {\n",
              "    return {\n",
              "      response: {\n",
              "        action: 'complete',\n",
              "      }\n",
              "    };\n",
              "  }\n",
              "\n",
              "  for (const file of files) {\n",
              "    const li = document.createElement('li');\n",
              "    li.append(span(file.name, {fontWeight: 'bold'}));\n",
              "    li.append(span(\n",
              "        `(${file.type || 'n/a'}) - ${file.size} bytes, ` +\n",
              "        `last modified: ${\n",
              "            file.lastModifiedDate ? file.lastModifiedDate.toLocaleDateString() :\n",
              "                                    'n/a'} - `));\n",
              "    const percent = span('0% done');\n",
              "    li.appendChild(percent);\n",
              "\n",
              "    outputElement.appendChild(li);\n",
              "\n",
              "    const fileDataPromise = new Promise((resolve) => {\n",
              "      const reader = new FileReader();\n",
              "      reader.onload = (e) => {\n",
              "        resolve(e.target.result);\n",
              "      };\n",
              "      reader.readAsArrayBuffer(file);\n",
              "    });\n",
              "    // Wait for the data to be ready.\n",
              "    let fileData = yield {\n",
              "      promise: fileDataPromise,\n",
              "      response: {\n",
              "        action: 'continue',\n",
              "      }\n",
              "    };\n",
              "\n",
              "    // Use a chunked sending to avoid message size limits. See b/62115660.\n",
              "    let position = 0;\n",
              "    do {\n",
              "      const length = Math.min(fileData.byteLength - position, MAX_PAYLOAD_SIZE);\n",
              "      const chunk = new Uint8Array(fileData, position, length);\n",
              "      position += length;\n",
              "\n",
              "      const base64 = btoa(String.fromCharCode.apply(null, chunk));\n",
              "      yield {\n",
              "        response: {\n",
              "          action: 'append',\n",
              "          file: file.name,\n",
              "          data: base64,\n",
              "        },\n",
              "      };\n",
              "\n",
              "      let percentDone = fileData.byteLength === 0 ?\n",
              "          100 :\n",
              "          Math.round((position / fileData.byteLength) * 100);\n",
              "      percent.textContent = `${percentDone}% done`;\n",
              "\n",
              "    } while (position < fileData.byteLength);\n",
              "  }\n",
              "\n",
              "  // All done.\n",
              "  yield {\n",
              "    response: {\n",
              "      action: 'complete',\n",
              "    }\n",
              "  };\n",
              "}\n",
              "\n",
              "scope.google = scope.google || {};\n",
              "scope.google.colab = scope.google.colab || {};\n",
              "scope.google.colab._files = {\n",
              "  _uploadFiles,\n",
              "  _uploadFilesContinue,\n",
              "};\n",
              "})(self);\n",
              "</script> "
            ]
          },
          "metadata": {}
        },
        {
          "output_type": "stream",
          "name": "stdout",
          "text": [
            "Saving IMDb_Movies_India.csv to IMDb_Movies_India.csv\n"
          ]
        }
      ]
    },
    {
      "cell_type": "code",
      "source": [
        "#Linking Dataset to Colab\n",
        "import io\n",
        "imdb_df = pd.read_csv((io.BytesIO(uploaded[\"IMDb_Movies_India.csv\"])), encoding ='unicode_escape')"
      ],
      "metadata": {
        "id": "45HzRnYkRZ5a"
      },
      "execution_count": null,
      "outputs": []
    },
    {
      "cell_type": "code",
      "source": [
        "#Dataset First Look\n",
        "imdb_df.head(10)"
      ],
      "metadata": {
        "colab": {
          "base_uri": "https://localhost:8080/",
          "height": 363
        },
        "id": "UDlBj41bTVFn",
        "outputId": "fd5ea766-c694-4e96-ccb8-0752c37e0dc8"
      },
      "execution_count": null,
      "outputs": [
        {
          "output_type": "execute_result",
          "data": {
            "text/plain": [
              "                                 Name    Year Duration  \\\n",
              "0                                         NaN      NaN   \n",
              "1  #Gadhvi (He thought he was Gandhi)  (2019)  109 min   \n",
              "2                         #Homecoming  (2021)   90 min   \n",
              "3                             #Yaaram  (2019)  110 min   \n",
              "4                   ...And Once Again  (2010)  105 min   \n",
              "5                ...Aur Pyaar Ho Gaya  (1997)  147 min   \n",
              "6                           ...Yahaan  (2005)  142 min   \n",
              "7                      .in for Motion  (2008)   59 min   \n",
              "8                  ?: A Question Mark  (2012)   82 min   \n",
              "9                            @Andheri  (2014)  116 min   \n",
              "\n",
              "                       Genre  Rating  Votes            Director  \\\n",
              "0                      Drama     NaN    NaN       J.S. Randhawa   \n",
              "1                      Drama     7.0      8       Gaurav Bakshi   \n",
              "2             Drama, Musical     NaN    NaN  Soumyajit Majumdar   \n",
              "3            Comedy, Romance     4.4     35          Ovais Khan   \n",
              "4                      Drama     NaN    NaN        Amol Palekar   \n",
              "5     Comedy, Drama, Musical     4.7    827        Rahul Rawail   \n",
              "6        Drama, Romance, War     7.4  1,086      Shoojit Sircar   \n",
              "7                Documentary     NaN    NaN       Anirban Datta   \n",
              "8  Horror, Mystery, Thriller     5.6    326       Allyson Patel   \n",
              "9    Action, Crime, Thriller     4.0     11   Biju Bhaskar Nair   \n",
              "\n",
              "           Actor 1                 Actor 2          Actor 3  \n",
              "0         Manmauji                  Birbal  Rajendra Bhatia  \n",
              "1     Rasika Dugal          Vivek Ghamande    Arvind Jangid  \n",
              "2     Sayani Gupta       Plabita Borthakur       Roy Angana  \n",
              "3          Prateik              Ishita Raj  Siddhant Kapoor  \n",
              "4     Rajat Kapoor      Rituparna Sengupta      Antara Mali  \n",
              "5       Bobby Deol  Aishwarya Rai Bachchan    Shammi Kapoor  \n",
              "6  Jimmy Sheirgill          Minissha Lamba   Yashpal Sharma  \n",
              "7              NaN                     NaN              NaN  \n",
              "8        Yash Dave          Muntazir Ahmad     Kiran Bhatia  \n",
              "9        Augustine            Fathima Babu             Byon  "
            ],
            "text/html": [
              "\n",
              "  <div id=\"df-1f2475f2-9fe4-4b39-8dc8-411e470b15ce\" class=\"colab-df-container\">\n",
              "    <div>\n",
              "<style scoped>\n",
              "    .dataframe tbody tr th:only-of-type {\n",
              "        vertical-align: middle;\n",
              "    }\n",
              "\n",
              "    .dataframe tbody tr th {\n",
              "        vertical-align: top;\n",
              "    }\n",
              "\n",
              "    .dataframe thead th {\n",
              "        text-align: right;\n",
              "    }\n",
              "</style>\n",
              "<table border=\"1\" class=\"dataframe\">\n",
              "  <thead>\n",
              "    <tr style=\"text-align: right;\">\n",
              "      <th></th>\n",
              "      <th>Name</th>\n",
              "      <th>Year</th>\n",
              "      <th>Duration</th>\n",
              "      <th>Genre</th>\n",
              "      <th>Rating</th>\n",
              "      <th>Votes</th>\n",
              "      <th>Director</th>\n",
              "      <th>Actor 1</th>\n",
              "      <th>Actor 2</th>\n",
              "      <th>Actor 3</th>\n",
              "    </tr>\n",
              "  </thead>\n",
              "  <tbody>\n",
              "    <tr>\n",
              "      <th>0</th>\n",
              "      <td></td>\n",
              "      <td>NaN</td>\n",
              "      <td>NaN</td>\n",
              "      <td>Drama</td>\n",
              "      <td>NaN</td>\n",
              "      <td>NaN</td>\n",
              "      <td>J.S. Randhawa</td>\n",
              "      <td>Manmauji</td>\n",
              "      <td>Birbal</td>\n",
              "      <td>Rajendra Bhatia</td>\n",
              "    </tr>\n",
              "    <tr>\n",
              "      <th>1</th>\n",
              "      <td>#Gadhvi (He thought he was Gandhi)</td>\n",
              "      <td>(2019)</td>\n",
              "      <td>109 min</td>\n",
              "      <td>Drama</td>\n",
              "      <td>7.0</td>\n",
              "      <td>8</td>\n",
              "      <td>Gaurav Bakshi</td>\n",
              "      <td>Rasika Dugal</td>\n",
              "      <td>Vivek Ghamande</td>\n",
              "      <td>Arvind Jangid</td>\n",
              "    </tr>\n",
              "    <tr>\n",
              "      <th>2</th>\n",
              "      <td>#Homecoming</td>\n",
              "      <td>(2021)</td>\n",
              "      <td>90 min</td>\n",
              "      <td>Drama, Musical</td>\n",
              "      <td>NaN</td>\n",
              "      <td>NaN</td>\n",
              "      <td>Soumyajit Majumdar</td>\n",
              "      <td>Sayani Gupta</td>\n",
              "      <td>Plabita Borthakur</td>\n",
              "      <td>Roy Angana</td>\n",
              "    </tr>\n",
              "    <tr>\n",
              "      <th>3</th>\n",
              "      <td>#Yaaram</td>\n",
              "      <td>(2019)</td>\n",
              "      <td>110 min</td>\n",
              "      <td>Comedy, Romance</td>\n",
              "      <td>4.4</td>\n",
              "      <td>35</td>\n",
              "      <td>Ovais Khan</td>\n",
              "      <td>Prateik</td>\n",
              "      <td>Ishita Raj</td>\n",
              "      <td>Siddhant Kapoor</td>\n",
              "    </tr>\n",
              "    <tr>\n",
              "      <th>4</th>\n",
              "      <td>...And Once Again</td>\n",
              "      <td>(2010)</td>\n",
              "      <td>105 min</td>\n",
              "      <td>Drama</td>\n",
              "      <td>NaN</td>\n",
              "      <td>NaN</td>\n",
              "      <td>Amol Palekar</td>\n",
              "      <td>Rajat Kapoor</td>\n",
              "      <td>Rituparna Sengupta</td>\n",
              "      <td>Antara Mali</td>\n",
              "    </tr>\n",
              "    <tr>\n",
              "      <th>5</th>\n",
              "      <td>...Aur Pyaar Ho Gaya</td>\n",
              "      <td>(1997)</td>\n",
              "      <td>147 min</td>\n",
              "      <td>Comedy, Drama, Musical</td>\n",
              "      <td>4.7</td>\n",
              "      <td>827</td>\n",
              "      <td>Rahul Rawail</td>\n",
              "      <td>Bobby Deol</td>\n",
              "      <td>Aishwarya Rai Bachchan</td>\n",
              "      <td>Shammi Kapoor</td>\n",
              "    </tr>\n",
              "    <tr>\n",
              "      <th>6</th>\n",
              "      <td>...Yahaan</td>\n",
              "      <td>(2005)</td>\n",
              "      <td>142 min</td>\n",
              "      <td>Drama, Romance, War</td>\n",
              "      <td>7.4</td>\n",
              "      <td>1,086</td>\n",
              "      <td>Shoojit Sircar</td>\n",
              "      <td>Jimmy Sheirgill</td>\n",
              "      <td>Minissha Lamba</td>\n",
              "      <td>Yashpal Sharma</td>\n",
              "    </tr>\n",
              "    <tr>\n",
              "      <th>7</th>\n",
              "      <td>.in for Motion</td>\n",
              "      <td>(2008)</td>\n",
              "      <td>59 min</td>\n",
              "      <td>Documentary</td>\n",
              "      <td>NaN</td>\n",
              "      <td>NaN</td>\n",
              "      <td>Anirban Datta</td>\n",
              "      <td>NaN</td>\n",
              "      <td>NaN</td>\n",
              "      <td>NaN</td>\n",
              "    </tr>\n",
              "    <tr>\n",
              "      <th>8</th>\n",
              "      <td>?: A Question Mark</td>\n",
              "      <td>(2012)</td>\n",
              "      <td>82 min</td>\n",
              "      <td>Horror, Mystery, Thriller</td>\n",
              "      <td>5.6</td>\n",
              "      <td>326</td>\n",
              "      <td>Allyson Patel</td>\n",
              "      <td>Yash Dave</td>\n",
              "      <td>Muntazir Ahmad</td>\n",
              "      <td>Kiran Bhatia</td>\n",
              "    </tr>\n",
              "    <tr>\n",
              "      <th>9</th>\n",
              "      <td>@Andheri</td>\n",
              "      <td>(2014)</td>\n",
              "      <td>116 min</td>\n",
              "      <td>Action, Crime, Thriller</td>\n",
              "      <td>4.0</td>\n",
              "      <td>11</td>\n",
              "      <td>Biju Bhaskar Nair</td>\n",
              "      <td>Augustine</td>\n",
              "      <td>Fathima Babu</td>\n",
              "      <td>Byon</td>\n",
              "    </tr>\n",
              "  </tbody>\n",
              "</table>\n",
              "</div>\n",
              "    <div class=\"colab-df-buttons\">\n",
              "\n",
              "  <div class=\"colab-df-container\">\n",
              "    <button class=\"colab-df-convert\" onclick=\"convertToInteractive('df-1f2475f2-9fe4-4b39-8dc8-411e470b15ce')\"\n",
              "            title=\"Convert this dataframe to an interactive table.\"\n",
              "            style=\"display:none;\">\n",
              "\n",
              "  <svg xmlns=\"http://www.w3.org/2000/svg\" height=\"24px\" viewBox=\"0 -960 960 960\">\n",
              "    <path d=\"M120-120v-720h720v720H120Zm60-500h600v-160H180v160Zm220 220h160v-160H400v160Zm0 220h160v-160H400v160ZM180-400h160v-160H180v160Zm440 0h160v-160H620v160ZM180-180h160v-160H180v160Zm440 0h160v-160H620v160Z\"/>\n",
              "  </svg>\n",
              "    </button>\n",
              "\n",
              "  <style>\n",
              "    .colab-df-container {\n",
              "      display:flex;\n",
              "      gap: 12px;\n",
              "    }\n",
              "\n",
              "    .colab-df-convert {\n",
              "      background-color: #E8F0FE;\n",
              "      border: none;\n",
              "      border-radius: 50%;\n",
              "      cursor: pointer;\n",
              "      display: none;\n",
              "      fill: #1967D2;\n",
              "      height: 32px;\n",
              "      padding: 0 0 0 0;\n",
              "      width: 32px;\n",
              "    }\n",
              "\n",
              "    .colab-df-convert:hover {\n",
              "      background-color: #E2EBFA;\n",
              "      box-shadow: 0px 1px 2px rgba(60, 64, 67, 0.3), 0px 1px 3px 1px rgba(60, 64, 67, 0.15);\n",
              "      fill: #174EA6;\n",
              "    }\n",
              "\n",
              "    .colab-df-buttons div {\n",
              "      margin-bottom: 4px;\n",
              "    }\n",
              "\n",
              "    [theme=dark] .colab-df-convert {\n",
              "      background-color: #3B4455;\n",
              "      fill: #D2E3FC;\n",
              "    }\n",
              "\n",
              "    [theme=dark] .colab-df-convert:hover {\n",
              "      background-color: #434B5C;\n",
              "      box-shadow: 0px 1px 3px 1px rgba(0, 0, 0, 0.15);\n",
              "      filter: drop-shadow(0px 1px 2px rgba(0, 0, 0, 0.3));\n",
              "      fill: #FFFFFF;\n",
              "    }\n",
              "  </style>\n",
              "\n",
              "    <script>\n",
              "      const buttonEl =\n",
              "        document.querySelector('#df-1f2475f2-9fe4-4b39-8dc8-411e470b15ce button.colab-df-convert');\n",
              "      buttonEl.style.display =\n",
              "        google.colab.kernel.accessAllowed ? 'block' : 'none';\n",
              "\n",
              "      async function convertToInteractive(key) {\n",
              "        const element = document.querySelector('#df-1f2475f2-9fe4-4b39-8dc8-411e470b15ce');\n",
              "        const dataTable =\n",
              "          await google.colab.kernel.invokeFunction('convertToInteractive',\n",
              "                                                    [key], {});\n",
              "        if (!dataTable) return;\n",
              "\n",
              "        const docLinkHtml = 'Like what you see? Visit the ' +\n",
              "          '<a target=\"_blank\" href=https://colab.research.google.com/notebooks/data_table.ipynb>data table notebook</a>'\n",
              "          + ' to learn more about interactive tables.';\n",
              "        element.innerHTML = '';\n",
              "        dataTable['output_type'] = 'display_data';\n",
              "        await google.colab.output.renderOutput(dataTable, element);\n",
              "        const docLink = document.createElement('div');\n",
              "        docLink.innerHTML = docLinkHtml;\n",
              "        element.appendChild(docLink);\n",
              "      }\n",
              "    </script>\n",
              "  </div>\n",
              "\n",
              "\n",
              "<div id=\"df-e6b474a5-2daf-4a63-9ec6-5cc89930bfd0\">\n",
              "  <button class=\"colab-df-quickchart\" onclick=\"quickchart('df-e6b474a5-2daf-4a63-9ec6-5cc89930bfd0')\"\n",
              "            title=\"Suggest charts\"\n",
              "            style=\"display:none;\">\n",
              "\n",
              "<svg xmlns=\"http://www.w3.org/2000/svg\" height=\"24px\"viewBox=\"0 0 24 24\"\n",
              "     width=\"24px\">\n",
              "    <g>\n",
              "        <path d=\"M19 3H5c-1.1 0-2 .9-2 2v14c0 1.1.9 2 2 2h14c1.1 0 2-.9 2-2V5c0-1.1-.9-2-2-2zM9 17H7v-7h2v7zm4 0h-2V7h2v10zm4 0h-2v-4h2v4z\"/>\n",
              "    </g>\n",
              "</svg>\n",
              "  </button>\n",
              "\n",
              "<style>\n",
              "  .colab-df-quickchart {\n",
              "      --bg-color: #E8F0FE;\n",
              "      --fill-color: #1967D2;\n",
              "      --hover-bg-color: #E2EBFA;\n",
              "      --hover-fill-color: #174EA6;\n",
              "      --disabled-fill-color: #AAA;\n",
              "      --disabled-bg-color: #DDD;\n",
              "  }\n",
              "\n",
              "  [theme=dark] .colab-df-quickchart {\n",
              "      --bg-color: #3B4455;\n",
              "      --fill-color: #D2E3FC;\n",
              "      --hover-bg-color: #434B5C;\n",
              "      --hover-fill-color: #FFFFFF;\n",
              "      --disabled-bg-color: #3B4455;\n",
              "      --disabled-fill-color: #666;\n",
              "  }\n",
              "\n",
              "  .colab-df-quickchart {\n",
              "    background-color: var(--bg-color);\n",
              "    border: none;\n",
              "    border-radius: 50%;\n",
              "    cursor: pointer;\n",
              "    display: none;\n",
              "    fill: var(--fill-color);\n",
              "    height: 32px;\n",
              "    padding: 0;\n",
              "    width: 32px;\n",
              "  }\n",
              "\n",
              "  .colab-df-quickchart:hover {\n",
              "    background-color: var(--hover-bg-color);\n",
              "    box-shadow: 0 1px 2px rgba(60, 64, 67, 0.3), 0 1px 3px 1px rgba(60, 64, 67, 0.15);\n",
              "    fill: var(--button-hover-fill-color);\n",
              "  }\n",
              "\n",
              "  .colab-df-quickchart-complete:disabled,\n",
              "  .colab-df-quickchart-complete:disabled:hover {\n",
              "    background-color: var(--disabled-bg-color);\n",
              "    fill: var(--disabled-fill-color);\n",
              "    box-shadow: none;\n",
              "  }\n",
              "\n",
              "  .colab-df-spinner {\n",
              "    border: 2px solid var(--fill-color);\n",
              "    border-color: transparent;\n",
              "    border-bottom-color: var(--fill-color);\n",
              "    animation:\n",
              "      spin 1s steps(1) infinite;\n",
              "  }\n",
              "\n",
              "  @keyframes spin {\n",
              "    0% {\n",
              "      border-color: transparent;\n",
              "      border-bottom-color: var(--fill-color);\n",
              "      border-left-color: var(--fill-color);\n",
              "    }\n",
              "    20% {\n",
              "      border-color: transparent;\n",
              "      border-left-color: var(--fill-color);\n",
              "      border-top-color: var(--fill-color);\n",
              "    }\n",
              "    30% {\n",
              "      border-color: transparent;\n",
              "      border-left-color: var(--fill-color);\n",
              "      border-top-color: var(--fill-color);\n",
              "      border-right-color: var(--fill-color);\n",
              "    }\n",
              "    40% {\n",
              "      border-color: transparent;\n",
              "      border-right-color: var(--fill-color);\n",
              "      border-top-color: var(--fill-color);\n",
              "    }\n",
              "    60% {\n",
              "      border-color: transparent;\n",
              "      border-right-color: var(--fill-color);\n",
              "    }\n",
              "    80% {\n",
              "      border-color: transparent;\n",
              "      border-right-color: var(--fill-color);\n",
              "      border-bottom-color: var(--fill-color);\n",
              "    }\n",
              "    90% {\n",
              "      border-color: transparent;\n",
              "      border-bottom-color: var(--fill-color);\n",
              "    }\n",
              "  }\n",
              "</style>\n",
              "\n",
              "  <script>\n",
              "    async function quickchart(key) {\n",
              "      const quickchartButtonEl =\n",
              "        document.querySelector('#' + key + ' button');\n",
              "      quickchartButtonEl.disabled = true;  // To prevent multiple clicks.\n",
              "      quickchartButtonEl.classList.add('colab-df-spinner');\n",
              "      try {\n",
              "        const charts = await google.colab.kernel.invokeFunction(\n",
              "            'suggestCharts', [key], {});\n",
              "      } catch (error) {\n",
              "        console.error('Error during call to suggestCharts:', error);\n",
              "      }\n",
              "      quickchartButtonEl.classList.remove('colab-df-spinner');\n",
              "      quickchartButtonEl.classList.add('colab-df-quickchart-complete');\n",
              "    }\n",
              "    (() => {\n",
              "      let quickchartButtonEl =\n",
              "        document.querySelector('#df-e6b474a5-2daf-4a63-9ec6-5cc89930bfd0 button');\n",
              "      quickchartButtonEl.style.display =\n",
              "        google.colab.kernel.accessAllowed ? 'block' : 'none';\n",
              "    })();\n",
              "  </script>\n",
              "</div>\n",
              "\n",
              "    </div>\n",
              "  </div>\n"
            ],
            "application/vnd.google.colaboratory.intrinsic+json": {
              "type": "dataframe",
              "variable_name": "imdb_df",
              "summary": "{\n  \"name\": \"imdb_df\",\n  \"rows\": 15509,\n  \"fields\": [\n    {\n      \"column\": \"Name\",\n      \"properties\": {\n        \"dtype\": \"string\",\n        \"num_unique_values\": 13838,\n        \"samples\": [\n          \"Tumsa Nahin Dekha\",\n          \"Thanedaar\",\n          \"Farzande Hind\"\n        ],\n        \"semantic_type\": \"\",\n        \"description\": \"\"\n      }\n    },\n    {\n      \"column\": \"Year\",\n      \"properties\": {\n        \"dtype\": \"category\",\n        \"num_unique_values\": 102,\n        \"samples\": [\n          \"(1974)\",\n          \"(1963)\",\n          \"(1971)\"\n        ],\n        \"semantic_type\": \"\",\n        \"description\": \"\"\n      }\n    },\n    {\n      \"column\": \"Duration\",\n      \"properties\": {\n        \"dtype\": \"category\",\n        \"num_unique_values\": 182,\n        \"samples\": [\n          \"168 min\",\n          \"99 min\",\n          \"179 min\"\n        ],\n        \"semantic_type\": \"\",\n        \"description\": \"\"\n      }\n    },\n    {\n      \"column\": \"Genre\",\n      \"properties\": {\n        \"dtype\": \"category\",\n        \"num_unique_values\": 485,\n        \"samples\": [\n          \"Family, Mystery\",\n          \"Comedy, Fantasy, Musical\",\n          \"Action, Adventure, Crime\"\n        ],\n        \"semantic_type\": \"\",\n        \"description\": \"\"\n      }\n    },\n    {\n      \"column\": \"Rating\",\n      \"properties\": {\n        \"dtype\": \"number\",\n        \"std\": 1.3817771548659543,\n        \"min\": 1.1,\n        \"max\": 10.0,\n        \"num_unique_values\": 84,\n        \"samples\": [\n          1.4,\n          7.0,\n          2.9\n        ],\n        \"semantic_type\": \"\",\n        \"description\": \"\"\n      }\n    },\n    {\n      \"column\": \"Votes\",\n      \"properties\": {\n        \"dtype\": \"category\",\n        \"num_unique_values\": 2034,\n        \"samples\": [\n          \"837\",\n          \"101\",\n          \"2,566\"\n        ],\n        \"semantic_type\": \"\",\n        \"description\": \"\"\n      }\n    },\n    {\n      \"column\": \"Director\",\n      \"properties\": {\n        \"dtype\": \"category\",\n        \"num_unique_values\": 5938,\n        \"samples\": [\n          \"Param Hans Chitra\",\n          \"Vickram\",\n          \"Zaigham Ali Syed\"\n        ],\n        \"semantic_type\": \"\",\n        \"description\": \"\"\n      }\n    },\n    {\n      \"column\": \"Actor 1\",\n      \"properties\": {\n        \"dtype\": \"category\",\n        \"num_unique_values\": 4718,\n        \"samples\": [\n          \"Abhishek Bachchan\",\n          \"Giri Babu\",\n          \"Ajay Bafna\"\n        ],\n        \"semantic_type\": \"\",\n        \"description\": \"\"\n      }\n    },\n    {\n      \"column\": \"Actor 2\",\n      \"properties\": {\n        \"dtype\": \"category\",\n        \"num_unique_values\": 4891,\n        \"samples\": [\n          \"Bipasha Basu\",\n          \"Mukul Dev\",\n          \"Arjun Kapoor\"\n        ],\n        \"semantic_type\": \"\",\n        \"description\": \"\"\n      }\n    },\n    {\n      \"column\": \"Actor 3\",\n      \"properties\": {\n        \"dtype\": \"category\",\n        \"num_unique_values\": 4820,\n        \"samples\": [\n          \"Damandeep Singh\",\n          \"Kamini Kaushal\",\n          \"Babu\"\n        ],\n        \"semantic_type\": \"\",\n        \"description\": \"\"\n      }\n    }\n  ]\n}"
            }
          },
          "metadata": {},
          "execution_count": 4
        }
      ]
    },
    {
      "cell_type": "code",
      "source": [
        "imdb_df.shape"
      ],
      "metadata": {
        "colab": {
          "base_uri": "https://localhost:8080/"
        },
        "id": "ZIE4vqY0TntE",
        "outputId": "f7b6b034-600d-4210-aaeb-902f5b0a361a"
      },
      "execution_count": null,
      "outputs": [
        {
          "output_type": "execute_result",
          "data": {
            "text/plain": [
              "(15509, 10)"
            ]
          },
          "metadata": {},
          "execution_count": 5
        }
      ]
    },
    {
      "cell_type": "markdown",
      "source": [
        "\n",
        "\n",
        "*   **Data Cleaning**\n",
        "\n",
        "> Definiton : the process of fixing or removing incorrect, incomplete, or irrelevant data from a dataset."
      ],
      "metadata": {
        "id": "gf-EqHoDXO6X"
      }
    },
    {
      "cell_type": "code",
      "source": [
        "imdb_df.isnull().sum()"
      ],
      "metadata": {
        "colab": {
          "base_uri": "https://localhost:8080/",
          "height": 397
        },
        "id": "KVTcznhlUHq_",
        "outputId": "b8032a52-3756-4c99-dd2e-c84db77372d6"
      },
      "execution_count": null,
      "outputs": [
        {
          "output_type": "execute_result",
          "data": {
            "text/plain": [
              "Name           0\n",
              "Year         528\n",
              "Duration    8269\n",
              "Genre       1877\n",
              "Rating      7590\n",
              "Votes       7589\n",
              "Director     525\n",
              "Actor 1     1617\n",
              "Actor 2     2384\n",
              "Actor 3     3144\n",
              "dtype: int64"
            ],
            "text/html": [
              "<div>\n",
              "<style scoped>\n",
              "    .dataframe tbody tr th:only-of-type {\n",
              "        vertical-align: middle;\n",
              "    }\n",
              "\n",
              "    .dataframe tbody tr th {\n",
              "        vertical-align: top;\n",
              "    }\n",
              "\n",
              "    .dataframe thead th {\n",
              "        text-align: right;\n",
              "    }\n",
              "</style>\n",
              "<table border=\"1\" class=\"dataframe\">\n",
              "  <thead>\n",
              "    <tr style=\"text-align: right;\">\n",
              "      <th></th>\n",
              "      <th>0</th>\n",
              "    </tr>\n",
              "  </thead>\n",
              "  <tbody>\n",
              "    <tr>\n",
              "      <th>Name</th>\n",
              "      <td>0</td>\n",
              "    </tr>\n",
              "    <tr>\n",
              "      <th>Year</th>\n",
              "      <td>528</td>\n",
              "    </tr>\n",
              "    <tr>\n",
              "      <th>Duration</th>\n",
              "      <td>8269</td>\n",
              "    </tr>\n",
              "    <tr>\n",
              "      <th>Genre</th>\n",
              "      <td>1877</td>\n",
              "    </tr>\n",
              "    <tr>\n",
              "      <th>Rating</th>\n",
              "      <td>7590</td>\n",
              "    </tr>\n",
              "    <tr>\n",
              "      <th>Votes</th>\n",
              "      <td>7589</td>\n",
              "    </tr>\n",
              "    <tr>\n",
              "      <th>Director</th>\n",
              "      <td>525</td>\n",
              "    </tr>\n",
              "    <tr>\n",
              "      <th>Actor 1</th>\n",
              "      <td>1617</td>\n",
              "    </tr>\n",
              "    <tr>\n",
              "      <th>Actor 2</th>\n",
              "      <td>2384</td>\n",
              "    </tr>\n",
              "    <tr>\n",
              "      <th>Actor 3</th>\n",
              "      <td>3144</td>\n",
              "    </tr>\n",
              "  </tbody>\n",
              "</table>\n",
              "</div><br><label><b>dtype:</b> int64</label>"
            ]
          },
          "metadata": {},
          "execution_count": 6
        }
      ]
    },
    {
      "cell_type": "code",
      "source": [
        "imdb_df.info()"
      ],
      "metadata": {
        "colab": {
          "base_uri": "https://localhost:8080/"
        },
        "id": "M0Z7PDTfUkGC",
        "outputId": "9561ad8b-5fe4-46dc-f913-77a95301df29"
      },
      "execution_count": null,
      "outputs": [
        {
          "output_type": "stream",
          "name": "stdout",
          "text": [
            "<class 'pandas.core.frame.DataFrame'>\n",
            "RangeIndex: 15509 entries, 0 to 15508\n",
            "Data columns (total 10 columns):\n",
            " #   Column    Non-Null Count  Dtype  \n",
            "---  ------    --------------  -----  \n",
            " 0   Name      15509 non-null  object \n",
            " 1   Year      14981 non-null  object \n",
            " 2   Duration  7240 non-null   object \n",
            " 3   Genre     13632 non-null  object \n",
            " 4   Rating    7919 non-null   float64\n",
            " 5   Votes     7920 non-null   object \n",
            " 6   Director  14984 non-null  object \n",
            " 7   Actor 1   13892 non-null  object \n",
            " 8   Actor 2   13125 non-null  object \n",
            " 9   Actor 3   12365 non-null  object \n",
            "dtypes: float64(1), object(9)\n",
            "memory usage: 1.2+ MB\n"
          ]
        }
      ]
    },
    {
      "cell_type": "code",
      "source": [
        "imdb_df.duplicated().sum()"
      ],
      "metadata": {
        "colab": {
          "base_uri": "https://localhost:8080/"
        },
        "id": "p7flgNxeUtg5",
        "outputId": "463ef873-6aa2-4f7a-9466-4fa92ada6246"
      },
      "execution_count": null,
      "outputs": [
        {
          "output_type": "execute_result",
          "data": {
            "text/plain": [
              "6"
            ]
          },
          "metadata": {},
          "execution_count": 8
        }
      ]
    },
    {
      "cell_type": "code",
      "source": [
        "imdb_df.dropna(inplace=True)"
      ],
      "metadata": {
        "id": "MY_MAYASVCzA"
      },
      "execution_count": null,
      "outputs": []
    },
    {
      "cell_type": "code",
      "source": [
        "imdb_df.shape"
      ],
      "metadata": {
        "colab": {
          "base_uri": "https://localhost:8080/"
        },
        "id": "gvESUa7FVOTT",
        "outputId": "d15b78a1-a043-4550-fd0d-7bd62fcb6ef1"
      },
      "execution_count": null,
      "outputs": [
        {
          "output_type": "execute_result",
          "data": {
            "text/plain": [
              "(5659, 10)"
            ]
          },
          "metadata": {},
          "execution_count": 10
        }
      ]
    },
    {
      "cell_type": "code",
      "source": [
        "imdb_df.isnull().sum()"
      ],
      "metadata": {
        "colab": {
          "base_uri": "https://localhost:8080/",
          "height": 397
        },
        "id": "zjfPpn5PVkW8",
        "outputId": "04d78280-d109-41de-e666-f6ce3a8e674c"
      },
      "execution_count": null,
      "outputs": [
        {
          "output_type": "execute_result",
          "data": {
            "text/plain": [
              "Name        0\n",
              "Year        0\n",
              "Duration    0\n",
              "Genre       0\n",
              "Rating      0\n",
              "Votes       0\n",
              "Director    0\n",
              "Actor 1     0\n",
              "Actor 2     0\n",
              "Actor 3     0\n",
              "dtype: int64"
            ],
            "text/html": [
              "<div>\n",
              "<style scoped>\n",
              "    .dataframe tbody tr th:only-of-type {\n",
              "        vertical-align: middle;\n",
              "    }\n",
              "\n",
              "    .dataframe tbody tr th {\n",
              "        vertical-align: top;\n",
              "    }\n",
              "\n",
              "    .dataframe thead th {\n",
              "        text-align: right;\n",
              "    }\n",
              "</style>\n",
              "<table border=\"1\" class=\"dataframe\">\n",
              "  <thead>\n",
              "    <tr style=\"text-align: right;\">\n",
              "      <th></th>\n",
              "      <th>0</th>\n",
              "    </tr>\n",
              "  </thead>\n",
              "  <tbody>\n",
              "    <tr>\n",
              "      <th>Name</th>\n",
              "      <td>0</td>\n",
              "    </tr>\n",
              "    <tr>\n",
              "      <th>Year</th>\n",
              "      <td>0</td>\n",
              "    </tr>\n",
              "    <tr>\n",
              "      <th>Duration</th>\n",
              "      <td>0</td>\n",
              "    </tr>\n",
              "    <tr>\n",
              "      <th>Genre</th>\n",
              "      <td>0</td>\n",
              "    </tr>\n",
              "    <tr>\n",
              "      <th>Rating</th>\n",
              "      <td>0</td>\n",
              "    </tr>\n",
              "    <tr>\n",
              "      <th>Votes</th>\n",
              "      <td>0</td>\n",
              "    </tr>\n",
              "    <tr>\n",
              "      <th>Director</th>\n",
              "      <td>0</td>\n",
              "    </tr>\n",
              "    <tr>\n",
              "      <th>Actor 1</th>\n",
              "      <td>0</td>\n",
              "    </tr>\n",
              "    <tr>\n",
              "      <th>Actor 2</th>\n",
              "      <td>0</td>\n",
              "    </tr>\n",
              "    <tr>\n",
              "      <th>Actor 3</th>\n",
              "      <td>0</td>\n",
              "    </tr>\n",
              "  </tbody>\n",
              "</table>\n",
              "</div><br><label><b>dtype:</b> int64</label>"
            ]
          },
          "metadata": {},
          "execution_count": 11
        }
      ]
    },
    {
      "cell_type": "code",
      "source": [
        "imdb_df.drop_duplicates(inplace=True)"
      ],
      "metadata": {
        "id": "a4DvYvs8VnDs"
      },
      "execution_count": null,
      "outputs": []
    },
    {
      "cell_type": "code",
      "source": [
        "imdb_df.shape"
      ],
      "metadata": {
        "colab": {
          "base_uri": "https://localhost:8080/"
        },
        "id": "Hr4tjA7YVwbY",
        "outputId": "fe2d4590-fc63-405a-ae28-14748a040dbd"
      },
      "execution_count": null,
      "outputs": [
        {
          "output_type": "execute_result",
          "data": {
            "text/plain": [
              "(5659, 10)"
            ]
          },
          "metadata": {},
          "execution_count": 13
        }
      ]
    },
    {
      "cell_type": "code",
      "source": [
        "imdb_df.columns"
      ],
      "metadata": {
        "colab": {
          "base_uri": "https://localhost:8080/"
        },
        "id": "nMnS55QNV1IB",
        "outputId": "d7e324d4-d09e-4122-cfd0-9a3ee5da5d80"
      },
      "execution_count": null,
      "outputs": [
        {
          "output_type": "execute_result",
          "data": {
            "text/plain": [
              "Index(['Name', 'Year', 'Duration', 'Genre', 'Rating', 'Votes', 'Director',\n",
              "       'Actor 1', 'Actor 2', 'Actor 3'],\n",
              "      dtype='object')"
            ]
          },
          "metadata": {},
          "execution_count": 14
        }
      ]
    },
    {
      "cell_type": "markdown",
      "source": [
        "\n",
        "*  **Data Preprocessing**\n",
        "\n",
        "> Definiton : The process of cleaning and organizing raw data into a format that can be used in machine learning or data analysis.\n",
        "\n",
        "> In this project, we've processed the data by column-wise based on the requirements.\n",
        "\n",
        "\n",
        "\n",
        "\n",
        "\n",
        "\n"
      ],
      "metadata": {
        "id": "QD8oCKEEV6og"
      }
    },
    {
      "cell_type": "code",
      "source": [
        "#Replacing the brackets from Year Column\n",
        "imdb_df['Year'] = imdb_df['Year'].astype(str).str.replace(r'[()]', '', regex=True).astype(int)"
      ],
      "metadata": {
        "id": "yvcCA6XsYBuT"
      },
      "execution_count": null,
      "outputs": []
    },
    {
      "cell_type": "code",
      "source": [
        "#Remove the min word from 'Duration' column and convert all values to numeric\n",
        "imdb_df['Duration'] = pd.to_numeric(imdb_df['Duration'].str.replace(' min', ''))"
      ],
      "metadata": {
        "id": "xIKKFaCfYviC"
      },
      "execution_count": null,
      "outputs": []
    },
    {
      "cell_type": "code",
      "source": [
        "#Splitting the genre by, to keep only unique genres and replacing the null values with mode\n",
        "imdb_df['Genre'] = imdb_df['Genre'].str.split(',')\n",
        "imdb_df = imdb_df.explode('Genre')\n",
        "imdb_df['Genre'].fillna(imdb_df['Genre'].mode()[0], inplace=True)"
      ],
      "metadata": {
        "id": "JsEzhxR4Y_bd",
        "colab": {
          "base_uri": "https://localhost:8080/"
        },
        "outputId": "9ae2688d-9d67-4db1-f529-cdd6e5afbc1d"
      },
      "execution_count": null,
      "outputs": [
        {
          "output_type": "stream",
          "name": "stderr",
          "text": [
            "<ipython-input-17-bddfd7b3dc8f>:4: FutureWarning: A value is trying to be set on a copy of a DataFrame or Series through chained assignment using an inplace method.\n",
            "The behavior will change in pandas 3.0. This inplace method will never work because the intermediate object on which we are setting values always behaves as a copy.\n",
            "\n",
            "For example, when doing 'df[col].method(value, inplace=True)', try using 'df.method({col: value}, inplace=True)' or df[col] = df[col].method(value) instead, to perform the operation inplace on the original object.\n",
            "\n",
            "\n",
            "  imdb_df['Genre'].fillna(imdb_df['Genre'].mode()[0], inplace=True)\n"
          ]
        }
      ]
    },
    {
      "cell_type": "code",
      "source": [
        "#Convert 'Votes' to numeric and replace them, to keep only numerical part\n",
        "imdb_df['Votes'] = imdb_df['Votes'].str.replace(',', '').str.replace('$', '').str.replace('M', '')\n",
        "imdb_df['Votes'] = pd.to_numeric(imdb_df['Votes'])"
      ],
      "metadata": {
        "id": "HpAvdDf4bgH1"
      },
      "execution_count": null,
      "outputs": []
    },
    {
      "cell_type": "code",
      "source": [
        "#Checking the dataset now for any null values being present\n",
        "imdb_df.info()"
      ],
      "metadata": {
        "colab": {
          "base_uri": "https://localhost:8080/"
        },
        "id": "aItOr_SgeSER",
        "outputId": "19813c60-69c8-4b6c-c61c-580824a38e52"
      },
      "execution_count": null,
      "outputs": [
        {
          "output_type": "stream",
          "name": "stdout",
          "text": [
            "<class 'pandas.core.frame.DataFrame'>\n",
            "Index: 11979 entries, 1 to 15508\n",
            "Data columns (total 10 columns):\n",
            " #   Column    Non-Null Count  Dtype  \n",
            "---  ------    --------------  -----  \n",
            " 0   Name      11979 non-null  object \n",
            " 1   Year      11979 non-null  int64  \n",
            " 2   Duration  11979 non-null  int64  \n",
            " 3   Genre     11979 non-null  object \n",
            " 4   Rating    11979 non-null  float64\n",
            " 5   Votes     11979 non-null  int64  \n",
            " 6   Director  11979 non-null  object \n",
            " 7   Actor 1   11979 non-null  object \n",
            " 8   Actor 2   11979 non-null  object \n",
            " 9   Actor 3   11979 non-null  object \n",
            "dtypes: float64(1), int64(3), object(6)\n",
            "memory usage: 1.0+ MB\n"
          ]
        }
      ]
    },
    {
      "cell_type": "markdown",
      "source": [
        "\n",
        "\n",
        "*   **Data Visualizing**\n",
        "\n",
        "> Definition : The process of using visual elements like charts, graphs, or maps to represent data.\n",
        "\n",
        "> In this project,  we've used mutliple charts to show the relations between the components of data.\n",
        "\n"
      ],
      "metadata": {
        "id": "ZjBmAZiLfIvD"
      }
    },
    {
      "cell_type": "code",
      "source": [
        "#Here, we have created Histogram to show over the years in the data\n",
        "\n",
        "year = px.histogram(imdb_df, x=\"Year\", histnorm='probability density', nbins = 30)\n",
        "year.show()"
      ],
      "metadata": {
        "colab": {
          "base_uri": "https://localhost:8080/",
          "height": 542
        },
        "id": "eLumEIDLf6MC",
        "outputId": "3f92fd0a-9bed-4d34-f350-f60fbe3aa33d"
      },
      "execution_count": null,
      "outputs": [
        {
          "output_type": "display_data",
          "data": {
            "text/html": [
              "<html>\n",
              "<head><meta charset=\"utf-8\" /></head>\n",
              "<body>\n",
              "    <div>            <script src=\"https://cdnjs.cloudflare.com/ajax/libs/mathjax/2.7.5/MathJax.js?config=TeX-AMS-MML_SVG\"></script><script type=\"text/javascript\">if (window.MathJax && window.MathJax.Hub && window.MathJax.Hub.Config) {window.MathJax.Hub.Config({SVG: {font: \"STIX-Web\"}});}</script>                <script type=\"text/javascript\">window.PlotlyConfig = {MathJaxConfig: 'local'};</script>\n",
              "        <script charset=\"utf-8\" src=\"https://cdn.plot.ly/plotly-2.35.2.min.js\"></script>                <div id=\"6c47e109-eb86-46ec-9db9-b70299015284\" class=\"plotly-graph-div\" style=\"height:525px; width:100%;\"></div>            <script type=\"text/javascript\">                                    window.PLOTLYENV=window.PLOTLYENV || {};                                    if (document.getElementById(\"6c47e109-eb86-46ec-9db9-b70299015284\")) {                    Plotly.newPlot(                        \"6c47e109-eb86-46ec-9db9-b70299015284\",                        [{\"alignmentgroup\":\"True\",\"bingroup\":\"x\",\"histnorm\":\"probability density\",\"hovertemplate\":\"Year=%{x}\\u003cbr\\u003eprobability density=%{y}\\u003cextra\\u003e\\u003c\\u002fextra\\u003e\",\"legendgroup\":\"\",\"marker\":{\"color\":\"#636efa\",\"pattern\":{\"shape\":\"\"}},\"name\":\"\",\"nbinsx\":30,\"offsetgroup\":\"\",\"orientation\":\"v\",\"showlegend\":false,\"x\":[2019,2019,2019,1997,1997,1997,2005,2005,2005,2012,2012,2012,2014,2014,2014,2004,2016,1991,1991,1991,2012,2012,2012,2018,2018,2010,2010,2010,1958,1958,1958,2021,2021,2017,2017,2009,2009,2009,2005,1993,2002,2002,2014,2004,2008,2008,2008,2016,2016,2012,2012,2012,2018,2018,2018,1994,1994,1994,2007,2007,2007,2019,2017,2012,2012,2012,2003,2003,2003,2014,2014,2014,2018,2018,1998,1998,1998,2017,2018,1979,1979,2019,2002,2002,2002,1974,2014,2014,2012,2012,2003,2003,2019,2009,2009,2018,2015,2015,2015,2015,2015,2006,2006,2006,1981,1981,2020,2020,2019,1985,2013,2013,2013,2019,2011,2011,2011,2016,2012,2012,2012,2012,1974,1974,2011,2011,2011,2014,2007,2005,2005,1988,2016,2016,2006,2011,2011,2011,1987,1987,1987,2019,2019,2019,2019,2009,2009,2009,2021,2021,2021,2003,2003,2017,2009,2009,2009,2019,2019,2005,2005,2016,2017,2016,2016,2005,2005,2010,2010,2010,2016,2016,2016,2020,2020,2017,2017,2019,2019,2013,2013,2016,2005,2005,2019,2008,2008,2008,1999,1999,1999,2018,2009,2009,2009,1973,1973,1973,1994,1994,2017,2016,2004,1968,1968,1968,2018,1982,1982,1982,1977,2019,1982,2013,2013,2013,1950,1950,1968,1968,1993,1993,1993,1991,1969,1969,1969,1993,1993,2009,1977,1977,2016,1977,1977,1948,1948,1994,1994,1994,1994,1987,1990,1990,1993,1988,1988,1989,2001,2009,2009,2009,2000,2000,2000,1953,1953,1953,1978,1978,1993,1993,1977,1987,1963,1963,2003,1990,1990,1990,1985,1985,1992,1992,1976,1976,2000,2000,1991,1991,1984,1984,1988,1988,1990,1984,1984,1984,1993,2007,2007,2007,1968,1968,1986,1986,1986,1988,1988,1989,1989,1989,1989,1989,1989,1989,1989,1989,1979,1979,1966,1990,1990,1997,1975,1975,1975,1980,1980,1980,2010,2010,2010,2012,2001,2001,2007,2018,2018,2001,2001,2001,2008,2008,2008,1967,1967,1967,1982,1982,1982,1984,1970,1970,1970,2004,2004,2004,2003,1980,1980,1980,1975,1975,1985,1952,1990,2019,1993,1993,1993,2002,2002,2002,1972,1972,1970,1970,1970,1994,2009,2009,2009,1971,1971,1971,1976,1976,1974,1974,1977,1977,1977,2006,2006,1964,1964,1964,2002,2002,2002,1980,1980,1980,1981,1981,2003,2003,2003,1985,1997,2011,2011,1974,1954,1954,1954,1962,1962,1962,2007,2007,2007,1999,1999,1957,1957,1980,1980,1980,2010,1962,2001,2001,2001,2005,2005,2005,1977,1990,1990,1990,2013,2013,2013,2011,2011,1968,2014,2018,2018,2018,2009,1984,1984,1965,1992,1992,1992,1993,1966,1966,1997,1996,1996,1995,1995,1995,2006,2006,2006,1979,1994,1994,1994,2006,2006,2006,2013,2013,2013,1998,1998,1974,1974,1956,1964,1964,1964,1999,1966,1966,2011,2011,2011,1995,1995,1995,1984,1957,2012,1995,1995,2004,2004,2004,2015,2015,2015,1994,1994,2004,2004,2004,2004,2004,2013,2013,1980,1980,1980,1955,1955,1955,1995,1977,1977,1977,1968,1968,1973,1973,1991,1991,1991,1989,1989,1989,1970,1970,1984,2010,2010,2010,1973,1973,1998,1998,1998,1936,1936,1936,2009,2009,2009,2019,2019,2019,2014,2014,2014,2010,2010,2010,2010,2010,2010,1958,1958,1958,1976,1976,1976,1965,1965,1965,1954,1954,1954,2001,2001,2007,2010,2010,2010,1983,1983,1955,1990,1990,1990,2017,2017,2017,1983,2019,1978,1980,1980,1980,1985,1985,1985,2016,2016,2016,2004,2004,2004,1997,1997,1997,1986,1986,1966,1966,1951,1951,2001,2001,1991,1991,1950,1950,2014,2014,1983,1983,1972,1972,1972,1977,1977,1977,2012,2012,2012,1985,1985,1988,1988,1988,1997,1990,1990,1990,1990,1990,1990,2012,2012,2012,1997,1981,1981,1996,1996,1996,1997,2000,2002,2002,2002,1980,1980,1980,2009,2009,2009,2019,2019,1995,1979,1979,1981,1981,2006,2006,1979,1979,2016,2016,2015,2010,2010,2010,1996,1996,2009,2009,2009,1985,1985,2004,2004,2004,2018,2018,2018,2012,2012,2012,2012,2009,2009,2009,2017,1974,1974,1996,1996,1996,2021,2021,2017,2001,2001,2001,1991,1991,1991,2004,2004,2020,2020,2020,2013,2013,1965,1991,1991,1991,1979,1979,1979,2014,1995,1999,2002,2002,1989,1989,2001,2001,2001,2006,2006,2006,2017,2017,2017,1977,1977,1952,1952,2009,2009,2009,1985,1985,1985,2006,2006,2006,2019,1973,1979,1979,1979,2001,2001,2001,1951,1951,1951,1980,1980,1980,2019,2019,1966,1966,1966,1954,1954,1954,1977,1977,2017,1953,2015,2015,2015,2015,2015,2020,1984,1984,2009,2009,2009,2010,2010,2010,1997,1986,1986,2015,2011,2011,2011,1994,1994,1967,1967,1967,2016,1975,1975,1954,1954,1954,1958,1958,1936,1972,1972,1972,2020,1961,1978,1978,1978,1977,1977,1977,2019,2019,1990,1952,1952,1952,2013,2001,2001,2001,1974,1974,1990,2014,2014,1986,2001,2001,2001,2021,2021,1966,1966,1986,1986,2005,1967,1967,1967,2016,2016,2017,1973,1973,1973,1971,1971,1952,1952,1952,1977,1977,1959,1959,1959,1993,1993,1993,1975,1975,1999,1953,1953,1953,2016,2016,2003,2003,2003,1949,1949,1949,1971,1971,1994,1994,1994,1994,1994,1994,1990,1990,1985,1985,1985,1983,1983,2018,2018,2018,1975,1975,1975,1986,1986,1984,1984,1995,1995,1995,1992,1992,1992,1996,1996,1998,1998,1998,2011,2011,1982,2005,1995,1995,2020,2020,2015,2015,1960,1960,1960,1952,1952,1952,1973,1973,1973,1967,1967,1967,1987,1994,1994,1969,2010,2010,2010,2005,1969,1969,1969,2003,2003,2003,2009,2009,2009,1985,2006,2006,2006,1968,1968,1968,2013,2013,1997,2013,2013,1974,1986,1986,1993,1993,1993,1946,1946,1946,1982,1978,1978,2016,1971,1992,1992,1975,1975,1975,1989,1982,1972,2000,2000,2006,1948,1948,1948,1973,1973,1968,1968,1968,1962,1962,1962,2002,2002,2002,1969,1969,2008,2008,1991,2021,1994,2006,2006,1971,2003,1966,1966,1972,1960,1960,2006,2006,1977,1977,2007,2007,2007,2015,2015,2015,1993,2005,2005,2005,2010,2010,2010,2007,2007,1960,2006,2006,2006,1977,1977,2007,2007,1996,1996,1975,1975,1975,1980,1980,1980,1975,1975,1972,1972,1972,1974,1957,1964,1964,1964,1969,1969,1969,1994,1983,1983,1985,1985,1985,2001,2001,2001,1999,1999,1999,2019,2019,2012,2012,2012,1953,1953,2003,2003,2003,1996,1996,2010,2010,2010,1967,1967,1983,1983,1982,1982,2019,2019,2019,1978,1988,1988,2006,2006,2006,1950,1950,1965,1965,1965,2004,2004,2004,2012,2012,2018,2018,1984,1984,1984,1993,1993,1952,1952,2017,2010,2018,2001,2001,2001,1986,1962,1962,1962,2000,2020,2012,2012,2018,2020,2005,2005,2005,2007,1990,1990,1978,1978,2020,2010,2020,2020,2013,2013,2013,1968,1968,1993,1998,1998,1998,1979,1979,1979,2007,2013,2013,2013,1940,1967,1967,1988,1998,2016,2016,2010,1997,1997,1997,1978,1987,1987,1987,1986,1986,1986,2017,2017,1983,1951,1951,1951,1990,1984,1984,1984,1964,1964,1964,2002,2002,2002,2007,2007,2007,2020,2016,2019,2019,1969,1969,1982,1964,1964,1991,2000,2000,2000,2001,1955,1955,1955,1978,1978,1978,1990,1990,1940,2016,2016,2016,2017,2012,2012,2012,2017,2021,2021,2018,2018,2018,2009,2009,2009,2006,2006,2006,1999,1999,1999,2017,2017,2017,2000,2000,2000,2016,2016,2016,2018,2018,2020,2020,2020,1990,1990,1990,2001,2017,2019,2015,1990,1990,1990,1955,1955,1955,2016,2016,2016,2017,2017,1957,1957,1957,2018,2012,2012,2012,1986,2013,2013,1962,1962,1962,1953,1953,1953,2003,2003,2018,2018,2018,1951,1951,1951,1968,1968,1968,1984,1995,1995,1995,1993,1993,1993,1972,1972,1972,2014,2014,2014,1985,1985,1950,1986,1985,1985,2017,2017,2017,2015,2015,2008,2008,2008,2005,2005,2005,2008,2008,2008,1970,1970,1970,2017,1984,1984,2003,2009,2009,2009,1973,1973,1973,1951,1951,1966,1966,1966,2000,2000,2000,1978,1978,1983,1983,1983,1999,1999,1999,1989,1998,1998,1998,2018,2018,2002,2002,2002,1987,1993,1993,1969,1969,1969,1945,1945,1986,1974,2019,2019,2019,1980,1980,2015,2015,2015,2014,1982,1982,2010,2010,2010,1998,2016,2016,2015,2015,2019,1971,2017,2017,2017,2013,1989,1982,1982,1938,2003,2003,2019,1990,1951,1966,1966,1967,1967,1968,2019,1941,1967,1967,1967,1965,1965,1985,1964,1954,1954,1954,2020,2020,2020,1952,1952,1952,2021,2013,2013,2013,2015,2015,2015,1976,2015,2015,2015,1996,1996,2015,2017,2019,1985,1985,1971,1976,1976,1976,2012,2017,1968,1992,1992,2014,1968,1968,1968,2020,2006,2006,2009,1997,1973,1973,1962,2010,2010,2010,1990,1990,1990,1998,1998,1998,1969,1969,1969,1983,1983,1973,1973,1992,1957,1957,1963,1963,1963,1955,1955,1955,1980,1980,1980,1994,1994,1994,2013,2013,2014,2014,2014,2015,2015,1991,1991,2016,2016,2016,2017,2017,2017,2021,1950,1955,1955,2009,2009,2009,2005,2005,2004,2004,2004,2015,2015,2015,2012,2012,2012,1959,2015,2015,1976,1976,1976,1998,1998,1998,2019,2019,1949,1949,1949,1995,1995,1981,1981,1960,1960,1960,1998,2006,2006,2006,2001,2001,2001,1942,1942,1960,1960,1960,1956,1956,1956,1981,1981,2019,2019,2019,1979,1979,2019,2018,1989,1989,2000,1972,1972,1972,1950,1950,1949,1949,1982,1982,2014,2011,2011,2011,1993,1993,1993,1993,1993,2013,1962,1962,1962,1989,1989,2016,2016,2016,2017,2017,2017,2017,2005,2016,2016,2016,1972,1972,1983,1983,1992,1992,1992,1982,1982,1974,1974,1974,1999,1999,1999,1964,1964,2001,2001,2010,2010,1985,1985,1980,1980,1980,1981,1981,1981,1978,1978,2013,2013,2013,1992,1992,1983,1983,1997,1997,1994,1994,1969,1964,1964,1964,1952,1952,1995,1995,2005,2005,1985,1985,1992,2017,2014,2014,2014,1960,2015,2015,2015,2013,2013,2013,2017,2017,1982,1982,2015,2015,2015,2015,2015,2013,2013,2013,2018,1991,1991,1991,1957,1961,1961,2018,2018,2013,1956,1956,1956,2006,2006,2006,2001,2005,2005,2005,2005,2005,1986,1986,1970,1985,1985,1985,1994,1997,1997,1969,1969,1997,1972,1972,1972,2000,2000,1959,1959,1956,2001,1994,1994,1994,1996,1996,1996,1980,1980,1980,1979,1979,1979,1976,1976,2001,2001,2017,2017,2017,2020,2020,2020,1976,1976,2017,2019,2019,2019,2002,2002,2002,1942,1942,1942,2017,1985,1985,1985,2018,2018,2018,2010,2010,2010,1981,1981,1998,1988,2003,1982,1965,1965,1965,2007,2007,2011,2011,1935,2011,2011,2011,2016,2012,2012,2012,2018,1984,2001,1958,1958,2007,2007,2007,2017,2017,2017,2003,2003,2003,2010,2010,2010,1965,1965,1965,1999,2012,2012,2012,2020,2020,2020,2014,2014,2014,2008,2008,2008,1963,1999,2014,2011,2011,2011,2018,2016,1989,1989,1989,2011,2011,2011,1977,1969,1969,2000,2000,2000,1974,1974,1974,1937,2007,2007,2007,2012,2000,1982,1982,1982,1989,1989,1989,2009,2009,2018,1963,1963,1963,2011,2011,2011,1980,2013,1984,1984,2001,2017,1966,1954,2017,2017,2017,2019,2012,1966,1988,1988,1999,1999,1999,1981,1981,2005,2008,2008,2008,1959,1959,1959,2004,2004,2004,2015,2015,1971,1971,1971,2020,2019,2019,1973,1973,1973,2005,2005,2005,2018,2018,2019,2019,2012,2012,2012,2009,2009,2009,2017,2017,2017,2009,2013,2013,2013,1963,2005,2005,2005,1973,1973,1973,2014,2014,2014,2005,2011,2011,2011,2017,2017,2012,2012,1992,1992,1992,2016,2016,2014,2011,2009,2009,2009,1993,1993,1960,1960,1960,2019,2019,2019,1980,1980,1998,1998,1998,2019,2019,2019,2013,2008,2008,2008,1972,1972,1972,2015,2015,2015,2001,2001,2003,2003,2001,2001,2001,1954,1954,1954,1997,1997,1997,2002,2013,2013,2013,2021,1965,1961,1961,2018,1968,1968,1968,2010,2010,2010,2011,2011,2011,2015,2015,2015,2004,2004,2004,2018,2018,2018,2015,2015,2015,2001,2011,2017,2017,2017,2016,2016,2007,1971,1971,1971,2016,2016,2016,1966,1966,1966,2000,2000,2020,2020,2020,2018,2014,1976,1976,1976,2005,2005,2013,2013,2013,2012,2010,2010,2010,2015,2020,2020,2005,2005,2005,2005,2005,2019,2019,2019,2008,2008,2008,2005,2005,2005,1956,1956,1956,1967,1967,1967,2019,2019,2019,2013,2003,2003,2003,2015,2000,2000,2000,2017,2007,2007,2007,1986,1986,1991,1991,2020,2020,2020,1986,1971,1971,1971,2009,2009,2019,2019,2019,2007,2007,2007,2009,2009,2009,2015,2012,2001,1996,1996,2005,2005,2005,1989,1989,1989,2003,2012,2012,1994,1994,1994,1977,2012,2012,1985,2016,2014,2014,1977,1977,1977,1997,1997,1997,2019,2019,2004,2007,2007,2007,2007,2007,2007,1977,1977,1977,1981,2012,2012,2012,2012,1978,1978,1978,2014,2009,2009,2009,2015,2000,2000,2012,2012,1977,1977,1977,2011,2011,2003,2016,2012,2011,2011,2002,2002,2002,1977,1977,2003,2003,1976,1976,1958,1958,1958,2020,2020,1992,1992,1992,2003,1986,1986,1986,2008,2008,2008,2000,2000,2000,2019,2019,2019,2010,2010,2010,1959,1965,1965,1965,2005,2005,2006,1967,1967,1967,2005,1969,1999,1967,1989,1989,1989,2001,2001,1948,1993,1993,1993,2007,2007,2007,1935,1984,2002,1957,1957,1957,1980,1961,1961,1955,1955,1955,1975,1976,1976,1976,2004,2004,2004,1974,1974,2015,2010,2010,2010,2013,2013,1981,1981,1981,1983,2011,2011,2011,2017,1994,1994,1994,2014,2018,2007,2007,2007,2017,2017,2017,2015,2005,1981,1981,1981,1992,1965,1965,2013,2013,2013,1970,2005,1981,1981,1981,1977,1977,1977,2020,2020,1960,1960,2020,2020,2019,1952,1952,1961,1961,2019,2019,2007,2007,2012,2012,2012,2013,2016,2013,2013,2013,2019,2019,2019,1998,1998,1998,1996,1961,1961,1961,1996,1996,1996,1959,1971,1971,1976,1976,1967,1967,2001,2001,2001,2016,2016,2016,2019,2005,2005,2005,2018,2018,2018,2016,2014,2014,2014,2011,2011,2011,1998,1998,1998,1962,1962,1962,2015,2006,2006,2006,2006,2009,2009,2020,2020,2016,2019,1976,1976,2011,2011,2011,2012,2012,2012,2005,2005,2005,2020,2000,2019,2019,1993,1993,1993,2015,1954,1954,2013,2013,2013,2002,2002,2002,1974,1974,1974,1990,1990,1977,1977,1977,1956,1956,1956,2003,2003,2003,1972,1972,2001,2001,2001,1975,1975,1975,1982,1982,1980,1975,1975,2003,2020,2019,2019,1974,1997,2016,2016,2006,2006,2006,1975,1975,1975,2003,2003,2003,2003,2003,2003,2015,2014,2014,2010,2010,2020,2020,2020,1989,1989,1989,2010,2010,2010,2013,2016,2016,2016,2012,2012,2012,2015,2008,2008,2008,2006,2020,2020,1988,1988,1988,2013,2013,2013,2017,2017,2017,2019,2019,2019,2002,2002,2002,1974,1974,1974,1986,2021,2021,2008,2008,2008,2020,2009,2009,1983,1983,1983,1995,1995,1995,1991,1991,1991,2020,2020,2020,2006,1992,1992,1992,2014,2020,2000,2011,2011,2011,2016,2016,2014,2014,2014,1994,1994,1994,2010,2010,2010,2016,2016,2016,1992,2011,2011,2019,2019,2005,2005,2005,2021,2021,2021,1997,1997,1997,1966,1966,1966,1953,1952,1952,1973,1973,1973,1999,1999,1999,1964,1964,2012,2005,2005,2018,2018,1997,1997,1997,2019,2014,2014,2014,2010,2010,2010,2010,2010,2010,2012,2012,2012,2019,2019,2019,1987,1987,1979,1979,1979,1999,1980,1980,2017,2017,2017,2009,2009,2017,1975,1975,2015,2015,2015,1998,1950,1999,1999,1999,1986,1986,1977,1977,2000,2000,2000,2000,2000,2000,2000,1993,1993,2011,2011,2011,1978,2011,2011,2011,1993,1993,1985,1987,1987,1987,1997,1997,1995,1995,1995,1991,1991,1991,1998,2016,2016,2016,2012,2012,2012,2019,2019,2005,2018,1996,1996,1996,2020,2020,2020,1982,2005,1988,2019,2019,2007,2007,2007,1997,2003,2006,1949,1949,1949,1970,1970,1993,1993,1993,2014,2014,1978,2002,2006,2006,2006,2008,2008,2018,2018,1972,1972,1972,1996,1996,1970,1950,1950,1950,2008,2008,2001,1997,1997,1997,1982,1982,1982,1992,1992,1992,2013,2013,2013,1975,1988,1988,1988,2017,2016,2013,2013,2009,2009,2009,2019,2019,2019,2008,2008,2008,2016,2016,2006,2006,2016,2016,2017,2017,2018,2014,2014,2016,2016,1987,2014,2014,2014,1992,1992,1951,1951,2001,2001,1976,1976,1976,1975,1975,1975,1992,1992,1992,2013,2013,2013,1997,1997,1990,1990,1990,1987,1987,2000,2000,2005,2005,2005,2002,2002,2002,2007,2009,2009,2009,1957,1957,2014,1985,1985,2018,2011,2011,2011,2011,2011,2012,2012,2012,2009,2012,2012,2012,2012,2007,2007,2007,2002,1980,2008,2008,1982,1982,1982,1991,1991,1991,2011,2011,2014,1958,2015,2015,2015,2009,2009,2009,2004,2009,2009,2005,1966,1966,1966,1978,1978,2002,2002,2002,1936,1936,1955,1955,1955,2002,2002,2002,2019,2004,2004,2004,2019,2019,2019,2019,1956,1956,1998,2018,2000,2000,1997,1997,2018,2018,2000,2000,2006,2006,2006,2007,2007,2007,1973,1973,1973,1980,2007,2007,1993,1993,1993,1981,1981,1981,2008,2008,2016,1975,1975,1991,1991,2015,1977,1977,1977,1992,1992,1986,1986,1986,1997,1997,1975,1975,1975,1961,2011,2011,2011,1950,1950,2017,2017,2001,2001,2020,2010,2007,2007,2007,2007,2007,2007,1951,1951,1979,1979,1979,1959,2004,2004,2004,2006,2006,2006,2013,2013,2013,2008,2008,2008,2009,2009,2003,1975,1989,1989,1981,2002,2002,2002,1973,1973,1973,2003,2003,2003,2019,2019,2019,1982,1982,1982,1940,1940,2012,1989,1989,1991,1990,1990,1990,1992,1992,1978,1978,1978,1968,2020,2020,2020,2009,2009,2009,2001,2001,2001,1959,1959,2015,2015,2015,1974,1974,1966,1966,1966,2006,2006,2006,2007,2007,2007,1963,1963,1963,1993,1993,1993,1991,1991,1991,2002,2002,1963,1963,1963,1992,1992,2005,2005,2017,2018,2018,1992,1992,2003,2003,2003,2014,2014,2014,2008,2008,2005,2005,1993,1993,1999,1999,1999,2004,2004,2004,2004,1967,1967,2003,2003,2000,2016,1998,1998,1993,1993,1993,1962,1962,1996,1996,1997,1997,1997,2011,2011,2011,2016,2016,1987,2002,2002,2002,1982,1994,1994,1977,1977,1977,1953,1987,1987,1996,1996,1996,1947,1947,1999,1999,1999,1966,1966,1966,2015,2015,1950,1950,1950,1986,1986,1986,1994,1994,1994,2015,2015,2015,1995,1995,1980,2016,2016,2016,2015,1982,1982,1982,1990,1990,1990,2014,2014,2016,2016,2016,1984,1984,1993,1993,1967,1967,1976,1957,1957,1957,1980,1980,1980,1969,1969,1969,1953,1971,1971,2015,1982,1982,2010,2010,1968,1968,1972,1975,1975,1968,1968,1968,2009,2009,2016,2016,2016,1978,1978,1978,1974,1974,1998,1958,1958,1974,1974,1974,1980,1980,1989,1989,1969,1969,1971,1977,1959,1959,1959,1988,2014,2017,2017,2004,2004,1940,1969,1969,1998,1998,2015,2015,2019,2019,2019,2019,2006,2006,2006,1978,1978,1978,2011,2011,2011,2008,2008,2016,2016,2016,2006,2006,2006,1990,1990,1990,2017,1964,1964,1971,1964,2020,2020,1977,1977,1977,1983,1983,2006,2007,2007,2007,1974,1989,1964,1964,1964,1986,1986,2019,2005,2005,2005,2011,2011,2011,2018,2015,2014,1947,1947,1947,1999,2013,1931,2014,2014,2019,2019,2009,2009,2009,2013,1990,2015,2015,2015,2019,2019,2019,1994,1994,1992,1992,1992,2003,1994,1994,2015,1949,1949,1964,1964,1964,2010,2010,2010,2016,2016,2016,1967,1967,1967,2000,2000,2000,1977,1977,1977,1998,2003,2003,2003,2015,2015,2015,2011,2011,2011,1984,1984,1979,1979,1937,2015,2015,2010,2010,1998,1998,1998,2002,1983,1983,1983,2002,2020,2020,2007,1966,1966,1966,1976,1976,1976,2010,2010,1998,1998,1998,1990,1990,1957,1996,1992,1992,1995,1995,1995,1971,1973,1973,1973,2009,2009,2009,1998,1998,1998,2014,2012,2012,2001,2001,2019,2019,1994,1994,1994,1989,1989,1989,2001,2001,2019,2019,2019,1946,1946,2018,1972,2005,2005,2005,2000,2003,1981,1981,1986,1986,1978,1978,1983,1980,1980,1980,1980,2020,1972,1972,1986,2007,2007,2007,2002,1985,1985,1963,1963,1963,2003,1989,1990,1990,1981,1981,1981,1957,1991,2017,1972,1972,1972,2004,2004,2004,1981,1981,1981,1993,1992,1992,1983,1983,1968,1968,1968,2005,2005,2005,2007,2007,1992,1992,2019,2019,2019,1986,2012,2012,2012,1970,1990,1990,1990,1971,1971,1971,2015,2015,2015,1986,1960,1960,1960,1969,1969,1969,1968,1968,1968,1963,1957,1957,1957,2020,2020,1965,1965,1965,1976,1976,1976,2004,2004,2009,2009,2009,1969,1969,2000,2015,2018,2018,1996,1996,2012,2012,2012,2013,2013,2013,1949,2009,2008,2008,2009,2009,2009,1956,2012,2012,2018,2014,2007,2007,2007,2019,2019,2019,2019,1994,1994,1994,1971,1971,1971,2005,2005,1947,2008,2008,2008,1984,1984,2005,2005,2005,2002,2002,2020,2020,2012,2012,2012,2003,2003,2003,2007,2007,2007,2018,2001,2001,2001,2020,2020,2020,2015,2015,2015,2011,2011,1985,1985,2019,2019,2013,2013,2013,1976,1976,1976,1988,1988,1988,2019,2019,2019,2019,2019,2006,2006,2006,2017,2016,2016,2016,2006,2006,2006,1975,1975,1975,1965,1965,1983,1983,1996,1996,1996,2005,2005,1977,1977,1967,1967,1967,1989,1957,1957,2008,2008,2009,2009,2009,2019,2019,1933,1933,1943,2012,2012,2012,2021,1963,1963,1963,2016,2016,2016,2012,2012,2012,1954,1954,2016,2016,2004,2004,2004,1981,1981,1981,2006,2006,2002,2002,1983,1983,1983,2005,2012,2019,2014,2014,2014,2008,2008,2008,2017,2017,1996,1996,2013,2013,2021,2010,2013,2013,2015,2015,1991,1990,1990,1990,2016,2016,2000,2000,2000,2014,2017,2017,2017,2021,2021,2016,2007,2007,2007,2007,1953,1953,1953,2020,2020,2003,2003,2003,2011,2011,2011,2016,2016,2016,2007,1959,2015,2015,2015,2012,2009,2009,2009,2019,2019,2016,2016,2016,2016,2018,1980,1980,1980,2008,2008,2008,2007,2009,2009,2009,2018,2018,2016,2016,2014,2014,2013,2013,2013,2020,2020,2020,2017,1960,1960,1960,2005,2012,2017,1973,1973,1966,1966,1966,2015,2015,2015,2007,2001,2001,2001,1995,1995,1995,2006,1999,1999,1989,1989,1989,2000,2000,2004,2012,2012,2012,2009,1978,2004,2004,2004,1971,1971,1971,1995,1995,1995,1993,1993,1993,2011,2011,2011,2007,2007,2007,2017,2017,2017,2018,1982,1982,1982,2011,2011,2011,2007,2007,2007,2016,2016,2016,1986,1986,1986,2000,2000,2000,2014,2014,2016,2006,2006,2006,1980,1978,1978,1983,1988,1988,1988,2003,2003,2003,2013,2013,2012,2012,2012,2006,2006,2006,1984,1984,2018,1972,1972,1972,2005,1955,1972,1972,1972,2005,2018,2018,1993,1993,1993,1974,2011,2014,1968,1968,2007,2007,2007,2016,1979,1979,1979,2002,1989,2004,2004,2004,1992,1975,1975,1975,1993,1980,1980,1973,1973,1973,2002,2002,2002,1986,2018,2018,1989,1989,1989,1985,1985,2008,2008,2008,2013,2013,2013,1978,1978,1963,1963,1998,1998,1998,1985,1984,1988,1988,1970,1970,2004,2004,1990,1992,1992,1989,1967,1987,1987,1948,1948,1988,1988,1988,1961,1961,1961,1977,1977,1998,1976,1976,1996,1996,2008,2008,1990,1990,1990,2016,2016,2016,1982,1982,1982,1992,1992,2019,2019,2020,1997,1997,1997,2012,2019,2019,2020,2020,1998,1998,1998,1973,1973,1956,1956,1997,1997,1997,1985,1985,1981,1981,2007,1984,2020,2020,2020,2013,2013,2004,2000,2016,2007,2007,2007,2013,2013,2013,1968,1968,2019,2008,2008,2008,1963,1983,1999,1999,1999,2018,2018,2018,1968,1968,1968,2010,2010,2010,2010,2010,2017,2017,2017,2008,2008,2008,2006,2006,2006,2019,2019,2007,2007,2019,2008,2008,2008,1989,1989,1989,1959,1959,2013,2013,2013,1979,1970,1970,1970,1994,1994,1994,1982,1982,1948,1972,1972,1972,2013,2013,2013,2015,2015,1993,1993,1993,2017,2001,2001,1963,1963,2013,2013,2013,2016,2016,2016,2012,1979,1979,1971,1971,1971,1995,1995,2015,2015,2015,1997,1997,1997,2017,1965,1965,1965,2020,2020,2020,2020,2020,2014,2014,2009,2009,2009,2012,2020,2020,2019,2019,2019,1965,1965,1965,2008,2008,2019,2019,2019,1963,1963,1993,1993,1993,1993,1993,2002,2002,2002,1970,1967,1990,1988,1969,1969,1969,1998,1998,1998,1995,2014,2014,2014,1995,1961,1961,1961,2020,2020,2020,2020,2019,2019,1997,1997,1997,2016,2016,1989,1980,1980,1980,2003,2007,1988,1988,2010,1981,1981,1993,1993,1993,1969,2015,2015,2015,2010,2010,1962,2008,2008,2002,2002,2002,2003,2003,2003,2011,1974,1974,2002,1971,1971,1971,1982,1982,1982,1995,1995,1995,1986,1986,1986,1990,1990,1990,2020,2000,2000,1998,2014,2016,2015,2014,2014,2014,2011,2011,1984,1984,1984,1977,1977,1977,2020,2020,2020,1956,1956,1956,2017,2017,2021,2021,1962,1962,1962,2018,2018,2008,2008,1996,1996,1956,1978,2000,2000,2000,1985,2018,2018,2018,2015,2015,1997,1997,1997,2018,1967,1967,1967,1963,1963,1944,1944,2004,2004,2004,1979,1979,2012,2019,1984,2005,2017,2017,1974,2019,2019,2016,2016,2014,2014,2020,2020,2011,2011,2014,2014,2014,2018,1964,1964,1964,1985,1985,1995,1995,1995,1991,2000,2000,2000,1979,1979,1979,1950,2018,2015,2015,2020,2020,2020,1967,1967,1967,1971,1971,1976,1976,1976,1982,2004,2004,2008,2008,2008,2000,2000,1962,1962,1962,2014,2014,2018,1999,1999,1999,1968,1968,1968,1971,1971,1971,1993,2012,2012,2014,2014,2015,2015,2018,2018,2018,1967,1989,1989,2002,2002,2002,2007,2007,2007,1988,1988,1988,2004,2004,2004,1998,1991,2011,2011,2011,2020,2004,2003,2003,2003,2014,2014,2014,2015,2015,2004,2004,2004,2003,2003,1968,1998,2003,2014,2014,2014,1970,1970,1970,1992,1992,1999,1999,1999,1982,2018,2008,2008,1999,1999,1999,2021,2010,2010,2010,2010,2016,2016,2016,2010,2010,2010,2010,1991,1991,1991,1976,1976,1976,2000,2000,2000,1964,1983,1983,1983,2015,2015,2015,1998,1998,1998,1988,1988,1988,1997,1997,1997,2008,2008,2008,2012,2014,2014,2015,2015,2015,2000,2000,2000,2018,2007,2007,2018,2018,2010,2010,2010,1987,1987,2018,2014,2014,2014,2008,2008,1965,1965,1965,1970,1970,1970,1996,1996,1996,1987,1987,1987,1996,1996,1983,1983,1983,1998,2013,2013,2013,2017,2017,2017,2017,1973,1973,1973,2002,1977,1987,1987,1987,2010,2010,2010,1988,1988,1988,2004,2004,2004,2015,2015,1999,1999,1999,1985,1985,1970,1970,2014,2014,2003,2003,2005,2005,2020,1973,1973,1973,1992,1992,2007,2007,2007,2018,2018,2018,2017,2013,1985,1985,1985,2011,2011,2011,2006,1999,1999,1999,1981,1981,2017,2018,2018,2018,2018,2018,2016,2016,2019,1991,2000,2000,2009,2010,2010,2012,2012,2012,2016,2016,2016,2019,2019,2019,1958,1958,1999,1987,1987,1995,1995,1995,1971,1971,1971,2004,2004,2004,2008,2008,1991,1991,1991,1999,1999,1994,1994,1994,1989,1989,1989,2019,1999,1999,1999,1985,1985,1985,1961,1961,1961,1995,1995,1995,1946,2014,1994,1994,1994,1993,1993,1993,1993,1993,1993,2001,2001,2001,2004,2004,2004,2002,2002,2002,1977,1977,1977,1951,1980,1980,1980,1985,1985,1980,1980,2002,2002,1999,1999,1995,1995,1995,1983,1990,1990,1990,1988,2000,2000,2000,2004,2004,2004,2010,2010,2010,2005,1971,2015,2015,1999,1999,1999,2011,2011,2011,2002,2002,1945,1945,2019,2019,2019,2003,1980,1980,1980,2006,2006,2006,2006,2007,2014,2014,2014,2002,2002,2002,1983,1974,1974,1974,2014,2014,2014,2003,2003,2003,2015,2015,2018,2018,2018,1998,1998,1998,2006,2019,2004,2004,2004,2010,2010,2010,2019,2010,2010,2010,2015,2015,2020,2020,2015,2018,2018,2018,2005,2013,2010,2010,2010,2020,2015,2015,2006,2006,2006,2013,2013,2013,2012,2018,2018,2014,2014,2014,2010,2010,2017,1994,1994,1989,1989,1986,1986,1954,1954,1954,2007,1974,1987,1987,1987,1977,1977,1994,1994,1994,1974,1974,1994,1994,2012,2017,2017,2003,2003,2003,2001,2001,2001,2015,2015,2015,2015,2015,2015,2019,2019,2019,1996,2020,2020,1958,1932,1932,1989,1989,2017,2017,1977,1977,2013,2013,2013,1984,1984,1984,1935,1966,1966,1966,1994,1994,1986,1986,1997,1997,1997,2004,2004,1982,1982,1982,1959,1959,1959,1974,1974,1980,1980,2005,2005,2005,1994,1994,1994,1955,1955,1955,1987,2012,1991,1991,1991,1991,1991,2018,1969,1969,2003,2003,2003,1992,1992,1992,2001,2001,2004,2004,1974,1974,1999,1999,1999,1973,2005,2005,2006,2006,2017,2017,2017,1996,1996,2019,1964,2008,2012,2012,2012,2013,1974,1974,2013,2013,1997,1997,1997,2016,2004,2017,2017,2015,2015,1994,2018,2018,2018,2003,2003,2015,2018,2018,2010,2010,2010,1992,1992,1992,2010,2010,2010,2017,2017,1998,1998,1998,2015,2013,2013,1962,1962,2003,2003,2003,2010,1987,1987,1997,1997,1997,1981,1981,2014,2014,2014,2012,1969,1969,1969,2001,2001,2001,2017,2017,2017,1968,1968,1991,1991,1990,1990,1990,2017,1989,1989,2004,2004,2004,1993,1993,1952,1952,1967,1967,1967,1969,2003,2003,2003,1960,1960,1960,1996,1996,1996,1987,1975,1985,1990,1992,1992,1992,1992,1992,1992,1999,1999,1983,1983,1983,2006,2006,2006,1998,1998,1998,2010,2010,2010,2018,2008,2008,2008,1971,1976,1976,1976,2006,2006,2006,1983,1983,1983,1979,1979,1979,2002,2002,2002,2015,2015,1999,1999,1999,1972,1972,1972,1989,1989,2017,2017,2017,1965,1965,1961,1961,1961,1963,1963,2012,2012,2016,2007,2007,2007,1967,1967,2019,2019,2019,2018,2018,2013,2013,2019,1977,1977,1978,2017,2017,2017,1984,1984,1984,2001,2001,2001,1955,1955,1955,2007,2007,2007,1969,1969,1999,2019,2016,2016,2014,2014,2015,2015,2007,2007,2007,2015,2015,2015,1994,1994,1951,2020,2020,2020,1975,1975,1990,2009,2009,2009,1995,2009,1973,1973,1989,1989,1977,1977,1977,2003,2003,2003,2013,1980,2018,2018,1995,1995,1977,2012,2012,2012,1987,1987,2021,2021,1950,1950,1995,1995,1994,1994,2006,2006,2003,2003,2003,1986,1986,1972,1972,2016,2012,2012,2012,1936,2012,2012,2012,2018,2008,2008,2008,1979,1979,1979,1965,1965,1985,1985,1985,2009,2009,2009,2017,1984,1984,1984,2020,2020,1970,1970,1970,1942,1968,1987,2006,2006,2006,1989,1959,1990,1990,2013,2013,2013,2015,2015,2015,1980,2012,2012,2012,2017,1992,1992,2002,2002,1991,1979,1990,1990,1981,1969,1969,1984,1996,1996,1983,1986,1986,1986,1991,1982,1982,1990,1990,1976,1976,1970,1970,1970,1936,1997,1997,1997,1967,1967,1967,2018,2018,2019,1955,1955,1955,2003,2003,2003,1953,1953,1953,2012,1973,1973,2019,2019,1941,1962,1962,2007,2007,2007,1998,1998,2010,2010,2010,2019,1985,1991,1991,1961,1961,1961,1964,1964,2017,1938,1938,2014,1991,1991,1969,2006,2017,2000,2000,2000,1960,1960,1960,2003,2003,2003,2012,2012,2012,2005,2005,2005,2011,2011,2011,1992,1992,1992,2008,2008,2008,1999,2012,2012,2012,2001,2001,1950,1950,1950,2003,2003,2005,2005,1967,1967,1967,1966,1966,1966,1971,1965,1965,1965,2013,2013,2013,1980,1980,1980,2007,2007,2007,1957,1957,1982,1982,1970,1970,1970,2012,2012,2012,2013,2013,2017,2017,2000,2000,2000,2019,2000,2000,2000,1973,1973,1989,1989,1989,2007,2007,2007,2007,2007,2007,1994,1994,1968,1997,1997,1997,1980,1980,1997,1997,2019,2019,2019,1997,1997,1997,2017,2017,2016,1973,1973,1973,1975,1975,1975,2004,2004,2017,2017,2017,2019,2021,1996,1996,1996,2000,2000,2000,1989,1989,2000,2000,2000,1998,1961,1961,1961,2019,2019,2019,2017,1979,1992,1992,1992,2016,2016,1990,1990,1990,2005,2005,2005,1979,1979,1996,1989,1989,2019,2007,2007,2007,1983,1983,1983,1980,1980,1980,2000,2000,1944,1944,2019,1981,1980,1980,1980,2017,2017,2017,2002,2021,2021,2021,1987,1987,2013,2013,2021,2021,2021,2015,1959,2017,1965,1965,1965,2005,2005,2005,2018,2018,1979,1979,1979,1999,1999,1999,1975,1975,2018,2018,2020,2020,2020,2000,1981,1981,2010,2010,2010,2004,1975,1987,1987,1982,1982,2014,2014,2014,2020,1989,1989,2002,2002,2002,1990,1987,2015,2003,2018,1970,1970,1970,2021,2016,2016,2016,2006,2006,1994,1994,1994,2001,2001,2001,1998,1998,1998,1999,1999,1976,1976,2019,2019,2019,1963,1963,1988,2000,2006,2006,2006,1961,1988,1988,1988,2011,2011,1999,1999,1999,2006,2006,2019,2019,2019,1981,2017,2017,2017,1996,1996,1996,1998,1998,2019,2017,1990,2003,2003,2012,2012,2016,2016,2008,2008,1989,1981,1981,1973,1973,1968,1968,1968,2014,2014,2014,1963,2000,2000,2000,1984,1984,2013,2013,1999,2007,2007,2013,2010,2010,2010,2012,2012,2012,1971,1971,1971,1959,2003,2003,2003,1992,2009,2009,2009,2005,2005,2005,1960,1960,1960,1989,1989,1960,1960,1960,1986,1986,1958,1958,1958,1980,1977,1977,1977,1993,1993,1993,2019,2019,1951,1951,1980,1980,1980,2002,1959,1959,2018,1976,1976,1976,1996,1996,1948,1997,1981,2005,2005,2005,2001,2012,2012,2013,2013,2009,2009,2009,2009,2009,2009,1984,1989,1997,1963,1963,1963,1999,1999,2019,1949,1949,1959,1971,1959,1959,1959,1994,1994,2000,1960,1960,1960,1994,1994,1989,1989,1989,2019,1988,1988,1968,1968,2017,2013,2013,2013,2016,2016,2016,2005,2005,2005,1993,1993,1993,1994,1995,1995,1995,2014,1983,1983,1983,1998,1998,2018,1985,1985,1984,1984,2014,2014,1977,1977,1986,1986,1986,2009,2008,2008,2008,1985,2000,2000,1979,1979,2010,2010,2010,1999,1999,2014,2014,1978,1978,1978,2018,2018,2018,1980,1980,1980,2002,2002,2002,2008,2008,2008,2019,1992,1992,2005,1988,1988,1988,1984,1984,1993,1993,1974,1974,1991,1973,1973,1973,2018,2018,1964,1964,1964,2001,2001,2001,1957,1957,1983,1983,2018,1971,1971,1970,1970,1970,1981,1981,1981,2013,2013,2006,2015,2015,2015,2004,1987,1987,1991,1991,1991,2015,2015,2015,1997,1997,1997,1997,1997,1999,1999,1983,1959,1959,1983,1983,1993,1993,1993,2018,2018,1973,1998,1998,1998,2020,2020,2002,2002,2002,2016,2019,2019,2019,2012,2012,2020,2020,2020,1976,1976,1976,1984,2018,2004,2004,2004,1993,1993,1993,1976,1976,1976,2007,2007,2007,1993,1993,1993,2004,2019,2019,1986,1986,2017,2005,2005,1970,1970,2019,2019,1996,1996,1996,2015,2015,2015,2006,2006,2006,1942,1942,1979,1979,2019,2019,1965,1965,1984,1980,2007,2011,2011,1990,1990,1990,1988,1988,1978,1978,2010,2010,2010,2000,2000,2000,1989,1989,1958,1941,2018,1992,1992,1992,2003,2003,2003,1975,1975,1975,1977,1977,2016,2016,2008,2008,2010,2010,2010,2010,2010,1992,1992,1992,2000,2000,2000,2012,2012,1996,1996,1996,1968,1968,1970,1970,1970,1989,1989,2017,2017,2017,2012,2012,1999,1999,1999,2014,2014,1981,1981,1988,1988,1988,1991,1991,1991,1981,1974,1974,1996,1977,1977,1999,1989,1991,1999,2006,2006,2006,1958,1974,1974,1974,2015,2007,2007,1980,1980,1980,1992,1992,1992,2020,2020,2020,1983,2010,2010,2010,1982,1982,1994,1994,1994,1987,1964,1964,1964,1992,2005,1975,1975,2003,2003,2003,1997,2014,2014,2014,1980,1980,1980,2020,2003,2003,2003,2016,2016,2014,2014,2014,2008,2008,2008,2014,2014,2014,1992,1992,1992,1977,1977,1963,1963,1962,1962,1962,1993,1993,1993,1986,1986,2019,2019,2004,2004,2004,2015,2015,2017,2009,2009,2009,1974,1974,1974,1937,1990,1990,1990,1995,1995,1995,2004,2004,2008,2008,2008,1943,1956,1956,1956,2012,2012,2012,1986,1986,2005,2005,2005,2004,1978,2009,2009,2009,2019,2019,2019,1983,1983,1977,2010,2010,2010,2002,2002,2010,2010,2010,1960,1960,1960,1993,1993,1964,1964,1964,1991,1999,1999,1999,2005,2005,2005,2003,2003,2021,1976,1976,2005,2005,2002,2002,2002,2003,2003,2003,1986,1986,1978,1974,1974,1974,2020,1972,2001,2020,2020,2020,2014,2014,1997,1997,1997,1981,1981,1981,2002,2002,1997,1997,1997,1994,1994,1994,2010,2010,2010,2008,2008,2008,2018,2017,1993,1996,1996,1996,1997,2012,2012,2012,2004,2004,2020,2020,2020,1990,1990,1990,2000,2000,2000,1981,1981,1981,2006,2006,2006,2013,2013,2013,1993,1993,1993,2011,2011,2003,2003,2018,2007,2001,2001,2001,1998,1998,1998,2015,2015,2003,2003,2003,2018,2002,2002,2002,2018,2005,2005,2006,1981,1981,1981,1998,1998,1998,1987,1985,2014,2014,2017,2017,2017,1955,1955,1993,1993,2000,2000,2000,1974,1974,2007,1991,1991,1991,2009,2009,2009,2000,2000,2000,2008,2008,2008,2010,2018,2014,2014,2014,2000,2000,2007,2007,2007,2011,2011,2011,2002,2002,2005,2005,2016,2012,2001,2001,2001,2005,2005,2004,2004,2004,1994,1994,2011,2007,2007,2007,2019,2019,2019,2016,2016,2016,2017,2017,2017,1992,1992,1992,1981,1981,1981,1999,1999,1999,1966,2014,1981,2006,2011,2011,2011,1953,1975,1975,2010,2010,2010,2001,2001,2001,2006,2006,2006,2013,2017,2017,2017,1997,1997,2010,2010,2010,2021,2021,2021,1979,1979,2005,2005,1953,2018,2018,2001,2001,2001,1958,1958,2014,2014,2004,2004,2013,1984,1984,1984,1971,1971,1991,1982,2014,2004,2004,2004,1999,1999,1966,1978,1971,1960,2002,2002,2002,2012,1992,1992,1992,2010,2010,2010,1991,1991,1991,2016,2011,2011,2011,1989,1989,1989,2018,2019,2019,2013,2013,2013,2018,1967,1967,1967,1997,1997,1997,2010,1993,2020,2020,2020,2012,2012,2012,2012,1964,1964,1964,1939,1939,2008,2008,2014,2014,1990,1990,1990,2016,2016,2016,2002,2002,2002,2004,2004,2004,2009,2009,2009,2004,2017,2017,2013,2013,2013,1988,2017,2017,2017,2010,2007,2007,2007,2014,2014,2017,2012,2012,2007,2007,2019,2019,2018,2012,2012,2012,1939,1939,2012,2012,2019,2007,2007,2014,2014,2014,2016,2016,2016,2016,2013,2019,2001,2001,2001,2020,2020,2014,1996,1996,1996,1973,1973,2003,2003,2003,2015,2015,2012,2012,1987,1987,1987,1997,2019,2007,2007,2005,2005,2005,2009,2009,2009,2020,2020,2020,2009,2009,2012,2014,2014,2014,2017,2017,2017,2011,2011,2011,2020,2020,2013,2013,1993,1993,1993,2019,2019,1991,1991,1991,1986,1986,2020,2020,2009,2009,2009,2016,2017,2017,2017,2003,2003,1997,2011,2011,2011,2015,2011,2011,2009,2016,2016,2009,2009,2006,2006,2006,2004,2004,2004,1966,1966,1966,2006,2016,2001,2001,2001,2009,2009,2009,1989,1989,1959,2018,2018,2020,2020,2016,2016,2018,2021,2021,2021,1981,1981,1981,2008,2008,2008,2018,2011,2011,2018,2018,2018,2012,2012,2018,2018,2016,2016,2008,2010,2010,2010,2019,2019,2019,2009,2009,2009,2009,2015,2017,2017,2017,2014,2005,2005,2005,2020,2020,2020,2019,2019,2018,2018,2018,2018,2011,2011,2017,2012,2015,2015,2012,2012,2019,2014,2014,2014,2014,2014,2014,2014,2016,2016,2016,1962,1962,1962,1992,1992,1957,1957,1976,1976,1970,1960,1960,1986,1985,1999,2002,2002,1996,1996,1996,1964,2018,1980,1980,2008,2008,2008,1984,1995,1995,1995,2018,1984,1984,2017,2013,2013,2013,2021,2021,2014,2017,2017,2017,2016,2016,2016,2021,1994,1994,1994,1959,1959,2019,2019,2009,2009,1974,1974,1974,2004,2004,2004,2006,1958,1958,1958,2016,2016,2009,2009,2009,2015,2015,2013,2013,2013,2004,1996,1979,1985,1985,1985,1989,1989,1983,1983,1983,1981,1981,1981,1965,1965,1965,2013,2013,2013,2013,2013,2013,1985,1985,1985,1949,1949,1949,1970,1970,1970,1987,1998,1998,1998,2012,2012,2008,2008,2008,1990,1990,1990,2016,2007,2015,1969,1969,2013,2013,1957,1957,1995,1995,2005,2005,2005,2015,2015,2015,1981,1981,2014,2014,1983,1983,1989,1986,1962,1962,2004,2004,2004,2015,1994,1994,2013,2013,2013,2021,2003,2003,2003,1998,1998,1971,1971,1971,2014,2014,2014,1999,1978,1978,2017,2019,2019,1988,2005,2005,2005,2002,2002,2005,2005,2005,1987,2017,1991,1967,2021,1998,1998,1998,2001,2001,2001,2019,2019,2019,2006,2020,2020,2020,2010,2010,2010,1994,1966,1966,1969,1969,1971,1971,2004,1972,1972,1999,1973,1973,1973,1983,1983,1983,1983,1983,2005,2005,2005,2013,2013,1981,1981,2007,2007,2007,2019,2019,2019,2015,2015,2015,2014,2014,1976,1976,1976,1962,1962,1980,1980,2007,2007,2007,1974,1974,1974,2018,2018,2017,2017,1960,1960,1979,1979,1979,1974,2003,2003,2003,1984,1984,1985,1985,1985,1998,2018,2018,2014,2014,2014,2019,2019,2019,2014,2007,2007,2007,1955,1955,1955,2019,2019,2019,2003,2003,2019,2017,2002,1987,1987,2019,2019,2014,2014,2014,1971,1971,2015,2017,2014,2014,2002,2002,2002,1950,1984,1984,1984,2005,2005,2005,2020,2020,2020,2009,2009,2009,1983,1996,1996,1996,1986,1999,1999,1999,1991,1991,1991,1970,1970,1970,2001,1985,1985,1985,2004,2004,2004,2011,2011,2011,2017,2016,2013,2013,1985,1985,2013,2013,2003,1975,1975,2011,2011,2011,2018,1998,2003,1983,1983,2002,2012,2012,2012,2001,1993,1993,1993,1958,1958,1972,1954,1954,1954,2005,1975,1934,1983,1983,1976,2009,2009,2009,2018,2020,2010,2010,1942,1981,1981,1981,1979,1979,1992,2015,2015,1991,1991,2018,1982,1971,1971,1971,1976,1976,2008,2008,1998,1962,1962,1962,1967,2018,1948,1948,1948,1971,1971,2000,2000,2000,1997,1997,1956,1956,1956,1961,1961,1964,1964,2010,1971,2006,2006,1995,1995,1973,1992,1971,1971,1986,1968,1968,1970,1970,1989,1990,1990,1978,1978,1978,2020,1985,1966,1966,1966,1988,1984,1985,1985,2000,1971,1988,2008,2008,2008,1972,1972,2011,2011,2011,2013,2013,2013,1998,2012,2013,2013,1970,1970,1968,1968,1972,1972,1972,2006,2006,2006,2009,2009,2009,1963,1963,1963,2018,1992,1992,1965,1965,2002,2002,2002,1981,1981,1981,1984,1984,1969,1969,2004,2004,2004,1979,1979,2003,1985,1985,2006,2006,2006,2018,2001,2017,2017,2017,1989,1989,1989,2011,2011,2013,2013,2012,1967,1967,1967,2019,2019,1972,1972,1972,2010,2010,2020,2011,2011,2011,1975,1975,1975,2011,1999,1999,2010,2010,2010,1986,1986,2004,2017,2017,2017,1954,1954,1954,2017,1957,2016,2016,2016,1949,1949,1998,1998,1998,1936,1957,2012,2012,2012,1935,1989,2015,2015,2015,2016,2005,2005,2018,2018,2018,2016,2008,2008,2008,2000,2000,2000,2019,2019,2004,2008,2008,2008,2002,2018,2001,2001,1989,1989,2006,2006,2016,2011,2011,2011,2016,2016,2016,1985,1997,1997,1998,1965,1965,1997,1997,1994,1994,1994,2000,2000,2000,2015,2015,1984,2014,2009,2016,2016,2016,1994,1994,1994,1987,1987,2019,2001,2001,2001,2013,2013,2017,2017,2017,1972,1972,1972,2008,2008,2011,2011,2011,2015,2015,2015,2013,2013,2013,2001,2001,2001,2015,1970,1970,1970,2021,2004,2004,2009,2021,1999,1999,1957,1957,1957,1975,1975,2007,2007,2007,2014,2014,2014,2004,2005,2005,1955,1955,1955,1997,1997,1997,1994,1994,1994,1996,1992,1992,1992,2007,2007,2007,1987,1987,1987,1961,1961,1961,2017,1979,1979,1979,1996,1996,1996,1974,1974,1952,2010,2008,2008,2008,1957,1957,1957,1987,2015,2015,2015,1964,1964,1964,2017,1977,1997,1997,1997,1997,1997,2015,2015,2020,2020,2020,2015,2015,2015,2016,2016,2016,2015,2015,2015,2017,2017,2017,2017,2019,2019,2018,2003,1986,1986,1986,1983,1983,1963,1963,1963,2001,2001,1992,2011,2011,2011,2004,2004,2008,2008,2008,1988,1977,1977,1977,2018,1988,2016,2016,2016,2014,2014,2014,2015,2016,2008,2014,2014,2003,2003,2008,2013,2013,2013,2021,2021,2003,2003,2003,2005,2012,2011,2011,2011,2011,2011,1955,1955,1955,1972,2003,2003,2014,2017,2017,2017,1999,1999,1999,1979,1979,1979,1993,1993,1993,1978,1978,1987,1987,1987,1978,1978,2004,2004,2004,2011,2011,2011,2013,2013,2013,1957,2004,2004,2004,2019,2019,2019,2004,2004,1992,1992,2017,1993,1993,1995,1995,1995,2017,2015,2018,2005,2005,2020,2020,2013,2013,2013,1984,1984,1984,2006,2006,2006,2016,2007,2008,2008,2011,2011,2011,2017,2010,1970,2010,2005,2005,2005,2012,2018,2018,2015,2015,2015,2011,2002,2002,2002,2004,2004,2004,1992,1976,1972,1972,1972,1991,1995,1995,1979,1979,1986,1986,1986,2005,2005,2016,2016,1987,1987,2017,2017,1991,1991,1977,1994,1994,1994,2013,2013,1989,1971,1968,1982,1982,1948,2000,2000,1954,1954,1954,1976,1976,1976,1986,1986,1967,1967,2021,1973,1973,2005,2005,2005,1979,1979,1943,1981,1981,1981,1962,1962,2006,2006,2006,2010,2010,2010,2009,2009,2009,1996,1996,1996,1982,1982,1982,1973,2018,2018,2018,2007,2007,2007,2018,1982,1982,2010,2010,2010,2014,2007,2007,2007,1969,1969,1969,2018,2018,2018,2007,2007,2007,1955,1981,1981,1991,1991,2017,1963,1940,1978,1978,1981,1981,1981,1997,1997,1997,1986,1986,1992,2013,2013,1986,1986,1954,1954,1954,1969,1969,2015,1957,1957,1957,2011,2011,1962,1951,1999,1955,1955,1979,1979,1953,1953,1957,1957,1957,2013,2013,2013,2005,1959,1959,1959,2018,2018,1956,1957,1957,1957,1978,1978,1978,1974,1974,1990,1971,1971,2001,2001,2001,2003,1990,2005,1995,1995,1995,1961,1961,1961,2021,2005,2005,2005,1946,1947,1947,1947,1968,1968,1968,1957,2003,1966,1966,2016,2016,2016,1980,1980,2007,2007,2007,1990,2014,2005,2005,2005,1966,1966,1956,1956,1956,1986,1986,2009,2009,2009,2017,2017,2015,2000,2000,1989,1989,1989,2017,2017,1958,1958,2015,2015,1996,1996,1996,1996,1996,1973,1973,2018,2018,2018,1974,2019,1938,2019,2011,1983,1983,1983,2007,1965,1980,1980,1989,1989,1989,1975,1975,1992,1992,1992,2005,2005,2005,2020,2020,2020,2011,2011,2011,2010,2010,2010,2007,2007,2007,2018,2021,2021,2017,2017,2017,1979,1979,1979,1967,1967,1967,2011,2011,2011,2019,2019,2011,2011,2019,2019,2018,2018,2018,1991,1991,1991,1990,1999,2020,2020,2020,2014,2014,2012,2008,2002,2018,2018,2019,2017,2019,2019,2006,1995,2008,2008,2017,2017,1988,2002,2002,2007,2007,2007,2017,2017,2017,2012,2012,2012,2006,2006,2006,2020,2020,2018,2018,2015,2010,2010,2010,2013,2013,2013,2001,2001,2001,2014,2014,2014,1971,1971,2019,2019,2019,2004,2018,2016,2016,2008,2008,1999,1999,1989,1989,1965,1965,1965,2013,2013,2013,2003,2003,1961,1961,1961,1968,1968,2020,2020,2020,2014,2014,2014,1977,1985,1985,1985,2015,2003,2003,2003,2012,2008,2008,2008,2015,2015,2019,2019,2019,2009,2009,2001,2012,2012,2012,2003,2003,1981,1981,1995,1995,2003,2003,2003,1988,1988,1988,1990,1988,2013,1984,2010,2010,1992,1992,1992,1985,2018,2018,1973,1985,2018,2018,2018,2005,1968,1968,1968,1941,2019,2019,2014,2014,2018,2018,2005,2021,2021,2020,2019,2019,2019,1977,1977,2005,2005,2005,1959,1959,2019,2019,2019,2018,1956,2004,2004,2004,1969,1969,1969,1984,2018,2019,2019,2019,1986,1986,1967,1967,1967,1977,1977,2018,2018,2018,1992,1992,1974,1974,1974,2018,2010,2010,2010,2008,2008,1958,1958,1992,1992,2020,2020,2019,2019,2019,2010,1996,2000,1953,1953,1996,1996,2010,2010,2010,2015,1987,1987,1987,1995,1994,1994,1994,1993,1993,1993,2014,2014,1971,1971,1963,1963,1963,2003,2003,1989,1989,2015,1972,1992,1992,1992,1997,1997,1997,1957,1957,1957,1970,2020,2018,2018,2018,2018,2018,1972,1972,1972,1989,1989,1989,1989,2005,2005,2005,1968,1968,2018,2018,2018,1985,2007,2007,2007,1984,1958,1958,1977,1977,1977,1971,1971,2003,2003,2003,2005,2005,1961,1961,2018,2018,2018,1985,1985,1993,2011,1971,1971,1971,1949,1949,2017,1985,1966,1966,1966,1978,1978,2019,2019,2014,2011,2011,1953,1980,2004,2013,2003,1974,1974,1991,1991,1991,1967,1967,1967,1970,1961,1980,1968,1968,1968,2010,2010,2010,1957,1957,1957,2009,2009,2008,2008,1995,1995,2012,2012,1986,1986,2010,2010,1993,1993,1993,2005,1993,1993,1993,1955,1955,1955,2008,2019,2017,2017,2017,1999,1999,1999,1987,1987,1987,1988,1988,1984,1984,1978,1978,1985,1973,1973,1973,2018,2018,2018,1978,1978,2015,2015,2015,2010,2010,2010,2013,2013,2011,2011,2011,2017,2017,2017,2017,2000,2000,2000,2006,2006,1974,2004,2018,1958,1958,2008,1993,1993,1980,1980,1980,2016,2016,2016,1945,1993,1993,1991,1991,1991,1966,1966,1966,1978,1978,1993,1964,1964,2008,2008,2008,2010,2010,2010,2013,2019,2019,2017,2017,2019,1984,1984,1966,2013,2013,1985,1985,1985,2016,2016,2015,2015,2003,1972,2016,2016,2016,2016,2017,2017,2002,2002,2021,2021,1972,1972,1972,1958,1958,1958,1985,1934,1934,2014,2014,2014,2014,2018,2018,2004,2004,2004,1993,1993,1993,2018,2012,2012,2012,2019,2019,2015,2015,1992,1992,1992,2004,2004,2004,1992,1990,1990,1993,2013,2013,2013,1995,1995,2004,2004,1964,1964,1964,1981,1965,1965,1965,2017,2017,2017,2004,2004,2004,1958,1958,2017,1973,2013,2013,2013,1991,1991,1991,2017,2003,2003,2019,2019,2019,2004,2019,2019,2006,1990,1990,2020,2020,2020,1987,1987,1987,1991,1991,1991,1991,2010,2010,1981,1994,1971,1971,1995,1995,1995,1998,1998,1992,1992,1992,1981,1937,1937,1937,1975,1975,1975,1974,1974,1974,1962,1962,1989,1989,1970,1970,1970,1991,1991,2015,2015,2015,1982,1982,1982,1974,1974,1983,1983,1994,1994,1996,1996,1996,1997,2004,2004,2004,2010,2010,2010,1997,1997,1997,1943,1997,2005,2005,2005,1978,1978,1978,1973,1973,1973,1962,1962,1962,1994,1981,1981,1981,2016,2018,2016,2016,2016,2003,2003,2003,1983,1983,1983,1983,1983,1983,1986,1986,1986,1970,1970,1984,1984,1984,1978,1978,1978,1989,2014,2014,1965,1965,1972,2002,2002,2002,2010,2010,2011,2011,2011,2015,2015,2015,1973,1993,1993,1987,1987,2019,2006,2006,2006,2003,2003,1998,1998,1998,1999,1999,1999,2005,2005,2005,1998,1998,1998,2001,2001,2001,2014,2001,2001,2001,1957,1957,1957,2002,2002,2003,1981,1981,1991,1991,1969,1992,1985,1985,1990,1990,1990,1990,1988,1988,1969,1969,1969,1969,1969,1969,1991,1986,1986,1987,1987,1987,1990,1990,1990,1987,1987,1987,1971,1971,1986,1986,1966,1966,2006,2006,2006,1985,1985,1985,1984,1975,1975,1975,1984,1984,2017,2017,2012,1988,1988,1988,2001,2001,1986,1986,1983,1983,1983,1988,1988,1988,2003,2003,2003,1998,1998,1998,2013,2013,2013,2009,2009,2009,1980,1980,1980,2013,2013,2013,2011,2011,2011,2017,2017,2017,1979,1979,2017,2017,2017,1958,1958,2019,1975,1975,1989,1989,1989,2007,2007,2007,1976,1972,1972,2013,2013,1995,1995,1972,1972,1992,2020,2020,2020,1967,1967,2021,2021,2009,2009,1987,1987,2010,2010,2010,1967,1967,1981,1981,1981,2002,2002,2002,2012,2012,2012,2016,2016,2016,2009,2009,2009,2018,2018,2018,2008,2008,2008,2013,2013,2008,2008,2008,2013,2013,2013,2018,2018,2018,1983,2018,1954,2021,2021,2021,2009,2009,2009,2017,2017,2017,1990,2008,2008,2008,2003,2003,1995,1995,2011,2011,2011,2014,2015,2015,2017,1969,1953,1978,2001,2018,2018,2018,2016,2016,1955,1955,1955,2019,2019,2015,2015,2004,2004,1956,1956,1956,1982,1982,1959,1995,1995,1995,2018,1968,1968,1968,1994,1994,1994,2003,2003,1952,1996,1996,1996,1997,1997,2000,2000,2000,2014,2014,1969,1999,1999,2013,2013,2013,2013,2013,1996,1996,1996,1964,1964,1964,2018,2018,2018,2010,2010,2010,1974,1974,1992,1951,1951,1936,1992,1992,1992,2000,2000,2000,1962,1962,1972,1972,1972,2004,2004,2010,2010,2010,2010,2010,2010,2012,1994,2019,1981,1981,1977,1996,1996,1984,1984,1984,2017,1967,1967,1967,1980,1980,1980,1977,2007,2007,2007,1995,1995,1995,2019,1989,1989,1989,1943,1943,1943,2017,2020,1984,1985,1985,1985,1985,2008,2008,2008,2010,2010,2010,2017,2017,2013,2013,2013,1988,1988,1988,2010,2010,2010,1991,1991,1991,2005,2005,2005,1985,2013,2013,2013,2019,2019,1944,2015,1996,1996,1996,2015,2017,1993,1993,1983,2006,2006,2006,1982,1982,1995,1995,1995,2019,2013,2013,2013,2017,2017,2017,2013,2013,1975,1975,1975,1959,1959,2019,2010,2010,2010,2015,2015,2015,2015,2015,2015,1986,1986,2007,2007,2007,2013,2013,2013,2011,2011,2011,2018,2018,2018,1944,1944,2004,1995,1995,1995,2011,2011,2011,2016,2016,2009,2009,2009,1980,1980,1980,2007,2007,2007,2007,2007,2007,2017,2018,2021,2000,2000,2000,2020,2006,2001,2001,2005,2007,2007,2019,1962,1962,1962,2019,1974,1974,1971,1971,1971,2002,1996,1996,1988,2018,2005,2001,2014,2014,2014,2017,2017,2010,2010,2010,1988,1979,2013,2013,2013,1965,1965,2002,2002,2007,2007,2007,2019,2014,2014,1972,2012,2012,2012,2014,2021,2002,2003,2009,2009,2009,2009,2009,2008,2008,2008,2019,2014,2014,2014,1995,1995,1995,2016,2016,2008,2008,2009,2009,1999,1999,2011,2011,2011,1981,1981,2006,2006,2006,2016,2016,2016,2005,2005,2005,2010,2010,2010,1988,2019,2019,2019,1991,2021,2021,1981,1981,1981,2015,1993,1993,1993,1970,1970,1970,2018,2018,1974,1974,1974,1942,1974,1974,1974,1990,1990,1990,2016,1992,1992,2012,2012,2012,2015,2015,2015,2008,2008,2008,1993,2004,2004,2004,1989,1989,1989,1997,2017,2017,2004,2004,2004,2015,2020,2020,2020,1962,1962,1962,2017,2017,2009,2009,2009,1991,1991,1991,2012,2012,1982,2016,2016,2016,1966,1966,1967,1967,1967,1964,1964,1964,1994,1994,2019,1985,1985,1985,1991,1991,1991,1978,1978,1978,1996,1996,1994,2016,2016,2016,1979,1979,2019,2019,2017,2017,2008,2016,2016,1984,2013,2013,2015,1969,1969,1969,1998,1998,2016,1982,1968,1968,1991,1991,1991,2002,2002,2002,1992,2015,2006,2006,2006,2007,2007,2007,1989,2003,2003,2003,1966,1966,1966,1975,1975,1975,1998,2020,2015,2015,1980,1980,1994,1994,2017,1995,1995,1995,1976,2003,1979,1979,1979,1970,1970,1970,1969,1969,1969,1989,1989,2017,2017,2006,1991,1991,1991,2020,2020,2012,2012,2012,1958,1968,1968,2010,2010,1983,1983,1970,1970,1951,1988,1958,1958,1996,1996,1996,2013,2013,2011,2011,2011,2018,2018,2018,2013,2013,2013,1981,2011,2011,2011,1962,1962,1993,1993,2021,2021,2021,1993,1993,1993,2002,2002,1969,1969,1969,1986,1982,1982,1982,1998,1998,1975,1975,2007,2007,1988,1988,2005,2005,2005,2017,2007,2007,2007,1989,1989,2017,1997,1980,1950,1972,1972,1972,1970,1998,1999,1999,1959,1959,1959,2003,2003,2003,2017,1979,1983,1983,1983,1961,1961,1961,1982,1982,1982,2014,2014,1958,1958,1958,1964,1964,1986,1986,1986,1997,1997,1997,1991,1991,2016,2016,2009,2009,2009,2016,2016,2016,2005,2021,2021,2021,2006,2006,1964,1964,1964,1952,1952,1952,1994,1994,1992,1992,1999,1999,1999,1950,1993,1993,1964,1964,1943,1943,1972,1972,1972,1985,2018,2018,2018,2009,2009,2009,2009,2009,1976,1976,1981,1981,1996,1940,1940,1982,1982,1937,2016,2016,2016,1993,1993,1989,1989,2002,2002,1975,1992,1992,1968,1996,1996,1996,1969,2018,1961,1961,1961,1966,1966,1966,1968,1968,2016,2016,2016,2016,2016,1993,1993,1993,2021,2021,2021,1996,1985,1999,1999,1979,1979,1950,1950,2017,1960,2006,2006,2005,2005,2005,2005,2017,2017,2017,2008,2008,2008,1979,1979,1986,1984,1984,1980,2019,2019,2008,2008,2011,2011,2011,2003,2003,1982,1982,1982,1998,1998,1998,2013,2013,2013,2013,1982,1982,1969,1978,1978,2000,2000,2018,2018,2018,1991,1991,2004,2004,1995,1973,1973,1991,1991,1991,1991,1991,1991,2001,1999,1996,1986,1982,1982,1982,1970,1970,1970,1966,1966,1979,1979,1979,2007,2007,2012,2020,2020,2020,1951,1951,2020,2019,2006,2006,2021,2021,2021,2019,2015,2015,2012,2017,2017,2021,2021,2019,2019,2019,2018,2018,2017,2017,1955,1972,1972,1972,2010,2010,2010,1994,1994,2005,2005,2005,1996,2020,2020,2019,2017,2006,2006,2006,1972,2019,2014,2014,2017,2017,2005,2006,2006,2006,2018,2021,2021,1980,1980,1980,2015,2015,2015,2010,2010,2010,2005,2005,1949,1949,1949,2005,2005,2005,2011,2011,2011,2015,2011,2011,2011,1948,1948,1965,1965,1965,2002,2002,2002,1988,1988,1953,2012,2012,1946,1946,1946,2006,2010,2010,1949,1974,1974,1974,2011,2011,2011,2006,1990,2011,2011,2011,2007,2007,2007,2020,2020,1965,1965,2002,2002,1982,1982,1982,1993,1993,1993,1947,2020,2020,1978,1978,1978,1998,1998,1961,1961,1961,1954,1954,2015,1974,1974,1990,1990,1990,2012,2012,2012,1976,1966,1966,1966,1976,1976,1976,1991,1991,1991,1984,1997,1984,1984,1984,1957,1957,1957,1970,1970,1976,2015,2015,2015,1984,2002,2002,2002,1981,1981,2019,1971,1971,1971,1969,1969,1986,1986,1986,2004,2004,1996,1996,1969,1969,1986,1986,1986,1982,2016,2016,2008,2008,2008,1950,1986,2011,1964,1947,2020,2020,1956,1956,1956,2017,1999,1990,1990,1990,2000,2000,1968,1968,2020,2020,2020,2000,2000,2000,1963,1963,1963,1991,1991,1953,2005,1979,1979,2020,2020,2012,1977,1977,2001,2001,2012,1989,1989,1989,2006,2006,2006,1985,1985,1985,1988,1988,1988,2016,2016,2016,2004,2004,2012,2012,2018,1961,1961,1992,1992,1992,1975,1975,1975,1999,1999,1999,2006,1988,2007,2007,2007,2013,2013,2013,1972,2010,2010,2016,2016,2013,2013,2013,2016,2016,2016,2009,2009,2013,2007,2007,2007,1981,1981,2013,2013,1955,1955,1955,1962,1962,1962,1971,1971,1971,2017,1993,1993,1985,1985,1960,1960,1960,1982,1982,1982,1968,1968,2013,2013,1983,1983,2017,2017,2020,2020,2020,2013,2013,2013,2017,2017,2017,2020,2004,2004,2004,2014,2019,2011,2011,1990,2013,2009,2009,2009,1999,1999,1989,1989,2004,2015,2021,2021,2005,1981,1981,1981,1999,1999,1999,2018,2018,2002,2002,2018,2018,2018,2017,2017,2017,2019,2019,2019,1987,1987,1960,1960,2015,2015,2008,2008,2008,2013,2013,2011,2011,2011,2019,2019,2014,2014,2014,1986,1986,1986,2005,2005,2005,2018,2018,1993,1993,1993,2007,2008,2005,2005,1980,1980,2007,2007,2007,2006,2016,2013,2013,2013,2012,2021,2021,2021,1973,1973,2000,2000,2000,1999,1999,2013,2013,2013,2002,2002,2002,2005,2005,2005,1948,1948,1985,1985,1985,1958,1958,2014,1998,1998,1998,1958,1958,1958,1979,1956,1956,1956,2009,2009,1964,2012,2012,2013,2013,2013,2014,2014,2019,2019,2019,1958,1958,1988,1988,2018,2018,2012,2012,2012,2018,2018,2020,2018,2018,2018,1988,1999,1999,2008,2008,2008,2013,2010,2010,2010,2011,2011,2008,2008,1983,1983,1983,1989,1989,2006,1982,2014,2013,2013,2013,2007,2007,2007,1999,1999,1968,1968,1968,1975,1975,2004,2004,1960,1960,2003,2003,2011,2011,2011,1989,1989,1989,2014,2014,2014,1956,1956,2007,2007,2012,1991,1991,2009,2009,2007,2007,2007,1961,2018,2018,2020,2020,1995,2009,2009,2009,1938,2010,2010,2010,2014,2012,2012,2012,2019,2019,2019,2003,2003,2003,2001,2001,2001,1954,1971,1971,1971,1966,1966,1966,2005,2005,2005,2005,2000,2000,2000,1979,1979,1979,1994,1994,1994,1968,1968,1986,1970,1970,2018,2018,1960,1960,2014,2014,2004,2004,2004,2000,2000,2016,2016,2016,2008,2008,2008,2018,2018,1983,1982,1982,1982,2006,2006,1979,1979,1979,2008,2008,2008,1949,1968,1968,1968,2013,2013,2013,2017,2017,1984,1984,2009,2004,2004,2004,2005,2016,1976,2003,2003,2003,2014,2019,2019,2013,2013,2013,2014,2014,2014,1994,1994,1987,1987,1987,2008,2008,2008,2002,2002,2002,1985,1985,1985,1966,1966,1966,1973,1973,2020,1979,1979,1979,1995,1995,1995,2014,2014,2014,1985,1985,1985,1992,1992,1987,2004,1977,2007,1982,1982,1990,1978,1978,1978,1986,1980,1980,1980,1983,1983,2017,2017,2017,2021,2021,2018,2007,2007,2007,1999,1999,1999,2020,2020,1995,1995,2004,2004,2004,1999,2013,2013,2013,2003,1990,1993,1993,1992,1992,1992,1986,1986,1986,1993,1993,2020,2020,1956,1956,2003,2003,2003,2005,2005,2005,1981,1981,2019,1995,1995,1995,1980,1958,2012,2012,2012,2003,2003,2003,1996,1996,1969,1969,2009,2009,2009,2020,2020,2020,2015,2015,2015,1988,1988,2014,2014,1998,1952,2015,2015,2015,1986,1972,1972,1972,1955,1955,2005,2005,2005,2020,2020,2020,2021,1943,1943,1943,2011,2011,2011,2015,2015,2015,1976,1976,2000,1967,1967,1990,1990,1990,1995,1995,1995,2019,2013,1979,1979,1984,1997,1997,1997,1995,1984,1984,1984,2000,2000,1995,1995,2019,1970,1965,1965,1965,1966,2002,2002,2002,2008,2008,2008,2008,2008,2006,2006,2006,2004,2004,2017,1985,1985,1985,1980,1980,1954,1954,1973,2006,2006,2006,1977,1977,1977,2016,2016,2016,2009,2009,1968,1973,1973,1973,1965,1965,2010,2010,2010,1965,1965,1965,1938,2016,2010,2010,1965,1965,1965,1994,1994,1982,1982,2006,2006,2006,1966,1966,1966,1966,1966,1966,2003,1994,1994,1985,2011,2011,2011,2005,2005,2005,2019,2017,2017,2000,2000,2009,2009,2009,2001,2015,2016,2016,2016,2010,2010,2016,1989,1963,1963,1963,2010,2001,2001,2001,2011,2011,2011,1971,1971,1996,1996,1996,2012,2012,2012,1978,2009,2009,1984,2018,2018,2014,2020,2020,2020,1982,1982,1985,1985,1985,2012,2012,2012,1993,1993,2016,2016,2016,2018,2015,2015,2015,1988,1988,1988,2012,2012,2012,2019,2019,1999,1999,1999,2002,2002,1990,1990,1990,1983,1983,2011,2009,2009,2020,2010,2010,2010,2016,2001,2001,2001,1979,1979,2019,2019,2005,2015,2015,1989,2014,2014,2014,2013,2013,2013,2016,2016,2016,2021,2021,2021,2005,2005,2005,2016,2016,2019,2019,2017,2017,2017,2013,1980,1980,1977,1977,1977,1976,1941,2007,2007,2007,2018,1988,1988,1988,2014,2011,2011,2011,2013,1995,1995,2017,2019,2019,2019,2009,1953,1953,2005,2005,2005,2010,2010,2010,2010,2010,2010,2017,2008,2015,2009,2009,2009,1994,1994,2017,2017,2017,2021,2021,2021,2014,2014,2014,2013,1979,1979,1979,2007,2019,2019,2019,2020,2020,2014,2014,2014,2003,2003,2003,2020,2019,2019,2017,2017,2020,2014,2014,2017,2011,2011,2010,2017,2018,2020,2006,2006,2006,2019,2016,2014,2014,2014,2002,2002,2002,2008,2008,2008,2019,2019,1931,1931,2013,2013,2014,2014,2014,2015,2015,2015,2013,2013,1994,1994,1995,2011,2011,2001,2001,1980,2007,2007,2007,2016,2018,2018,2015,2019,2019,2019,2021,2021,2021,2009,2000,2000,2000,1935,1935,2020,2017,2017,2017,2020,2000,2014,1952,1952,1952,2015,2015,2015,1992,1992,2014,2020,2019,2019,2019,2015,2015,2015,2015,1968,1968,2019,2019,2017,2015,2015,2015,1996,1996,1996,2009,2009,2009,2017,2019,2019,2019,2015,1980,1980,1970,1970,1970,2011,2007,2007,2007,2017,2017,2013,2010,2010,2010,2014,2014,2014,2015,2015,2010,2010,2010,2001,2001,2002,2002,2002,2009,2021,2021,2021,2021,2021,2018,2018,2013,2013,2015,2015,2014,2014,1967,1967,1967,2019,2019,2019,1981,1981,1981,1987,1987,2016,2016,1992,2008,2008,2008,1990,1990,1990,2017,2017,1980,1953,1953,1983,2018,2015,2009,2009,2009,1978,1978,1978,2018,2018,2016,2017,2017,2017,2014,2017,2015,2015,2015,2005,2021,2021,2019,1977,1992,1992,1992,1998,1998,1998,2018,2018,2014,2014,2014,2014,2014,2016,2016,2016,2000,2000,2000,2018,2018,2010,2010,1984,1984,1988,1988,2017,2017,2006,2006,2006,2018,1989,1989,1975,1975,1937,2010,2010,2010,1978,2016,2005,2005,2020,2020,2020,2019,2019,2019,2014,2014,2014,2019,1989,1989,2016,2016,2016,2007,2015,2015,2015,1998,1998,2016,2016,2011,2011,2011,2021,2021,1989,1989,1989,1985,1995,1995,1991,2014,2014,1988,1978,2011,1978,1978,1978,1985,1985,1985,1994,2020,1996,1996,1996,2017,2017,2021,2021,2021,2003,2015,2015,1971,1971,2008,2016,2016,2001,2001,1970,1970,2011,1990,1990,1990,2009,2009,2010,2010,2002,2002,2002,2004,2004,2004,2018,2018,2018,1982,1982,1978,2017,2017,2002,2002,2002,1957,1957,2004,2004,1969,1969,1969,1996,1996,2011,2011,2011,2017,2016,2016,2012,2013,1992,2017,2008,2008,2011,2017,1997,1997,1997,2010,2018,1976,1976,2016,2016,2016,2013,2013,2013,2008,2008,1959,1959,1959,1974,1974,2019,1975,2019,2019,2019,1970,1970,2006,2006,2006,1992,1992,1992,1982,2014,2014,2006,2006,2015,2015,2015,2007,2007,1980,2014,2014,2014,2014,2014,2014,1996,1996,2017,2019,2019,2019,2006,2006,2006,2020,2020,2019,1971,1967,1967,1967,2019,1955,1955,1955,2018,2018,2018,2019,2019,1970,1960,1960,1960,1989,1982,1982,1982,1963,1963,1963,1998,1998,2015,1984,1984,1984,2011,2011,1987,1987,2006,2006,2006,2004,2004,2015,2015,2020,2020,2020,2005,2005,2005,2009,2005,2005,2005,1968,1968,1968,1999,1999,1999,2004,2004,1955,1974,1974,2018,2018,2018,1988,1988,1988,1982,1982,1962,1962,1962,2006,2006,2006,1946,2000,2021,1992,1992,1992,1975,1989,1989,1989,2001,2011,2011,2010,2010,2010,1970,1970,1970,2001,2001,2008,2008,2008,1994,1994,2009,2017,2017,2017,1988,1988,1988,2016,2016,2016,2018,2018,2018,1995,1995,2019,1993,1975,2004,2004,2004,2011,2011,2011,1989,1989,1989,2008,2008,2008,2017,2017,2017,1989,1989,2012,2012,1972,1972,1972,2017,2017,2017,2009,2009,1982,1982,2006,1990,1986,2005,2009,1988,1988,1988,1994,1994,1994,1982,2011,2011,2011,1986,1986,1986,2009,2009,2020,1998,1998,1998,2017,2021,1997,1997,1997,2020,2020,1992,2005,2005,2008,2008,2008,1991,1991,1991,2011,2011,2011,2013,2013,2018,2018,1996,1992,1992,1992,2006,2006,2006,1998,1998,2018,2018,2010,2010,2010,2014,2014,2014,2002,2002,2002,1988,1972,1972,1972,2008,2008,2008,1985,1985,2016,1967,1967,1967,2015,2015,2016,2016,2016,1998,1998,1998,2013,2009,2009,2009,2017,2009,2009,2009,1984,1984,1984,2020,2020,1965,1965,1993,1993,1993,1988,1988,1988,1981,1981,1981,2005,2005,2005,2019,2019,2019,2013,2013,1981,1981,1954,1954,2013,2013,1975,1975,2016,2016,1987,1987,1987,2005,2016,2016,2016,2010,2010,2010,2006,2017,2015,2015,2007,2007,2015,2015,2015,2015,2015,2015,2020,2020,2020,2018,2018,2018,2020,2012,2012,2012,2018,2018,2008,2008,2009,2019,2006,2013,2013,2013,2009,2009,2009,2008,2008,1989,1989,1989,2018,1998,1998,1998,2017,2004,2018,2018,2011,2011,2019,2019,2012,2018,2018,2003,2003,2003,2020,2006,2006,1983,1983,1983,1964,1964,1964,2006,2006,2006,1974,2004,1989,2013,2013,2021,2003,2003,2020,2015,2015,2015,2003,2008,2008,2008,2014,2014,2014,1992,1992,2001,2001,2001,1984,2014,2014,1994,1994,1972,1972,1972,2020,2020,2020,2015,1981,1981,1981,2014,2014,1977,1985,2015,2020,1958,1958,1958,1969,1969,1969,2005,2005,2012,2012,2012,1992,1992,1992,2014,2001,2001,2013,2013,2018,2018,2018,1995,1995,1995,1996,2015,1975,1975,1975,1988,1988,2006,2011,2016,2016,2016,2020,1984,1984,2003,2003,2002,2002,1963,1963,2014,2014,2014,1994,1994,1994,2011,2011,1972,1972,2014,2014,2003,2017,2017,2017,2002,2002,2002,1999,1999,1999,2001,2013,2013,2013,2012,1980,2018,2002,2002,2002,2004,2004,2004,1996,1996,2001,2001,2001,1992,1963,1963,1963,2019,2019,2019,2011,2011,2011,2019,1982,1982,1982,1982,1982,1982,2001,2001,1966,1966,1966,2005,1977,1977,1997,1997,1997,1997,1997,1997,1991,1991,2016,2016,2014,2014,2001,2001,2018,2016,1985,1985,1985,2021,2021,2021,2004,2004,2004,1979,1979,1979,2008,2008,2008,1994,1994,1985,1985,1990,1990,1998,1988,1988,1994,1994,1994,1993,1993,1993,1993,1980,1980,1988,1988,1995,1995,1995,1977,1977,1977,1981,1981,1985,1985,1985,1994,1994,1994,2003,2003,2003,1972,1972,1972,1984,1984,1975,1975,2005,2005,1943,1973,1973,1973,2013,2013,2013,1993,1993,1993,2013,1983,1983,1983,1972,2014,2005,2005,2005,1974,1974,2018,2018,2018,1994,1994,2014,2014,2014,1964,1964,1997,1997,2013,2013,2013,1958,1958,1958,1960,2006,2006,2006,1975,1975,1986,1986,1964,1964,1964,1940,1976,1976,2000,2013,2013,1965,1988,1988,1988,2013,2002,2002,2011,2011,2012,2019,2000,2011,2011,2011,2018,1998,1998,1998,1975,1975,1975,2015,2001,2001,2001,1989,1989,1989,1999,1999,1998,1998],\"xaxis\":\"x\",\"yaxis\":\"y\",\"type\":\"histogram\"}],                        {\"template\":{\"data\":{\"histogram2dcontour\":[{\"type\":\"histogram2dcontour\",\"colorbar\":{\"outlinewidth\":0,\"ticks\":\"\"},\"colorscale\":[[0.0,\"#0d0887\"],[0.1111111111111111,\"#46039f\"],[0.2222222222222222,\"#7201a8\"],[0.3333333333333333,\"#9c179e\"],[0.4444444444444444,\"#bd3786\"],[0.5555555555555556,\"#d8576b\"],[0.6666666666666666,\"#ed7953\"],[0.7777777777777778,\"#fb9f3a\"],[0.8888888888888888,\"#fdca26\"],[1.0,\"#f0f921\"]]}],\"choropleth\":[{\"type\":\"choropleth\",\"colorbar\":{\"outlinewidth\":0,\"ticks\":\"\"}}],\"histogram2d\":[{\"type\":\"histogram2d\",\"colorbar\":{\"outlinewidth\":0,\"ticks\":\"\"},\"colorscale\":[[0.0,\"#0d0887\"],[0.1111111111111111,\"#46039f\"],[0.2222222222222222,\"#7201a8\"],[0.3333333333333333,\"#9c179e\"],[0.4444444444444444,\"#bd3786\"],[0.5555555555555556,\"#d8576b\"],[0.6666666666666666,\"#ed7953\"],[0.7777777777777778,\"#fb9f3a\"],[0.8888888888888888,\"#fdca26\"],[1.0,\"#f0f921\"]]}],\"heatmap\":[{\"type\":\"heatmap\",\"colorbar\":{\"outlinewidth\":0,\"ticks\":\"\"},\"colorscale\":[[0.0,\"#0d0887\"],[0.1111111111111111,\"#46039f\"],[0.2222222222222222,\"#7201a8\"],[0.3333333333333333,\"#9c179e\"],[0.4444444444444444,\"#bd3786\"],[0.5555555555555556,\"#d8576b\"],[0.6666666666666666,\"#ed7953\"],[0.7777777777777778,\"#fb9f3a\"],[0.8888888888888888,\"#fdca26\"],[1.0,\"#f0f921\"]]}],\"heatmapgl\":[{\"type\":\"heatmapgl\",\"colorbar\":{\"outlinewidth\":0,\"ticks\":\"\"},\"colorscale\":[[0.0,\"#0d0887\"],[0.1111111111111111,\"#46039f\"],[0.2222222222222222,\"#7201a8\"],[0.3333333333333333,\"#9c179e\"],[0.4444444444444444,\"#bd3786\"],[0.5555555555555556,\"#d8576b\"],[0.6666666666666666,\"#ed7953\"],[0.7777777777777778,\"#fb9f3a\"],[0.8888888888888888,\"#fdca26\"],[1.0,\"#f0f921\"]]}],\"contourcarpet\":[{\"type\":\"contourcarpet\",\"colorbar\":{\"outlinewidth\":0,\"ticks\":\"\"}}],\"contour\":[{\"type\":\"contour\",\"colorbar\":{\"outlinewidth\":0,\"ticks\":\"\"},\"colorscale\":[[0.0,\"#0d0887\"],[0.1111111111111111,\"#46039f\"],[0.2222222222222222,\"#7201a8\"],[0.3333333333333333,\"#9c179e\"],[0.4444444444444444,\"#bd3786\"],[0.5555555555555556,\"#d8576b\"],[0.6666666666666666,\"#ed7953\"],[0.7777777777777778,\"#fb9f3a\"],[0.8888888888888888,\"#fdca26\"],[1.0,\"#f0f921\"]]}],\"surface\":[{\"type\":\"surface\",\"colorbar\":{\"outlinewidth\":0,\"ticks\":\"\"},\"colorscale\":[[0.0,\"#0d0887\"],[0.1111111111111111,\"#46039f\"],[0.2222222222222222,\"#7201a8\"],[0.3333333333333333,\"#9c179e\"],[0.4444444444444444,\"#bd3786\"],[0.5555555555555556,\"#d8576b\"],[0.6666666666666666,\"#ed7953\"],[0.7777777777777778,\"#fb9f3a\"],[0.8888888888888888,\"#fdca26\"],[1.0,\"#f0f921\"]]}],\"mesh3d\":[{\"type\":\"mesh3d\",\"colorbar\":{\"outlinewidth\":0,\"ticks\":\"\"}}],\"scatter\":[{\"fillpattern\":{\"fillmode\":\"overlay\",\"size\":10,\"solidity\":0.2},\"type\":\"scatter\"}],\"parcoords\":[{\"type\":\"parcoords\",\"line\":{\"colorbar\":{\"outlinewidth\":0,\"ticks\":\"\"}}}],\"scatterpolargl\":[{\"type\":\"scatterpolargl\",\"marker\":{\"colorbar\":{\"outlinewidth\":0,\"ticks\":\"\"}}}],\"bar\":[{\"error_x\":{\"color\":\"#2a3f5f\"},\"error_y\":{\"color\":\"#2a3f5f\"},\"marker\":{\"line\":{\"color\":\"#E5ECF6\",\"width\":0.5},\"pattern\":{\"fillmode\":\"overlay\",\"size\":10,\"solidity\":0.2}},\"type\":\"bar\"}],\"scattergeo\":[{\"type\":\"scattergeo\",\"marker\":{\"colorbar\":{\"outlinewidth\":0,\"ticks\":\"\"}}}],\"scatterpolar\":[{\"type\":\"scatterpolar\",\"marker\":{\"colorbar\":{\"outlinewidth\":0,\"ticks\":\"\"}}}],\"histogram\":[{\"marker\":{\"pattern\":{\"fillmode\":\"overlay\",\"size\":10,\"solidity\":0.2}},\"type\":\"histogram\"}],\"scattergl\":[{\"type\":\"scattergl\",\"marker\":{\"colorbar\":{\"outlinewidth\":0,\"ticks\":\"\"}}}],\"scatter3d\":[{\"type\":\"scatter3d\",\"line\":{\"colorbar\":{\"outlinewidth\":0,\"ticks\":\"\"}},\"marker\":{\"colorbar\":{\"outlinewidth\":0,\"ticks\":\"\"}}}],\"scattermapbox\":[{\"type\":\"scattermapbox\",\"marker\":{\"colorbar\":{\"outlinewidth\":0,\"ticks\":\"\"}}}],\"scatterternary\":[{\"type\":\"scatterternary\",\"marker\":{\"colorbar\":{\"outlinewidth\":0,\"ticks\":\"\"}}}],\"scattercarpet\":[{\"type\":\"scattercarpet\",\"marker\":{\"colorbar\":{\"outlinewidth\":0,\"ticks\":\"\"}}}],\"carpet\":[{\"aaxis\":{\"endlinecolor\":\"#2a3f5f\",\"gridcolor\":\"white\",\"linecolor\":\"white\",\"minorgridcolor\":\"white\",\"startlinecolor\":\"#2a3f5f\"},\"baxis\":{\"endlinecolor\":\"#2a3f5f\",\"gridcolor\":\"white\",\"linecolor\":\"white\",\"minorgridcolor\":\"white\",\"startlinecolor\":\"#2a3f5f\"},\"type\":\"carpet\"}],\"table\":[{\"cells\":{\"fill\":{\"color\":\"#EBF0F8\"},\"line\":{\"color\":\"white\"}},\"header\":{\"fill\":{\"color\":\"#C8D4E3\"},\"line\":{\"color\":\"white\"}},\"type\":\"table\"}],\"barpolar\":[{\"marker\":{\"line\":{\"color\":\"#E5ECF6\",\"width\":0.5},\"pattern\":{\"fillmode\":\"overlay\",\"size\":10,\"solidity\":0.2}},\"type\":\"barpolar\"}],\"pie\":[{\"automargin\":true,\"type\":\"pie\"}]},\"layout\":{\"autotypenumbers\":\"strict\",\"colorway\":[\"#636efa\",\"#EF553B\",\"#00cc96\",\"#ab63fa\",\"#FFA15A\",\"#19d3f3\",\"#FF6692\",\"#B6E880\",\"#FF97FF\",\"#FECB52\"],\"font\":{\"color\":\"#2a3f5f\"},\"hovermode\":\"closest\",\"hoverlabel\":{\"align\":\"left\"},\"paper_bgcolor\":\"white\",\"plot_bgcolor\":\"#E5ECF6\",\"polar\":{\"bgcolor\":\"#E5ECF6\",\"angularaxis\":{\"gridcolor\":\"white\",\"linecolor\":\"white\",\"ticks\":\"\"},\"radialaxis\":{\"gridcolor\":\"white\",\"linecolor\":\"white\",\"ticks\":\"\"}},\"ternary\":{\"bgcolor\":\"#E5ECF6\",\"aaxis\":{\"gridcolor\":\"white\",\"linecolor\":\"white\",\"ticks\":\"\"},\"baxis\":{\"gridcolor\":\"white\",\"linecolor\":\"white\",\"ticks\":\"\"},\"caxis\":{\"gridcolor\":\"white\",\"linecolor\":\"white\",\"ticks\":\"\"}},\"coloraxis\":{\"colorbar\":{\"outlinewidth\":0,\"ticks\":\"\"}},\"colorscale\":{\"sequential\":[[0.0,\"#0d0887\"],[0.1111111111111111,\"#46039f\"],[0.2222222222222222,\"#7201a8\"],[0.3333333333333333,\"#9c179e\"],[0.4444444444444444,\"#bd3786\"],[0.5555555555555556,\"#d8576b\"],[0.6666666666666666,\"#ed7953\"],[0.7777777777777778,\"#fb9f3a\"],[0.8888888888888888,\"#fdca26\"],[1.0,\"#f0f921\"]],\"sequentialminus\":[[0.0,\"#0d0887\"],[0.1111111111111111,\"#46039f\"],[0.2222222222222222,\"#7201a8\"],[0.3333333333333333,\"#9c179e\"],[0.4444444444444444,\"#bd3786\"],[0.5555555555555556,\"#d8576b\"],[0.6666666666666666,\"#ed7953\"],[0.7777777777777778,\"#fb9f3a\"],[0.8888888888888888,\"#fdca26\"],[1.0,\"#f0f921\"]],\"diverging\":[[0,\"#8e0152\"],[0.1,\"#c51b7d\"],[0.2,\"#de77ae\"],[0.3,\"#f1b6da\"],[0.4,\"#fde0ef\"],[0.5,\"#f7f7f7\"],[0.6,\"#e6f5d0\"],[0.7,\"#b8e186\"],[0.8,\"#7fbc41\"],[0.9,\"#4d9221\"],[1,\"#276419\"]]},\"xaxis\":{\"gridcolor\":\"white\",\"linecolor\":\"white\",\"ticks\":\"\",\"title\":{\"standoff\":15},\"zerolinecolor\":\"white\",\"automargin\":true,\"zerolinewidth\":2},\"yaxis\":{\"gridcolor\":\"white\",\"linecolor\":\"white\",\"ticks\":\"\",\"title\":{\"standoff\":15},\"zerolinecolor\":\"white\",\"automargin\":true,\"zerolinewidth\":2},\"scene\":{\"xaxis\":{\"backgroundcolor\":\"#E5ECF6\",\"gridcolor\":\"white\",\"linecolor\":\"white\",\"showbackground\":true,\"ticks\":\"\",\"zerolinecolor\":\"white\",\"gridwidth\":2},\"yaxis\":{\"backgroundcolor\":\"#E5ECF6\",\"gridcolor\":\"white\",\"linecolor\":\"white\",\"showbackground\":true,\"ticks\":\"\",\"zerolinecolor\":\"white\",\"gridwidth\":2},\"zaxis\":{\"backgroundcolor\":\"#E5ECF6\",\"gridcolor\":\"white\",\"linecolor\":\"white\",\"showbackground\":true,\"ticks\":\"\",\"zerolinecolor\":\"white\",\"gridwidth\":2}},\"shapedefaults\":{\"line\":{\"color\":\"#2a3f5f\"}},\"annotationdefaults\":{\"arrowcolor\":\"#2a3f5f\",\"arrowhead\":0,\"arrowwidth\":1},\"geo\":{\"bgcolor\":\"white\",\"landcolor\":\"#E5ECF6\",\"subunitcolor\":\"white\",\"showland\":true,\"showlakes\":true,\"lakecolor\":\"white\"},\"title\":{\"x\":0.05},\"mapbox\":{\"style\":\"light\"}}},\"xaxis\":{\"anchor\":\"y\",\"domain\":[0.0,1.0],\"title\":{\"text\":\"Year\"}},\"yaxis\":{\"anchor\":\"x\",\"domain\":[0.0,1.0],\"title\":{\"text\":\"probability density\"}},\"legend\":{\"tracegroupgap\":0},\"margin\":{\"t\":60},\"barmode\":\"relative\"},                        {\"responsive\": true}                    ).then(function(){\n",
              "                            \n",
              "var gd = document.getElementById('6c47e109-eb86-46ec-9db9-b70299015284');\n",
              "var x = new MutationObserver(function (mutations, observer) {{\n",
              "        var display = window.getComputedStyle(gd).display;\n",
              "        if (!display || display === 'none') {{\n",
              "            console.log([gd, 'removed!']);\n",
              "            Plotly.purge(gd);\n",
              "            observer.disconnect();\n",
              "        }}\n",
              "}});\n",
              "\n",
              "// Listen for the removal of the full notebook cells\n",
              "var notebookContainer = gd.closest('#notebook-container');\n",
              "if (notebookContainer) {{\n",
              "    x.observe(notebookContainer, {childList: true});\n",
              "}}\n",
              "\n",
              "// Listen for the clearing of the current output cell\n",
              "var outputEl = gd.closest('.output');\n",
              "if (outputEl) {{\n",
              "    x.observe(outputEl, {childList: true});\n",
              "}}\n",
              "\n",
              "                        })                };                            </script>        </div>\n",
              "</body>\n",
              "</html>"
            ]
          },
          "metadata": {}
        }
      ]
    },
    {
      "cell_type": "code",
      "source": [
        "#Group data by Year and Calculate the avg rating\n",
        "avg_ratingbyyear = imdb_df.groupby(['Year', 'Genre'])['Rating'].mean().reset_index()\n",
        "\n",
        "#Get the Top 10 Genres\n",
        "top_genres = imdb_df['Genre'].value_counts().head(10).index\n",
        "\n",
        "#Filter the data to include only the top 3 genres\n",
        "top_three_genres = avg_ratingbyyear[avg_ratingbyyear['Genre'].isin(top_genres)]\n",
        "\n",
        "#Create the line plot with Plotly Express\n",
        "fig = px.line(top_three_genres, x='Year', y='Rating', color='Genre')\n",
        "\n",
        "#Updating the details into chart like title and hue\n",
        "fig.update_layout(title='Avg Rating by Year for TOP Genres', xaxis_title='Year', yaxis_title='Avg Rating')\n",
        "\n",
        "#Show the chart\n",
        "fig.show()"
      ],
      "metadata": {
        "colab": {
          "base_uri": "https://localhost:8080/",
          "height": 542
        },
        "id": "qhjr7U2wg-j8",
        "outputId": "334008ef-839e-445a-9b8d-3469836eb25d"
      },
      "execution_count": null,
      "outputs": [
        {
          "output_type": "display_data",
          "data": {
            "text/html": [
              "<html>\n",
              "<head><meta charset=\"utf-8\" /></head>\n",
              "<body>\n",
              "    <div>            <script src=\"https://cdnjs.cloudflare.com/ajax/libs/mathjax/2.7.5/MathJax.js?config=TeX-AMS-MML_SVG\"></script><script type=\"text/javascript\">if (window.MathJax && window.MathJax.Hub && window.MathJax.Hub.Config) {window.MathJax.Hub.Config({SVG: {font: \"STIX-Web\"}});}</script>                <script type=\"text/javascript\">window.PlotlyConfig = {MathJaxConfig: 'local'};</script>\n",
              "        <script charset=\"utf-8\" src=\"https://cdn.plot.ly/plotly-2.35.2.min.js\"></script>                <div id=\"268355b4-424c-4ed4-b0e6-f93ab9944078\" class=\"plotly-graph-div\" style=\"height:525px; width:100%;\"></div>            <script type=\"text/javascript\">                                    window.PLOTLYENV=window.PLOTLYENV || {};                                    if (document.getElementById(\"268355b4-424c-4ed4-b0e6-f93ab9944078\")) {                    Plotly.newPlot(                        \"268355b4-424c-4ed4-b0e6-f93ab9944078\",                        [{\"hovertemplate\":\"Genre=Drama\\u003cbr\\u003eYear=%{x}\\u003cbr\\u003eRating=%{y}\\u003cextra\\u003e\\u003c\\u002fextra\\u003e\",\"legendgroup\":\"Drama\",\"line\":{\"color\":\"#636efa\",\"dash\":\"solid\"},\"marker\":{\"symbol\":\"circle\"},\"mode\":\"lines\",\"name\":\"Drama\",\"orientation\":\"v\",\"showlegend\":true,\"x\":[1931,1933,1934,1935,1936,1937,1938,1939,1940,1941,1942,1943,1944,1945,1946,1947,1948,1949,1950,1951,1952,1953,1954,1955,1956,1957,1958,1959,1960,1961,1962,1963,1964,1965,1966,1967,1968,1969,1970,1971,1972,1973,1974,1975,1976,1977,1978,1979,1980,1981,1982,1983,1984,1985,1986,1987,1988,1989,1990,1991,1992,1993,1994,1995,1996,1997,1998,1999,2000,2001,2002,2003,2004,2005,2006,2007,2008,2009,2010,2011,2012,2013,2014,2015,2016,2017,2018,2019,2020,2021],\"xaxis\":\"x\",\"y\":[5.75,6.2,8.5,6.633333333333333,6.3500000000000005,6.525,6.05,6.4,6.859999999999999,6.475,6.82,7.316666666666666,7.033333333333334,6.466666666666666,7.0200000000000005,6.866666666666667,6.8,6.875,6.785714285714286,6.5125,7.48888888888889,7.109999999999999,6.371428571428572,6.825,6.6,7.2125,6.6000000000000005,6.57,7.033333333333334,7.009090909090909,6.754545454545454,6.541666666666667,6.89375,6.794117647058823,6.5249999999999995,6.764705882352941,6.635294117647058,6.590476190476191,6.8999999999999995,6.75,6.7625,6.4750000000000005,6.77741935483871,6.513636363636365,6.494736842105263,6.8950000000000005,6.825,6.457894736842105,6.226086956521739,6.621052631578947,6.703846153846154,6.565217391304348,6.3999999999999995,6.361538461538462,5.982758620689655,5.933333333333334,6.319047619047619,6.16,5.550000000000001,6.18125,5.441666666666666,5.35625,5.542857142857143,6.2444444444444445,5.811111111111111,5.873684210526315,6.152941176470588,5.5125,5.872222222222223,5.4879999999999995,5.2956521739130435,5.506666666666666,5.242857142857143,5.596363636363637,5.390625,5.836111111111111,5.447826086956522,5.45,5.393548387096774,5.760000000000001,6.135483870967741,6.032692307692307,5.947826086956522,6.072727272727272,6.188679245283019,6.2506329113924055,6.575903614457831,6.551351351351352,6.890697674418605,7.045833333333333],\"yaxis\":\"y\",\"type\":\"scatter\"},{\"hovertemplate\":\"Genre= Romance\\u003cbr\\u003eYear=%{x}\\u003cbr\\u003eRating=%{y}\\u003cextra\\u003e\\u003c\\u002fextra\\u003e\",\"legendgroup\":\" Romance\",\"line\":{\"color\":\"#EF553B\",\"dash\":\"solid\"},\"marker\":{\"symbol\":\"circle\"},\"mode\":\"lines\",\"name\":\" Romance\",\"orientation\":\"v\",\"showlegend\":true,\"x\":[1932,1933,1936,1937,1938,1939,1943,1944,1946,1947,1948,1949,1950,1951,1952,1953,1954,1955,1956,1957,1958,1959,1960,1961,1962,1963,1964,1965,1966,1967,1968,1969,1970,1971,1972,1973,1974,1975,1976,1977,1978,1979,1980,1981,1982,1983,1984,1985,1986,1987,1988,1989,1990,1991,1992,1993,1994,1995,1996,1997,1998,1999,2000,2001,2002,2003,2004,2005,2006,2007,2008,2009,2010,2011,2012,2013,2014,2015,2016,2017,2018,2019,2020,2021],\"xaxis\":\"x\",\"y\":[6.0,6.2,6.35,5.9,5.2,6.4,7.5,7.166666666666667,7.1,7.550000000000001,7.140000000000001,6.9799999999999995,7.0,6.959999999999999,7.3500000000000005,7.1000000000000005,6.628571428571428,7.114285714285715,6.659999999999999,7.127272727272728,6.911111111111111,6.720000000000001,6.875,6.5375,6.845454545454545,6.545454545454546,6.82,6.966666666666667,6.572222222222222,6.728571428571429,6.535714285714286,6.471428571428571,6.86,6.721428571428571,6.363636363636363,6.75,6.65625,6.96,6.466666666666667,6.866666666666666,6.779999999999999,6.792857142857143,6.754545454545454,6.552941176470589,6.636363636363637,6.584615384615384,6.1625,6.216666666666666,6.2875,6.25,5.483333333333333,6.375,5.89,5.721052631578948,5.606896551724137,5.052,5.15625,4.817647058823529,5.58,5.05,5.61578947368421,5.031818181818182,5.180952380952381,5.453846153846154,4.929032258064517,5.489285714285714,4.678260869565217,4.79,5.014705882352941,5.182142857142857,5.303999999999999,5.2,5.416,5.544444444444444,5.251612903225807,5.6,5.382926829268293,5.411428571428572,4.824000000000001,5.709090909090909,5.8310344827586205,6.16774193548387,5.790909090909091,6.336363636363637],\"yaxis\":\"y\",\"type\":\"scatter\"},{\"hovertemplate\":\"Genre=Action\\u003cbr\\u003eYear=%{x}\\u003cbr\\u003eRating=%{y}\\u003cextra\\u003e\\u003c\\u002fextra\\u003e\",\"legendgroup\":\"Action\",\"line\":{\"color\":\"#00cc96\",\"dash\":\"solid\"},\"marker\":{\"symbol\":\"circle\"},\"mode\":\"lines\",\"name\":\"Action\",\"orientation\":\"v\",\"showlegend\":true,\"x\":[1935,1939,1940,1951,1952,1953,1954,1955,1956,1957,1958,1959,1960,1961,1962,1963,1964,1965,1966,1967,1968,1969,1970,1971,1972,1973,1974,1975,1976,1977,1978,1979,1980,1981,1982,1983,1984,1985,1986,1987,1988,1989,1990,1991,1992,1993,1994,1995,1996,1997,1998,1999,2000,2001,2002,2003,2004,2005,2006,2007,2008,2009,2010,2011,2012,2013,2014,2015,2016,2017,2018,2019,2020,2021],\"xaxis\":\"x\",\"y\":[4.5,6.6,6.1,6.550000000000001,6.95,5.949999999999999,6.15,6.3,6.2,6.8,6.033333333333334,6.225,6.640000000000001,5.866666666666667,5.666666666666667,6.14,5.7,6.257142857142857,6.257142857142857,6.016666666666667,6.2,6.211111111111111,6.207692307692308,6.214285714285714,5.785714285714286,6.22,6.369230769230769,6.371428571428572,6.0625,5.823076923076924,6.2625,6.078947368421052,6.5086956521739125,6.114814814814815,6.132000000000001,5.963157894736842,5.751724137931035,5.7,5.862962962962963,5.623809523809523,5.463636363636364,5.521739130434782,5.386842105263158,5.105128205128205,5.478378378378378,5.3,5.071428571428571,5.174418604651163,5.175675675675675,5.175675675675675,5.062162162162163,5.35945945945946,4.9184210526315795,5.387096774193548,5.181578947368421,4.89375,5.154761904761905,5.447826086956522,4.8,5.23,4.885185185185185,4.934210526315789,5.294117647058823,5.290909090909091,5.341666666666666,5.287804878048781,5.152777777777778,5.697297297297298,5.6421052631578945,5.935135135135135,5.814705882352941,5.755102040816326,5.808695652173912,5.9125],\"yaxis\":\"y\",\"type\":\"scatter\"},{\"hovertemplate\":\"Genre= Musical\\u003cbr\\u003eYear=%{x}\\u003cbr\\u003eRating=%{y}\\u003cextra\\u003e\\u003c\\u002fextra\\u003e\",\"legendgroup\":\" Musical\",\"line\":{\"color\":\"#ab63fa\",\"dash\":\"solid\"},\"marker\":{\"symbol\":\"circle\"},\"mode\":\"lines\",\"name\":\" Musical\",\"orientation\":\"v\",\"showlegend\":true,\"x\":[1936,1942,1943,1946,1947,1948,1949,1950,1951,1952,1953,1954,1955,1956,1957,1958,1959,1960,1961,1962,1963,1964,1965,1966,1967,1968,1969,1970,1971,1972,1973,1974,1975,1977,1978,1979,1980,1981,1982,1983,1984,1985,1987,1988,1989,1990,1991,1992,1993,1994,1995,1996,1997,1998,1999,2000,2001,2002,2003,2004,2005,2006,2007,2008,2009,2010,2011,2012,2013,2014,2015,2016,2017,2019,2020,2021],\"xaxis\":\"x\",\"y\":[6.5,6.8,7.5,7.3,7.7,6.4,7.7,7.4,7.3999999999999995,7.4,7.233333333333333,6.6,7.25,7.26,7.75,7.42,7.075,7.400000000000001,7.116666666666667,7.171428571428572,6.459999999999999,7.616666666666667,6.7,7.0,6.68,6.8999999999999995,7.05,6.566666666666666,6.955555555555556,7.24,7.116666666666667,6.671428571428572,6.566666666666666,6.85,7.7,7.2,6.633333333333333,6.859999999999999,6.933333333333334,5.966666666666666,6.8,6.625,6.475,7.85,6.4,7.166666666666667,6.257142857142858,5.225,6.300000000000001,6.75,5.466666666666666,6.15,5.88,6.15,6.05,5.466666666666667,5.6,5.454545454545454,4.975,5.0600000000000005,5.3375,5.1499999999999995,4.516666666666667,2.966666666666667,5.271428571428571,5.8,5.75,5.74,5.866666666666667,5.3500000000000005,3.95,6.0,4.55,3.4,5.966666666666666,5.25],\"yaxis\":\"y\",\"type\":\"scatter\"},{\"hovertemplate\":\"Genre= Family\\u003cbr\\u003eYear=%{x}\\u003cbr\\u003eRating=%{y}\\u003cextra\\u003e\\u003c\\u002fextra\\u003e\",\"legendgroup\":\" Family\",\"line\":{\"color\":\"#FFA15A\",\"dash\":\"solid\"},\"marker\":{\"symbol\":\"circle\"},\"mode\":\"lines\",\"name\":\" Family\",\"orientation\":\"v\",\"showlegend\":true,\"x\":[1937,1942,1943,1948,1949,1950,1951,1953,1954,1955,1957,1958,1959,1961,1962,1963,1964,1965,1966,1967,1968,1969,1970,1971,1972,1973,1974,1975,1976,1977,1978,1979,1980,1981,1982,1983,1984,1985,1986,1987,1988,1989,1990,1991,1992,1993,1994,1995,1996,1997,1998,1999,2000,2001,2002,2003,2004,2005,2006,2007,2008,2009,2010,2011,2012,2013,2014,2015,2016,2017,2018,2019,2020,2021],\"xaxis\":\"x\",\"y\":[5.9,6.2,7.2,5.7,6.833333333333333,6.85,7.0,7.05,6.575,7.25,7.279999999999999,6.5,6.5,6.6000000000000005,6.575,6.6,6.875,6.6000000000000005,6.7,6.4,6.56,6.228571428571429,6.45,6.428571428571429,6.575,6.271428571428571,6.7625,6.414285714285714,6.42,6.928571428571429,6.855555555555556,6.029999999999999,6.32,6.82,6.58,6.557142857142857,6.033333333333334,6.15,6.720000000000001,5.8,5.333333333333333,6.111111111111111,4.35,4.1,4.8,5.8,5.949999999999999,5.1,5.5,6.666666666666667,4.7,6.2,6.633333333333333,5.066666666666666,6.34,5.2,5.633333333333333,5.985714285714286,5.65,6.377777777777777,5.071428571428571,6.0,6.144444444444444,6.214285714285714,6.181818181818182,6.6499999999999995,5.416666666666667,5.871428571428572,6.766666666666667,6.355555555555556,6.277777777777778,7.666666666666667,7.75,6.733333333333333],\"yaxis\":\"y\",\"type\":\"scatter\"},{\"hovertemplate\":\"Genre= Drama\\u003cbr\\u003eYear=%{x}\\u003cbr\\u003eRating=%{y}\\u003cextra\\u003e\\u003c\\u002fextra\\u003e\",\"legendgroup\":\" Drama\",\"line\":{\"color\":\"#19d3f3\",\"dash\":\"solid\"},\"marker\":{\"symbol\":\"circle\"},\"mode\":\"lines\",\"name\":\" Drama\",\"orientation\":\"v\",\"showlegend\":true,\"x\":[1942,1943,1946,1947,1948,1949,1950,1951,1952,1953,1954,1955,1956,1957,1958,1959,1960,1961,1962,1963,1964,1965,1966,1967,1968,1969,1970,1971,1972,1973,1974,1975,1976,1977,1978,1979,1980,1981,1982,1983,1984,1985,1986,1987,1988,1989,1990,1991,1992,1993,1994,1995,1996,1997,1998,1999,2000,2001,2002,2003,2004,2005,2006,2007,2008,2009,2010,2011,2012,2013,2014,2015,2016,2017,2018,2019,2020,2021],\"xaxis\":\"x\",\"y\":[6.6,6.9,6.5,6.8,7.5,7.45,7.1,6.8999999999999995,7.166666666666667,7.333333333333333,6.6,6.822222222222222,6.5875,6.916666666666667,6.0,7.1,6.728571428571429,6.608333333333333,6.1875,6.459999999999999,6.411111111111111,6.642857142857143,6.75,6.506666666666666,6.3538461538461535,6.0,6.7700000000000005,6.5249999999999995,5.855555555555556,6.590909090909091,6.616666666666667,6.87,6.1692307692307695,6.086956521739131,6.23125,6.29,6.6037037037037045,6.372222222222223,6.3,6.4750000000000005,5.963636363636363,6.227586206896552,6.02962962962963,5.778947368421052,5.824137931034483,5.68108108108108,5.511428571428572,5.266666666666667,5.8428571428571425,5.502325581395349,5.2775,5.111428571428571,5.3428571428571425,5.570588235294117,5.596875,5.554545454545455,5.279411764705882,5.645714285714286,5.491666666666666,5.245238095238095,5.36,5.8812500000000005,5.576190476190476,5.695918367346939,5.490163934426229,5.656363636363637,5.587142857142857,5.589393939393939,6.164705882352941,5.9035087719298245,5.932608695652173,5.816129032258065,6.241176470588235,5.947727272727272,6.191111111111112,6.340277777777778,5.883333333333333,6.4],\"yaxis\":\"y\",\"type\":\"scatter\"},{\"hovertemplate\":\"Genre=Comedy\\u003cbr\\u003eYear=%{x}\\u003cbr\\u003eRating=%{y}\\u003cextra\\u003e\\u003c\\u002fextra\\u003e\",\"legendgroup\":\"Comedy\",\"line\":{\"color\":\"#FF6692\",\"dash\":\"solid\"},\"marker\":{\"symbol\":\"circle\"},\"mode\":\"lines\",\"name\":\"Comedy\",\"orientation\":\"v\",\"showlegend\":true,\"x\":[1943,1946,1947,1949,1950,1951,1952,1953,1954,1955,1956,1957,1958,1959,1960,1961,1962,1963,1964,1965,1966,1967,1968,1969,1970,1971,1972,1973,1974,1975,1976,1977,1978,1979,1980,1981,1982,1983,1984,1985,1986,1987,1988,1989,1990,1991,1992,1993,1994,1995,1996,1997,1998,1999,2000,2001,2002,2003,2004,2005,2006,2007,2008,2009,2010,2011,2012,2013,2014,2015,2016,2017,2018,2019,2020,2021],\"xaxis\":\"x\",\"y\":[6.9,6.5,7.4,6.4,7.1,6.65,7.4,6.7,6.966666666666666,7.1875,6.928571428571429,7.0,7.5,7.45,6.7,6.866666666666666,6.357142857142857,6.75,6.733333333333333,6.35,7.044444444444444,6.75,6.529999999999999,6.171428571428572,6.975,6.62,6.185714285714285,6.7,6.733333333333333,6.714285714285714,7.175000000000001,6.925,6.542857142857143,6.883333333333333,7.033333333333334,6.8428571428571425,6.62,6.754545454545454,6.459999999999999,6.57,6.677777777777778,6.133333333333333,6.0600000000000005,5.62,6.3,4.1,5.927272727272728,5.477777777777778,6.35,5.25,5.6375,5.918181818181818,5.808333333333334,5.183333333333334,4.9399999999999995,5.55,5.053846153846154,5.559090909090909,4.98,5.503125,5.696296296296297,5.683870967741935,5.105555555555556,5.648387096774194,5.686046511627907,5.3954545454545455,5.476190476190476,5.432258064516129,5.462790697674419,5.355102040816326,5.428571428571429,5.865909090909091,5.648936170212766,6.270833333333333,5.945161290322581,6.1375],\"yaxis\":\"y\",\"type\":\"scatter\"},{\"hovertemplate\":\"Genre= Crime\\u003cbr\\u003eYear=%{x}\\u003cbr\\u003eRating=%{y}\\u003cextra\\u003e\\u003c\\u002fextra\\u003e\",\"legendgroup\":\" Crime\",\"line\":{\"color\":\"#B6E880\",\"dash\":\"solid\"},\"marker\":{\"symbol\":\"circle\"},\"mode\":\"lines\",\"name\":\" Crime\",\"orientation\":\"v\",\"showlegend\":true,\"x\":[1949,1953,1954,1955,1956,1957,1959,1960,1961,1962,1963,1965,1967,1968,1969,1970,1971,1972,1973,1974,1975,1976,1977,1978,1979,1980,1981,1982,1983,1984,1985,1986,1987,1988,1989,1990,1991,1992,1993,1994,1995,1996,1997,1998,1999,2000,2001,2002,2003,2004,2005,2006,2007,2008,2009,2010,2011,2012,2013,2014,2015,2016,2017,2018,2019,2020,2021],\"xaxis\":\"x\",\"y\":[7.2,7.5,6.2,6.6,6.466666666666666,7.75,7.1,7.3999999999999995,6.15,5.7,7.0,6.3,5.933333333333334,5.966666666666666,6.38,5.7,6.25,6.0,5.84,6.033333333333334,6.08,6.220000000000001,6.16,5.9399999999999995,6.575,6.675,6.4125,6.1571428571428575,6.56,5.58,6.122222222222223,6.3,5.925000000000001,5.975,5.4639999999999995,5.406666666666666,4.6,5.5,5.6,4.972727272727273,5.4125,5.333333333333333,5.8428571428571425,5.990909090909091,5.741666666666667,5.0600000000000005,5.136363636363637,5.355555555555556,5.511111111111111,5.570588235294117,5.992307692307692,5.178947368421053,5.09375,5.119047619047619,5.0249999999999995,5.616666666666667,5.378571428571428,5.257142857142857,5.190476190476191,5.857142857142857,6.2823529411764705,6.18,6.35,5.65,5.958333333333333,7.090000000000001,5.275],\"yaxis\":\"y\",\"type\":\"scatter\"},{\"hovertemplate\":\"Genre= Thriller\\u003cbr\\u003eYear=%{x}\\u003cbr\\u003eRating=%{y}\\u003cextra\\u003e\\u003c\\u002fextra\\u003e\",\"legendgroup\":\" Thriller\",\"line\":{\"color\":\"#FF97FF\",\"dash\":\"solid\"},\"marker\":{\"symbol\":\"circle\"},\"mode\":\"lines\",\"name\":\" Thriller\",\"orientation\":\"v\",\"showlegend\":true,\"x\":[1952,1954,1957,1958,1959,1960,1962,1964,1965,1966,1967,1968,1969,1970,1971,1972,1973,1974,1975,1976,1977,1978,1979,1980,1981,1982,1983,1984,1985,1986,1987,1988,1989,1990,1991,1992,1993,1994,1995,1996,1997,1998,1999,2000,2001,2002,2003,2004,2005,2006,2007,2008,2009,2010,2011,2012,2013,2014,2015,2016,2017,2018,2019,2020,2021],\"xaxis\":\"x\",\"y\":[7.2,6.6,6.8,6.233333333333333,6.7,6.5,6.8,6.566666666666666,6.825,6.0,6.840000000000001,6.725,6.566666666666666,6.675,6.65,6.5,6.155555555555555,6.68,6.071428571428571,6.35,5.733333333333333,7.1,6.433333333333334,6.1571428571428575,6.366666666666666,5.900000000000001,4.5,5.75,6.12,6.655555555555555,6.0,5.35,6.0,5.55,6.0,5.885714285714286,5.022222222222222,5.91,5.76,4.59,4.566666666666666,4.6,5.6000000000000005,5.34,6.0875,5.088888888888889,5.107142857142857,5.088888888888889,4.915,5.319999999999999,4.3,5.608333333333333,5.954545454545454,5.23125,5.715,5.121052631578947,5.52051282051282,5.391304347826087,5.938461538461539,6.291428571428571,6.0360000000000005,5.282608695652174,5.796428571428572,5.541176470588235,5.188888888888889],\"yaxis\":\"y\",\"type\":\"scatter\"},{\"hovertemplate\":\"Genre= Comedy\\u003cbr\\u003eYear=%{x}\\u003cbr\\u003eRating=%{y}\\u003cextra\\u003e\\u003c\\u002fextra\\u003e\",\"legendgroup\":\" Comedy\",\"line\":{\"color\":\"#FECB52\",\"dash\":\"solid\"},\"marker\":{\"symbol\":\"circle\"},\"mode\":\"lines\",\"name\":\" Comedy\",\"orientation\":\"v\",\"showlegend\":true,\"x\":[1955,1956,1960,1962,1963,1964,1965,1966,1967,1968,1969,1970,1971,1972,1973,1974,1975,1976,1977,1978,1979,1980,1981,1982,1983,1984,1985,1986,1987,1988,1989,1990,1991,1992,1993,1994,1995,1996,1997,1998,1999,2000,2001,2002,2003,2004,2005,2006,2007,2008,2009,2010,2011,2012,2013,2014,2015,2016,2017,2018,2019,2020,2021],\"xaxis\":\"x\",\"y\":[6.800000000000001,5.7,6.8,6.85,7.4,6.4,5.85,6.5,5.0,4.65,6.55,6.58,6.62,6.5,5.0,6.433333333333334,6.233333333333333,6.466666666666666,6.25,6.800000000000001,5.55,6.575,6.4,6.6000000000000005,5.72,6.4,5.4,5.166666666666667,5.866666666666667,6.65,5.875,5.583333333333333,6.025,6.285714285714286,6.066666666666666,5.45,5.7,5.95,5.371428571428572,5.7125,5.15,4.75,4.9399999999999995,4.833333333333333,4.933333333333334,4.9,4.675000000000001,4.76,5.1,5.45,4.9125,5.271428571428571,4.8999999999999995,5.29,5.133333333333334,5.175,5.663636363636363,4.3625,5.228571428571429,5.933333333333334,4.13,5.025,7.6],\"yaxis\":\"y\",\"type\":\"scatter\"}],                        {\"template\":{\"data\":{\"histogram2dcontour\":[{\"type\":\"histogram2dcontour\",\"colorbar\":{\"outlinewidth\":0,\"ticks\":\"\"},\"colorscale\":[[0.0,\"#0d0887\"],[0.1111111111111111,\"#46039f\"],[0.2222222222222222,\"#7201a8\"],[0.3333333333333333,\"#9c179e\"],[0.4444444444444444,\"#bd3786\"],[0.5555555555555556,\"#d8576b\"],[0.6666666666666666,\"#ed7953\"],[0.7777777777777778,\"#fb9f3a\"],[0.8888888888888888,\"#fdca26\"],[1.0,\"#f0f921\"]]}],\"choropleth\":[{\"type\":\"choropleth\",\"colorbar\":{\"outlinewidth\":0,\"ticks\":\"\"}}],\"histogram2d\":[{\"type\":\"histogram2d\",\"colorbar\":{\"outlinewidth\":0,\"ticks\":\"\"},\"colorscale\":[[0.0,\"#0d0887\"],[0.1111111111111111,\"#46039f\"],[0.2222222222222222,\"#7201a8\"],[0.3333333333333333,\"#9c179e\"],[0.4444444444444444,\"#bd3786\"],[0.5555555555555556,\"#d8576b\"],[0.6666666666666666,\"#ed7953\"],[0.7777777777777778,\"#fb9f3a\"],[0.8888888888888888,\"#fdca26\"],[1.0,\"#f0f921\"]]}],\"heatmap\":[{\"type\":\"heatmap\",\"colorbar\":{\"outlinewidth\":0,\"ticks\":\"\"},\"colorscale\":[[0.0,\"#0d0887\"],[0.1111111111111111,\"#46039f\"],[0.2222222222222222,\"#7201a8\"],[0.3333333333333333,\"#9c179e\"],[0.4444444444444444,\"#bd3786\"],[0.5555555555555556,\"#d8576b\"],[0.6666666666666666,\"#ed7953\"],[0.7777777777777778,\"#fb9f3a\"],[0.8888888888888888,\"#fdca26\"],[1.0,\"#f0f921\"]]}],\"heatmapgl\":[{\"type\":\"heatmapgl\",\"colorbar\":{\"outlinewidth\":0,\"ticks\":\"\"},\"colorscale\":[[0.0,\"#0d0887\"],[0.1111111111111111,\"#46039f\"],[0.2222222222222222,\"#7201a8\"],[0.3333333333333333,\"#9c179e\"],[0.4444444444444444,\"#bd3786\"],[0.5555555555555556,\"#d8576b\"],[0.6666666666666666,\"#ed7953\"],[0.7777777777777778,\"#fb9f3a\"],[0.8888888888888888,\"#fdca26\"],[1.0,\"#f0f921\"]]}],\"contourcarpet\":[{\"type\":\"contourcarpet\",\"colorbar\":{\"outlinewidth\":0,\"ticks\":\"\"}}],\"contour\":[{\"type\":\"contour\",\"colorbar\":{\"outlinewidth\":0,\"ticks\":\"\"},\"colorscale\":[[0.0,\"#0d0887\"],[0.1111111111111111,\"#46039f\"],[0.2222222222222222,\"#7201a8\"],[0.3333333333333333,\"#9c179e\"],[0.4444444444444444,\"#bd3786\"],[0.5555555555555556,\"#d8576b\"],[0.6666666666666666,\"#ed7953\"],[0.7777777777777778,\"#fb9f3a\"],[0.8888888888888888,\"#fdca26\"],[1.0,\"#f0f921\"]]}],\"surface\":[{\"type\":\"surface\",\"colorbar\":{\"outlinewidth\":0,\"ticks\":\"\"},\"colorscale\":[[0.0,\"#0d0887\"],[0.1111111111111111,\"#46039f\"],[0.2222222222222222,\"#7201a8\"],[0.3333333333333333,\"#9c179e\"],[0.4444444444444444,\"#bd3786\"],[0.5555555555555556,\"#d8576b\"],[0.6666666666666666,\"#ed7953\"],[0.7777777777777778,\"#fb9f3a\"],[0.8888888888888888,\"#fdca26\"],[1.0,\"#f0f921\"]]}],\"mesh3d\":[{\"type\":\"mesh3d\",\"colorbar\":{\"outlinewidth\":0,\"ticks\":\"\"}}],\"scatter\":[{\"fillpattern\":{\"fillmode\":\"overlay\",\"size\":10,\"solidity\":0.2},\"type\":\"scatter\"}],\"parcoords\":[{\"type\":\"parcoords\",\"line\":{\"colorbar\":{\"outlinewidth\":0,\"ticks\":\"\"}}}],\"scatterpolargl\":[{\"type\":\"scatterpolargl\",\"marker\":{\"colorbar\":{\"outlinewidth\":0,\"ticks\":\"\"}}}],\"bar\":[{\"error_x\":{\"color\":\"#2a3f5f\"},\"error_y\":{\"color\":\"#2a3f5f\"},\"marker\":{\"line\":{\"color\":\"#E5ECF6\",\"width\":0.5},\"pattern\":{\"fillmode\":\"overlay\",\"size\":10,\"solidity\":0.2}},\"type\":\"bar\"}],\"scattergeo\":[{\"type\":\"scattergeo\",\"marker\":{\"colorbar\":{\"outlinewidth\":0,\"ticks\":\"\"}}}],\"scatterpolar\":[{\"type\":\"scatterpolar\",\"marker\":{\"colorbar\":{\"outlinewidth\":0,\"ticks\":\"\"}}}],\"histogram\":[{\"marker\":{\"pattern\":{\"fillmode\":\"overlay\",\"size\":10,\"solidity\":0.2}},\"type\":\"histogram\"}],\"scattergl\":[{\"type\":\"scattergl\",\"marker\":{\"colorbar\":{\"outlinewidth\":0,\"ticks\":\"\"}}}],\"scatter3d\":[{\"type\":\"scatter3d\",\"line\":{\"colorbar\":{\"outlinewidth\":0,\"ticks\":\"\"}},\"marker\":{\"colorbar\":{\"outlinewidth\":0,\"ticks\":\"\"}}}],\"scattermapbox\":[{\"type\":\"scattermapbox\",\"marker\":{\"colorbar\":{\"outlinewidth\":0,\"ticks\":\"\"}}}],\"scatterternary\":[{\"type\":\"scatterternary\",\"marker\":{\"colorbar\":{\"outlinewidth\":0,\"ticks\":\"\"}}}],\"scattercarpet\":[{\"type\":\"scattercarpet\",\"marker\":{\"colorbar\":{\"outlinewidth\":0,\"ticks\":\"\"}}}],\"carpet\":[{\"aaxis\":{\"endlinecolor\":\"#2a3f5f\",\"gridcolor\":\"white\",\"linecolor\":\"white\",\"minorgridcolor\":\"white\",\"startlinecolor\":\"#2a3f5f\"},\"baxis\":{\"endlinecolor\":\"#2a3f5f\",\"gridcolor\":\"white\",\"linecolor\":\"white\",\"minorgridcolor\":\"white\",\"startlinecolor\":\"#2a3f5f\"},\"type\":\"carpet\"}],\"table\":[{\"cells\":{\"fill\":{\"color\":\"#EBF0F8\"},\"line\":{\"color\":\"white\"}},\"header\":{\"fill\":{\"color\":\"#C8D4E3\"},\"line\":{\"color\":\"white\"}},\"type\":\"table\"}],\"barpolar\":[{\"marker\":{\"line\":{\"color\":\"#E5ECF6\",\"width\":0.5},\"pattern\":{\"fillmode\":\"overlay\",\"size\":10,\"solidity\":0.2}},\"type\":\"barpolar\"}],\"pie\":[{\"automargin\":true,\"type\":\"pie\"}]},\"layout\":{\"autotypenumbers\":\"strict\",\"colorway\":[\"#636efa\",\"#EF553B\",\"#00cc96\",\"#ab63fa\",\"#FFA15A\",\"#19d3f3\",\"#FF6692\",\"#B6E880\",\"#FF97FF\",\"#FECB52\"],\"font\":{\"color\":\"#2a3f5f\"},\"hovermode\":\"closest\",\"hoverlabel\":{\"align\":\"left\"},\"paper_bgcolor\":\"white\",\"plot_bgcolor\":\"#E5ECF6\",\"polar\":{\"bgcolor\":\"#E5ECF6\",\"angularaxis\":{\"gridcolor\":\"white\",\"linecolor\":\"white\",\"ticks\":\"\"},\"radialaxis\":{\"gridcolor\":\"white\",\"linecolor\":\"white\",\"ticks\":\"\"}},\"ternary\":{\"bgcolor\":\"#E5ECF6\",\"aaxis\":{\"gridcolor\":\"white\",\"linecolor\":\"white\",\"ticks\":\"\"},\"baxis\":{\"gridcolor\":\"white\",\"linecolor\":\"white\",\"ticks\":\"\"},\"caxis\":{\"gridcolor\":\"white\",\"linecolor\":\"white\",\"ticks\":\"\"}},\"coloraxis\":{\"colorbar\":{\"outlinewidth\":0,\"ticks\":\"\"}},\"colorscale\":{\"sequential\":[[0.0,\"#0d0887\"],[0.1111111111111111,\"#46039f\"],[0.2222222222222222,\"#7201a8\"],[0.3333333333333333,\"#9c179e\"],[0.4444444444444444,\"#bd3786\"],[0.5555555555555556,\"#d8576b\"],[0.6666666666666666,\"#ed7953\"],[0.7777777777777778,\"#fb9f3a\"],[0.8888888888888888,\"#fdca26\"],[1.0,\"#f0f921\"]],\"sequentialminus\":[[0.0,\"#0d0887\"],[0.1111111111111111,\"#46039f\"],[0.2222222222222222,\"#7201a8\"],[0.3333333333333333,\"#9c179e\"],[0.4444444444444444,\"#bd3786\"],[0.5555555555555556,\"#d8576b\"],[0.6666666666666666,\"#ed7953\"],[0.7777777777777778,\"#fb9f3a\"],[0.8888888888888888,\"#fdca26\"],[1.0,\"#f0f921\"]],\"diverging\":[[0,\"#8e0152\"],[0.1,\"#c51b7d\"],[0.2,\"#de77ae\"],[0.3,\"#f1b6da\"],[0.4,\"#fde0ef\"],[0.5,\"#f7f7f7\"],[0.6,\"#e6f5d0\"],[0.7,\"#b8e186\"],[0.8,\"#7fbc41\"],[0.9,\"#4d9221\"],[1,\"#276419\"]]},\"xaxis\":{\"gridcolor\":\"white\",\"linecolor\":\"white\",\"ticks\":\"\",\"title\":{\"standoff\":15},\"zerolinecolor\":\"white\",\"automargin\":true,\"zerolinewidth\":2},\"yaxis\":{\"gridcolor\":\"white\",\"linecolor\":\"white\",\"ticks\":\"\",\"title\":{\"standoff\":15},\"zerolinecolor\":\"white\",\"automargin\":true,\"zerolinewidth\":2},\"scene\":{\"xaxis\":{\"backgroundcolor\":\"#E5ECF6\",\"gridcolor\":\"white\",\"linecolor\":\"white\",\"showbackground\":true,\"ticks\":\"\",\"zerolinecolor\":\"white\",\"gridwidth\":2},\"yaxis\":{\"backgroundcolor\":\"#E5ECF6\",\"gridcolor\":\"white\",\"linecolor\":\"white\",\"showbackground\":true,\"ticks\":\"\",\"zerolinecolor\":\"white\",\"gridwidth\":2},\"zaxis\":{\"backgroundcolor\":\"#E5ECF6\",\"gridcolor\":\"white\",\"linecolor\":\"white\",\"showbackground\":true,\"ticks\":\"\",\"zerolinecolor\":\"white\",\"gridwidth\":2}},\"shapedefaults\":{\"line\":{\"color\":\"#2a3f5f\"}},\"annotationdefaults\":{\"arrowcolor\":\"#2a3f5f\",\"arrowhead\":0,\"arrowwidth\":1},\"geo\":{\"bgcolor\":\"white\",\"landcolor\":\"#E5ECF6\",\"subunitcolor\":\"white\",\"showland\":true,\"showlakes\":true,\"lakecolor\":\"white\"},\"title\":{\"x\":0.05},\"mapbox\":{\"style\":\"light\"}}},\"xaxis\":{\"anchor\":\"y\",\"domain\":[0.0,1.0],\"title\":{\"text\":\"Year\"}},\"yaxis\":{\"anchor\":\"x\",\"domain\":[0.0,1.0],\"title\":{\"text\":\"Avg Rating\"}},\"legend\":{\"title\":{\"text\":\"Genre\"},\"tracegroupgap\":0},\"margin\":{\"t\":60},\"title\":{\"text\":\"Avg Rating by Year for TOP Genres\"}},                        {\"responsive\": true}                    ).then(function(){\n",
              "                            \n",
              "var gd = document.getElementById('268355b4-424c-4ed4-b0e6-f93ab9944078');\n",
              "var x = new MutationObserver(function (mutations, observer) {{\n",
              "        var display = window.getComputedStyle(gd).display;\n",
              "        if (!display || display === 'none') {{\n",
              "            console.log([gd, 'removed!']);\n",
              "            Plotly.purge(gd);\n",
              "            observer.disconnect();\n",
              "        }}\n",
              "}});\n",
              "\n",
              "// Listen for the removal of the full notebook cells\n",
              "var notebookContainer = gd.closest('#notebook-container');\n",
              "if (notebookContainer) {{\n",
              "    x.observe(notebookContainer, {childList: true});\n",
              "}}\n",
              "\n",
              "// Listen for the clearing of the current output cell\n",
              "var outputEl = gd.closest('.output');\n",
              "if (outputEl) {{\n",
              "    x.observe(outputEl, {childList: true});\n",
              "}}\n",
              "\n",
              "                        })                };                            </script>        </div>\n",
              "</body>\n",
              "</html>"
            ]
          },
          "metadata": {}
        }
      ]
    },
    {
      "cell_type": "code",
      "source": [
        "#This histogram shows the distribution of ratings and its probability density\n",
        "\n",
        "rating_fig = px.histogram(imdb_df, x=\"Rating\", histnorm='probability density', nbins = 40)\n",
        "rating_fig.update_layout(title='Rating Distribution', title_x=0.5, title_pad=dict(t=20), title_font=dict(size=20), xaxis_title='Rating', yaxis_title='Probability Density')\n",
        "rating_fig.show()"
      ],
      "metadata": {
        "colab": {
          "base_uri": "https://localhost:8080/",
          "height": 542
        },
        "id": "dJ96pcogj8kA",
        "outputId": "3f813662-88b8-4f80-e853-c983c590ecce"
      },
      "execution_count": null,
      "outputs": [
        {
          "output_type": "display_data",
          "data": {
            "text/html": [
              "<html>\n",
              "<head><meta charset=\"utf-8\" /></head>\n",
              "<body>\n",
              "    <div>            <script src=\"https://cdnjs.cloudflare.com/ajax/libs/mathjax/2.7.5/MathJax.js?config=TeX-AMS-MML_SVG\"></script><script type=\"text/javascript\">if (window.MathJax && window.MathJax.Hub && window.MathJax.Hub.Config) {window.MathJax.Hub.Config({SVG: {font: \"STIX-Web\"}});}</script>                <script type=\"text/javascript\">window.PlotlyConfig = {MathJaxConfig: 'local'};</script>\n",
              "        <script charset=\"utf-8\" src=\"https://cdn.plot.ly/plotly-2.35.2.min.js\"></script>                <div id=\"c1fdf6b2-c2ef-4e4c-ac19-c4416c275e91\" class=\"plotly-graph-div\" style=\"height:525px; width:100%;\"></div>            <script type=\"text/javascript\">                                    window.PLOTLYENV=window.PLOTLYENV || {};                                    if (document.getElementById(\"c1fdf6b2-c2ef-4e4c-ac19-c4416c275e91\")) {                    Plotly.newPlot(                        \"c1fdf6b2-c2ef-4e4c-ac19-c4416c275e91\",                        [{\"alignmentgroup\":\"True\",\"bingroup\":\"x\",\"histnorm\":\"probability density\",\"hovertemplate\":\"Rating=%{x}\\u003cbr\\u003eprobability density=%{y}\\u003cextra\\u003e\\u003c\\u002fextra\\u003e\",\"legendgroup\":\"\",\"marker\":{\"color\":\"#636efa\",\"pattern\":{\"shape\":\"\"}},\"name\":\"\",\"nbinsx\":40,\"offsetgroup\":\"\",\"orientation\":\"v\",\"showlegend\":false,\"x\":[7.0,4.4,4.4,4.7,4.7,4.7,7.4,7.4,7.4,5.6,5.6,5.6,4.0,4.0,4.0,6.2,5.9,6.5,6.5,6.5,5.7,5.7,5.7,7.4,7.4,6.3,6.3,6.3,7.2,7.2,7.2,4.4,4.4,6.6,6.6,7.3,7.3,7.3,7.1,5.6,6.9,6.9,3.5,4.5,6.4,6.4,6.4,4.1,4.1,4.8,4.8,4.8,4.5,4.5,4.5,7.2,7.2,7.2,8.1,8.1,8.1,4.0,5.5,6.8,6.8,6.8,5.0,5.0,5.0,6.9,6.9,6.9,6.2,6.2,3.5,3.5,3.5,6.1,6.1,7.7,7.7,6.1,5.1,5.1,5.1,6.9,5.0,5.0,3.3,3.3,7.8,7.8,6.9,8.4,8.4,6.9,4.3,4.3,5.8,5.8,5.8,5.7,5.7,5.7,7.5,7.5,5.7,5.7,5.6,5.6,3.6,3.6,3.6,6.3,7.3,7.3,7.3,4.8,7.8,7.8,7.8,5.7,6.5,6.5,4.6,4.6,4.6,4.2,6.2,5.3,5.3,5.0,5.7,5.7,6.2,6.1,6.1,6.1,4.1,4.1,4.1,5.3,5.3,5.3,5.3,5.4,5.4,5.4,6.6,6.6,6.6,4.7,4.7,5.3,7.3,7.3,7.3,7.4,7.4,4.8,4.8,8.1,6.3,7.5,7.5,6.8,6.8,4.5,4.5,4.5,3.0,3.0,3.0,6.3,6.3,6.2,6.2,8.0,8.0,7.3,6.0,3.1,3.8,3.8,7.9,8.1,8.1,8.1,5.5,5.5,5.5,8.0,5.0,5.0,5.0,7.2,7.2,7.2,4.4,4.4,2.7,6.8,2.4,5.5,5.5,5.5,7.4,5.5,5.5,5.5,5.1,7.6,6.4,5.4,5.4,5.4,6.7,6.7,6.8,6.8,6.5,6.5,6.5,6.7,6.2,6.2,6.2,5.0,5.0,7.6,5.4,5.4,4.2,5.3,5.3,7.4,7.4,4.6,4.6,4.6,4.1,5.3,4.8,4.8,4.8,3.4,3.4,5.0,3.1,5.0,5.0,5.0,4.2,4.2,4.2,7.2,7.2,7.2,6.0,6.0,6.0,6.0,6.8,5.5,5.6,5.6,3.1,4.7,4.7,4.7,5.1,5.1,5.3,5.3,3.5,3.5,4.3,4.3,3.1,3.1,5.8,5.8,5.0,5.0,3.3,5.6,5.6,5.6,4.4,6.2,6.2,6.2,6.7,6.7,7.1,7.1,7.1,5.2,5.2,4.1,4.1,4.1,5.0,5.0,5.0,4.9,4.9,4.9,6.3,6.3,6.9,7.3,7.3,2.8,6.3,6.3,6.3,7.9,7.9,7.9,7.0,7.0,7.0,5.4,7.2,7.2,3.0,7.7,7.7,4.8,4.8,4.8,7.7,7.7,7.7,6.5,6.5,6.5,6.4,6.4,6.4,6.4,6.4,6.4,6.4,5.7,5.7,5.7,5.6,6.4,6.4,6.4,8.1,8.1,6.1,7.4,4.8,6.6,6.7,6.7,6.7,7.4,7.4,7.4,6.4,6.4,6.5,6.5,6.5,4.2,5.1,5.1,5.1,6.6,6.6,6.6,5.7,5.7,7.0,7.0,6.3,6.3,6.3,3.6,3.6,6.3,6.3,6.3,3.1,3.1,3.1,5.6,5.6,5.6,5.2,5.2,4.5,4.5,4.5,6.1,6.1,6.2,6.2,6.7,6.6,6.6,6.6,6.6,6.6,6.6,4.6,4.6,4.6,5.4,5.4,6.5,6.5,5.3,5.3,5.3,7.1,6.7,3.8,3.8,3.8,4.3,4.3,4.3,5.5,6.3,6.3,6.3,7.0,7.0,7.0,3.7,3.7,7.3,6.1,5.2,5.2,5.2,3.8,4.8,4.8,5.5,6.8,6.8,6.8,4.5,7.2,7.2,6.4,3.9,3.9,5.2,5.2,5.2,4.4,4.4,4.4,4.5,5.8,5.8,5.8,4.2,4.2,4.2,3.8,3.8,3.8,6.4,6.4,7.0,7.0,5.1,6.1,6.1,6.1,5.4,6.6,6.6,4.4,4.4,4.4,5.0,5.0,5.0,6.6,7.6,4.0,4.8,4.8,7.8,7.8,7.8,5.8,5.8,5.8,4.0,4.0,4.6,4.6,4.6,3.2,3.2,6.3,6.3,6.4,6.4,6.4,4.8,4.8,4.8,7.0,5.4,5.4,5.4,6.8,6.8,7.9,7.9,7.0,7.0,7.0,4.6,4.6,4.6,6.7,6.7,5.8,4.0,4.0,4.0,6.8,6.8,4.0,4.0,4.0,6.5,6.5,6.5,5.0,5.0,5.0,4.5,4.5,4.5,3.3,3.3,3.3,4.2,4.2,4.2,3.6,3.6,3.6,6.9,6.9,6.9,6.4,6.4,6.4,6.6,6.6,6.6,6.7,6.7,6.7,5.4,5.4,4.7,6.8,6.8,6.8,7.3,7.3,5.0,6.9,6.9,6.9,3.3,3.3,3.3,5.5,6.6,4.7,6.2,6.2,6.2,4.6,4.6,4.6,5.8,5.8,5.8,4.6,4.6,4.6,4.5,4.5,4.5,6.6,6.6,6.5,6.5,7.8,7.8,3.6,3.6,5.9,5.9,7.1,7.1,6.3,6.3,6.4,6.4,6.6,6.6,6.6,5.7,5.7,5.7,5.2,5.2,5.2,7.1,7.1,5.1,5.1,5.1,3.1,5.6,5.6,5.6,7.7,7.7,7.7,6.9,6.9,6.9,7.8,6.0,6.0,6.1,6.1,6.1,3.6,4.6,4.6,4.6,4.6,6.2,6.2,6.2,2.9,2.9,2.9,7.2,7.2,5.9,4.1,4.1,7.0,7.0,7.0,7.0,5.7,5.7,8.0,8.0,6.6,5.0,5.0,5.0,6.6,6.6,4.1,4.1,4.1,6.9,6.9,6.6,6.6,6.6,5.3,5.3,5.3,4.4,4.4,4.2,4.2,6.4,6.4,6.4,5.8,6.5,6.5,3.7,3.7,3.7,6.7,6.7,6.9,6.4,6.4,6.4,5.3,5.3,5.3,5.0,5.0,6.9,6.9,6.9,6.3,6.3,6.6,5.0,5.0,5.0,7.7,7.7,7.7,5.5,7.0,5.6,5.1,5.1,5.3,5.3,5.8,5.8,5.8,4.8,4.8,4.8,3.6,3.6,3.6,6.7,6.7,5.9,5.9,4.6,4.6,4.6,6.4,6.4,6.4,3.8,3.8,3.8,6.9,6.8,6.6,6.6,6.6,3.7,3.7,3.7,7.0,7.0,7.0,7.5,7.5,7.5,5.5,5.9,6.4,6.4,6.4,6.2,6.2,6.2,6.7,6.7,6.5,6.3,7.8,7.8,3.8,3.8,3.8,7.9,4.8,4.8,6.2,6.2,6.2,6.1,6.1,6.1,4.3,5.4,5.4,3.7,4.0,4.0,4.0,4.7,4.7,6.5,6.5,6.5,6.6,7.0,7.0,6.8,6.8,6.8,6.6,6.6,6.1,8.2,8.2,8.2,4.4,6.5,4.9,4.9,4.9,7.5,7.5,7.5,2.8,2.8,4.2,6.9,6.9,6.9,4.4,6.6,6.6,6.6,6.6,6.6,4.9,5.4,5.4,6.2,5.6,5.6,5.6,8.1,8.1,6.6,6.6,7.0,7.0,7.3,6.9,6.9,6.9,8.7,8.7,5.9,7.1,7.1,7.1,8.3,8.3,7.6,7.6,7.6,7.1,7.1,7.9,7.9,7.9,4.8,4.8,4.8,6.2,6.2,5.0,7.2,7.2,7.2,5.4,5.4,5.3,5.3,5.3,7.2,7.2,7.2,6.7,6.7,4.4,4.4,4.4,8.1,8.1,8.1,6.8,6.8,6.8,6.8,6.8,6.1,6.1,8.2,8.2,8.2,5.1,5.1,5.1,6.8,6.8,5.5,5.5,5.0,5.0,5.0,6.4,6.4,6.4,4.3,4.3,5.3,5.3,5.3,6.3,6.3,8.3,6.1,4.4,4.4,7.3,7.3,7.0,7.0,6.1,6.1,6.1,7.2,7.2,7.2,7.1,7.1,7.1,6.4,6.4,6.4,5.3,6.9,6.9,5.6,5.8,5.8,5.8,3.9,5.8,5.8,5.8,3.4,3.4,3.4,4.8,4.8,4.8,7.1,4.1,4.1,4.1,7.2,7.2,7.2,8.0,8.0,5.5,6.5,6.5,8.0,7.5,7.5,5.6,5.6,5.6,7.3,7.3,7.3,7.0,7.9,7.9,4.9,7.1,7.7,7.7,4.9,4.9,4.9,6.3,7.4,6.3,6.9,6.9,6.6,6.4,6.4,6.4,4.5,4.5,7.3,7.3,7.3,6.6,6.6,6.6,6.3,6.3,6.3,7.2,7.2,7.3,7.3,5.5,7.1,4.4,5.2,5.2,6.7,3.4,7.4,7.4,6.6,6.6,6.6,6.7,6.7,6.8,6.8,6.6,6.6,6.6,5.4,5.4,5.4,5.7,7.4,7.4,7.4,3.5,3.5,3.5,6.2,6.2,6.8,5.3,5.3,5.3,6.5,6.5,6.0,6.0,5.6,5.6,6.2,6.2,6.2,6.8,6.8,6.8,6.1,6.1,6.8,6.8,6.8,7.3,7.5,6.1,6.1,6.1,7.6,7.6,7.6,6.5,8.2,8.2,7.2,7.2,7.2,3.6,3.6,3.6,5.2,5.2,5.2,4.3,4.3,6.8,6.8,6.8,6.8,6.8,5.2,5.2,5.2,4.3,4.3,5.3,5.3,5.3,6.3,6.3,6.2,6.2,7.9,7.9,8.2,8.2,8.2,6.9,7.0,7.0,4.4,4.4,4.4,7.0,7.0,7.1,7.1,7.1,3.4,3.4,3.4,6.7,6.7,4.9,4.9,6.3,6.3,6.3,5.2,5.2,7.6,7.6,3.7,4.8,9.3,6.5,6.5,6.5,4.3,7.5,7.5,7.5,7.3,7.3,5.4,5.4,8.8,4.3,5.4,5.4,5.4,5.6,2.9,2.9,6.0,6.0,5.9,6.4,8.2,8.2,6.9,6.9,6.9,5.3,5.3,3.8,4.3,4.3,4.3,6.0,6.0,6.0,4.2,6.5,6.5,6.5,7.2,7.4,7.4,4.2,4.8,5.9,5.9,6.4,4.5,4.5,4.5,6.5,5.7,5.7,5.7,6.0,6.0,6.0,6.0,6.0,7.2,7.9,7.9,7.9,5.9,6.2,6.2,6.2,5.1,5.1,5.1,6.2,6.2,6.2,7.3,7.3,7.3,8.7,3.6,7.0,7.0,6.2,6.2,5.1,6.4,6.4,6.2,5.5,5.5,5.5,7.6,7.2,7.2,7.2,7.2,7.2,7.2,5.0,5.0,7.1,5.7,5.7,5.7,8.8,6.4,6.4,6.4,2.1,8.3,8.3,6.4,6.4,6.4,5.1,5.1,5.1,5.4,5.4,5.4,6.9,6.9,6.9,4.9,4.9,4.9,4.2,4.2,4.2,5.2,5.2,5.2,4.8,4.8,2.1,2.1,2.1,5.7,5.7,5.7,6.1,7.3,7.0,6.2,6.0,6.0,6.0,6.4,6.4,6.4,5.3,5.3,5.3,6.2,6.2,7.2,7.2,7.2,6.1,3.2,3.2,3.2,6.4,5.1,5.1,6.8,6.8,6.8,7.3,7.3,7.3,3.2,3.2,6.6,6.6,6.6,7.3,7.3,7.3,6.4,6.4,6.4,6.3,6.5,6.5,6.5,7.7,7.7,7.7,7.5,7.5,7.5,6.7,6.7,6.7,7.1,7.1,7.3,4.8,5.9,5.9,6.9,6.9,6.9,8.0,8.0,2.7,2.7,2.7,2.7,2.7,2.7,6.1,6.1,6.1,6.3,6.3,6.3,8.2,6.2,6.2,3.3,3.5,3.5,3.5,5.0,5.0,5.0,6.7,6.7,7.0,7.0,7.0,4.9,4.9,4.9,6.7,6.7,6.3,6.3,6.3,3.6,3.6,3.6,6.0,5.8,5.8,5.8,8.0,8.0,4.5,4.5,4.5,6.9,5.4,5.4,4.4,4.4,4.4,5.4,5.4,6.7,6.2,7.8,7.8,7.8,7.6,7.6,7.4,7.4,7.4,4.7,4.8,4.8,6.0,6.0,6.0,2.5,4.3,4.3,4.6,4.6,7.1,6.6,6.1,6.1,6.1,5.9,7.7,6.4,6.4,7.2,7.4,7.4,5.5,4.7,5.7,7.1,7.1,7.6,7.6,7.1,8.8,6.0,6.5,6.5,6.5,6.5,6.5,6.3,6.8,6.7,6.7,6.7,7.3,7.3,7.3,7.4,7.4,7.4,9.3,5.3,5.3,5.3,7.2,7.2,7.2,7.7,8.0,8.0,8.0,2.7,2.7,4.2,2.3,7.3,5.6,5.6,6.8,6.9,6.9,6.9,8.1,7.5,5.6,4.3,4.3,3.6,6.0,6.0,6.0,7.2,6.1,6.1,3.2,4.2,6.7,6.7,6.1,7.2,7.2,7.2,5.1,5.1,5.1,4.8,4.8,4.8,7.2,7.2,7.2,7.1,7.1,5.8,5.8,7.9,6.2,6.2,7.7,7.7,7.7,7.1,7.1,7.1,6.1,6.1,6.1,7.6,7.6,7.6,5.9,5.9,5.6,5.6,5.6,4.5,4.5,5.1,5.1,4.9,4.9,4.9,5.9,5.9,5.9,3.7,6.0,6.2,6.2,6.8,6.8,6.8,5.6,5.6,5.9,5.9,5.9,5.6,5.6,5.6,8.1,8.1,8.1,4.9,5.1,5.1,6.0,6.0,6.0,4.7,4.7,4.7,7.3,7.3,7.7,7.7,7.7,5.4,5.4,6.3,6.3,6.9,6.9,6.9,3.7,5.9,5.9,5.9,3.7,3.7,3.7,6.8,6.8,6.5,6.5,6.5,7.1,7.1,7.1,6.8,6.8,7.2,7.2,7.2,7.5,7.5,2.8,6.0,6.3,6.3,7.0,8.0,8.0,8.0,6.9,6.9,6.8,6.8,7.3,7.3,4.8,3.1,3.1,3.1,4.8,4.8,4.8,3.9,3.9,5.6,7.1,7.1,7.1,5.1,5.1,3.9,3.9,3.9,5.6,5.6,5.6,5.6,5.9,2.8,2.8,2.8,6.9,6.9,3.7,3.7,4.6,4.6,4.6,7.0,7.0,6.8,6.8,6.8,4.4,4.4,4.4,7.3,7.3,5.3,5.3,6.1,6.1,6.2,6.2,6.8,6.8,6.8,6.3,6.3,6.3,5.4,5.4,3.6,3.6,3.6,6.3,6.3,6.6,6.6,4.4,4.4,4.8,4.8,5.8,6.8,6.8,6.8,7.6,7.6,5.1,5.1,4.4,4.4,5.6,5.6,4.9,6.3,5.5,5.5,5.5,5.2,6.7,6.7,6.7,6.1,6.1,6.1,7.0,7.0,7.3,7.3,4.0,4.0,5.2,5.2,5.2,8.2,8.2,8.2,3.6,4.1,4.1,4.1,6.7,5.4,5.4,8.3,8.3,2.5,6.0,6.0,6.0,6.5,6.5,6.5,4.6,5.6,5.6,6.1,6.1,6.1,4.3,4.3,8.7,6.0,6.0,6.0,4.4,5.1,5.1,4.9,4.9,3.8,5.7,5.7,5.7,3.2,3.2,6.0,6.0,5.8,4.6,7.8,7.8,7.8,5.3,5.3,5.3,7.1,7.1,7.1,7.5,7.5,7.5,4.6,4.6,4.6,4.6,6.2,5.5,5.1,6.0,6.0,6.0,6.2,6.2,6.8,4.9,4.9,4.9,5.7,5.7,5.7,6.6,6.6,6.6,6.8,5.8,5.8,5.8,7.6,7.6,7.6,4.3,4.3,4.3,6.6,6.6,4.3,3.4,4.9,6.4,6.2,6.2,6.2,7.6,7.6,4.7,4.7,6.2,6.1,6.1,6.1,5.9,4.9,4.9,4.9,7.0,4.8,5.0,7.1,7.1,7.3,7.3,7.3,5.3,5.3,5.3,6.5,6.5,6.5,5.8,5.8,5.8,6.5,6.5,6.5,4.0,2.5,2.5,2.5,5.4,5.4,5.4,6.6,6.6,6.6,6.3,6.3,6.3,6.5,7.1,7.2,8.0,8.0,8.0,7.8,6.7,4.6,4.6,4.6,5.6,5.6,5.6,7.4,7.5,7.5,5.0,5.0,5.0,6.5,6.5,6.5,7.0,3.8,3.8,3.8,6.4,4.4,7.5,7.5,7.5,4.5,4.5,4.5,6.2,6.2,6.9,5.7,5.7,5.7,3.8,3.8,3.8,6.0,4.5,5.1,5.1,3.9,7.6,5.9,6.2,5.5,5.5,5.5,7.1,4.1,6.9,5.8,5.8,5.7,5.7,5.7,7.0,7.0,8.2,6.2,6.2,6.2,6.7,6.7,6.7,8.5,8.5,8.5,7.4,7.4,6.6,6.6,6.6,8.6,5.4,5.4,6.7,6.7,6.7,4.1,4.1,4.1,7.1,7.1,6.2,6.2,5.0,5.0,5.0,3.7,3.7,3.7,5.7,5.7,5.7,6.5,7.7,7.7,7.7,6.5,6.6,6.6,6.6,7.1,7.1,7.1,5.5,5.5,5.5,4.8,4.7,4.7,4.7,6.3,6.3,5.5,5.5,6.1,6.1,6.1,7.9,6.0,4.8,6.1,5.2,5.2,5.2,6.4,6.4,7.0,7.0,7.0,4.5,4.5,4.5,6.9,6.9,6.5,6.5,6.5,6.0,6.0,6.0,6.7,4.6,4.6,4.6,6.8,6.8,6.8,5.6,5.6,5.6,5.1,5.1,2.3,2.3,4.2,4.2,4.2,8.0,8.0,8.0,7.9,7.9,7.9,2.9,5.1,5.1,5.1,6.4,7.5,7.6,7.6,6.9,6.9,6.9,6.9,5.2,5.2,5.2,5.7,5.7,5.7,6.3,6.3,6.3,6.2,6.2,6.2,3.9,3.9,3.9,6.5,6.5,6.5,7.6,7.3,7.2,7.2,7.2,6.7,6.7,2.6,7.0,7.0,7.0,7.6,7.6,7.6,7.4,7.4,7.4,5.4,5.4,6.6,6.6,6.6,6.8,7.8,6.9,6.9,6.9,3.6,3.6,5.0,5.0,5.0,6.0,6.1,6.1,6.1,4.8,6.8,6.8,6.2,6.2,6.2,6.1,6.1,5.4,5.4,5.4,5.4,5.4,5.4,4.1,4.1,4.1,7.3,7.3,7.3,5.8,5.8,5.8,3.4,3.4,3.4,4.5,5.7,5.7,5.7,4.2,6.8,6.8,6.8,5.6,4.2,4.2,4.2,6.5,6.5,7.0,7.0,7.7,7.7,7.7,7.0,6.8,6.8,6.8,7.2,7.2,5.7,5.7,5.7,3.4,3.4,3.4,4.1,4.1,4.1,7.9,7.8,3.5,5.5,5.5,3.9,3.9,3.9,6.8,6.8,6.8,5.8,6.1,6.1,4.0,4.0,4.0,7.7,4.1,4.1,4.5,8.6,5.9,5.9,5.8,5.8,5.8,7.4,7.4,7.4,7.9,7.9,4.7,5.6,5.6,5.6,8.2,8.2,8.2,5.6,5.6,5.6,6.8,4.2,6.8,6.8,6.8,6.4,6.4,6.4,3.8,4.6,4.6,4.6,4.9,4.7,4.7,6.1,6.1,7.0,7.0,7.0,6.1,6.1,8.6,6.5,5.9,6.8,6.8,4.4,4.4,4.4,6.0,6.0,6.6,6.6,5.7,5.7,8.0,8.0,8.0,7.0,7.0,6.6,6.6,6.6,7.0,7.5,7.5,7.5,4.0,4.0,4.0,4.3,4.3,4.3,5.5,5.5,5.5,4.7,4.7,4.7,6.8,6.4,6.4,6.4,6.8,6.8,6.7,5.0,5.0,5.0,4.7,4.8,4.6,6.7,6.8,6.8,6.8,7.6,7.6,6.9,4.0,4.0,4.0,4.3,4.3,4.3,4.1,8.3,6.9,7.1,7.1,7.1,8.1,6.7,6.7,5.6,5.6,5.6,8.0,6.5,6.5,6.5,5.3,5.3,5.3,7.1,7.1,4.5,4.9,4.9,4.9,5.4,5.4,8.0,8.0,8.0,5.9,1.7,1.7,1.7,6.8,3.9,3.9,3.9,6.5,6.4,6.8,6.8,6.8,5.7,5.7,5.7,5.8,3.8,6.1,6.1,6.1,7.5,7.7,7.7,6.0,6.0,6.0,6.2,3.1,7.6,7.6,7.6,6.8,6.8,6.8,6.8,6.8,7.4,7.4,5.1,5.1,6.3,8.3,8.3,7.1,7.1,8.3,8.3,4.6,4.6,5.7,5.7,5.7,6.2,5.5,6.5,6.5,6.5,5.2,5.2,5.2,5.7,5.7,5.7,3.7,5.5,5.5,5.5,4.7,4.7,4.7,6.6,6.1,6.1,8.3,8.3,6.7,6.7,4.6,4.6,4.6,8.4,8.4,8.4,5.3,5.6,5.6,5.6,6.4,6.4,6.4,7.2,6.7,6.7,6.7,7.5,7.5,7.5,6.6,6.6,6.6,7.1,7.1,7.1,6.8,4.6,4.0,4.0,4.0,6.0,6.0,7.8,7.8,6.8,6.5,7.5,7.5,3.9,3.9,3.9,7.3,7.3,7.3,4.8,4.8,4.8,5.8,7.4,6.5,6.5,6.9,6.9,6.9,4.7,6.1,6.1,6.5,6.5,6.5,4.2,4.2,4.2,6.5,6.5,6.5,4.5,4.5,5.8,5.8,5.8,7.7,7.7,7.7,4.8,4.8,4.8,5.0,5.0,5.4,5.4,5.4,7.0,7.0,7.0,5.3,5.3,7.1,7.4,7.4,3.1,6.1,6.8,6.8,5.3,4.9,2.4,2.4,6.8,6.8,6.8,8.3,8.3,8.3,5.4,5.4,5.4,3.7,3.7,3.7,6.7,7.4,7.4,6.8,6.8,5.8,5.8,5.8,2.3,2.3,2.3,3.5,3.5,3.5,7.3,6.9,6.9,6.9,6.3,6.3,6.3,5.9,7.0,7.0,7.0,5.6,7.7,7.7,4.2,4.2,4.2,6.2,6.2,6.2,5.3,5.3,5.3,5.7,5.7,5.7,7.9,7.9,7.9,7.1,7.1,7.1,6.5,9.0,9.0,4.0,4.0,4.0,6.2,5.4,5.4,6.6,6.6,6.6,6.6,6.6,6.6,6.7,6.7,6.7,2.9,2.9,2.9,6.5,4.8,4.8,4.8,7.7,6.8,5.3,5.6,5.6,5.6,6.2,6.2,3.1,3.1,3.1,5.7,5.7,5.7,5.1,5.1,5.1,7.3,7.3,7.3,6.9,6.1,6.1,8.3,8.3,6.8,6.8,6.8,4.4,4.4,4.4,4.6,4.6,4.6,6.2,6.2,6.2,6.5,7.0,7.0,7.0,7.0,7.0,4.8,4.8,4.8,6.0,6.0,3.9,3.1,3.1,5.1,5.1,4.5,4.5,4.5,7.1,6.1,6.1,6.1,6.3,6.3,6.3,6.2,6.2,6.2,4.8,4.8,4.8,3.0,3.0,3.0,6.5,6.5,5.0,5.0,5.0,4.8,7.2,7.2,6.4,6.4,6.4,3.8,3.8,7.7,4.9,4.9,6.2,6.2,6.2,7.4,6.3,5.5,5.5,5.5,5.3,5.3,4.7,4.7,3.9,3.9,3.9,3.8,5.0,5.0,5.0,4.9,4.9,3.3,3.3,3.3,7.0,4.0,4.0,4.0,7.8,7.8,6.7,6.1,6.1,6.1,6.6,6.6,2.6,2.6,2.6,3.9,3.9,3.9,3.7,8.4,8.4,8.4,3.9,3.9,3.9,5.7,5.7,7.0,8.3,5.4,5.4,5.4,7.5,6.1,6.1,7.0,5.2,5.1,6.5,5.6,3.8,3.8,3.8,7.2,6.3,5.4,7.7,7.7,7.7,7.1,7.1,7.8,7.8,7.8,4.9,4.9,6.0,4.3,5.3,5.3,5.3,6.4,6.4,3.8,3.8,6.9,6.9,6.9,4.7,4.7,7.1,6.8,6.8,6.8,7.8,7.8,7.4,5.9,5.9,5.9,6.1,6.1,6.1,5.7,5.7,5.7,6.2,6.2,6.2,7.2,6.5,6.5,6.5,8.1,7.3,7.2,7.2,5.5,5.5,5.5,6.6,6.6,6.6,4.1,4.1,4.1,6.4,6.4,6.3,6.3,6.3,6.3,5.8,5.8,7.8,6.6,6.6,7.5,7.5,7.5,7.1,7.1,7.1,4.3,4.3,7.6,7.6,4.6,4.6,6.5,6.5,6.5,8.1,8.1,8.1,6.9,6.9,6.9,2.4,2.4,2.4,6.7,6.7,5.7,5.7,5.7,5.0,5.0,4.7,4.7,5.3,5.3,5.3,6.6,6.6,6.6,6.4,4.5,4.5,4.5,7.4,7.4,6.1,5.6,5.6,5.9,7.6,7.6,7.6,6.2,6.2,5.6,5.6,5.6,6.1,5.9,3.1,3.1,3.1,6.2,6.2,6.2,4.9,5.5,1.4,1.4,6.0,6.0,6.0,3.6,3.6,3.6,5.7,5.7,4.0,6.4,7.7,7.7,7.7,6.2,6.2,6.2,6.9,8.0,8.0,4.2,7.2,7.2,7.2,7.1,7.1,7.6,7.6,7.6,6.2,6.2,7.9,7.9,7.9,6.6,6.6,6.6,7.8,5.8,5.8,5.8,5.2,2.6,2.6,2.6,5.7,5.7,3.5,5.5,3.7,3.7,5.1,5.1,4.5,4.5,6.5,6.5,4.4,4.4,4.4,7.3,7.3,7.3,5.4,5.4,5.4,6.5,5.0,5.0,3.4,3.4,3.4,7.3,7.3,7.3,4.3,4.3,4.4,6.0,6.0,3.5,3.5,6.3,6.7,6.7,6.7,7.0,7.0,5.8,5.8,5.8,5.8,5.8,6.7,6.7,6.7,7.3,7.0,7.0,7.0,6.4,6.4,7.8,7.8,7.0,7.0,6.5,7.0,6.2,6.2,6.2,6.3,6.3,6.3,6.3,6.3,4.5,4.5,4.5,6.7,6.7,6.7,6.7,6.5,6.5,6.5,5.4,5.4,5.4,3.4,3.4,3.4,5.6,5.6,7.2,4.5,8.1,8.1,7.2,6.9,6.9,6.9,7.2,7.2,7.2,2.4,2.4,2.4,8.9,8.9,8.9,6.1,6.1,6.1,6.1,6.1,3.6,7.6,7.6,7.0,6.7,6.7,6.7,5.0,5.0,5.5,5.5,5.5,6.1,6.6,6.6,6.6,4.6,4.6,4.6,8.1,8.1,8.1,7.0,7.0,6.9,6.9,6.9,6.2,6.2,6.4,6.4,6.4,3.5,3.5,3.5,7.0,7.0,7.0,6.7,6.7,6.7,3.1,3.1,3.1,7.3,7.3,7.3,5.3,5.3,7.1,7.1,7.1,5.1,5.1,4.6,4.6,5.3,3.7,3.7,5.7,5.7,4.8,4.8,4.8,5.3,5.3,5.3,5.7,5.7,4.9,4.9,5.3,5.3,5.1,5.1,5.1,5.2,5.2,4.4,4.4,7.0,7.0,4.8,4.8,5.0,5.0,7.6,7.6,5.1,5.1,5.1,7.0,7.0,5.0,5.0,7.0,7.0,7.0,5.8,5.8,5.8,6.5,6.5,5.0,5.3,5.3,5.3,5.5,3.8,3.8,4.5,4.5,4.5,6.7,5.1,5.1,5.8,5.8,5.8,7.4,7.4,5.3,5.3,5.3,6.3,6.3,6.3,3.7,3.7,7.1,7.1,7.1,3.7,3.7,3.7,5.7,5.7,5.7,5.1,5.1,5.1,8.1,8.1,7.2,4.0,4.0,4.0,2.5,6.4,6.4,6.4,7.0,7.0,7.0,5.2,5.2,5.1,5.1,5.1,5.7,5.7,3.8,3.8,6.9,6.9,6.9,8.4,8.4,8.4,7.0,7.0,7.0,6.2,6.2,6.2,8.4,6.3,6.3,5.3,6.0,6.0,7.5,7.5,7.2,7.2,6.1,6.1,6.1,6.5,6.5,6.5,3.6,3.6,6.5,6.5,6.5,7.1,7.1,7.1,7.2,7.2,3.8,6.0,6.0,6.7,6.7,6.7,5.7,5.7,4.4,4.4,7.0,7.0,6.3,3.3,7.1,7.1,7.1,6.4,7.1,3.7,3.7,3.2,3.2,6.5,7.2,7.2,6.4,6.4,4.5,4.5,5.4,5.4,4.9,4.9,7.2,7.2,7.2,7.8,7.8,7.8,7.1,7.1,7.1,4.7,4.7,3.9,3.9,3.9,6.7,6.7,6.7,4.6,4.6,4.6,4.0,8.2,8.2,7.7,6.0,6.2,6.2,7.0,7.0,7.0,6.9,6.9,7.9,5.3,5.3,5.3,7.0,5.2,8.4,8.4,8.4,5.7,5.7,3.3,5.5,5.5,4.2,3.8,3.8,3.8,8.2,7.0,6.0,6.8,6.8,6.8,3.8,1.9,5.3,8.1,8.1,7.0,7.0,6.2,6.2,6.2,5.2,7.1,8.2,8.2,8.2,3.5,3.5,3.5,7.6,7.6,5.9,5.9,5.9,4.6,6.5,6.5,5.2,6.5,6.5,7.1,7.1,7.1,4.2,4.2,4.2,5.1,5.1,5.1,6.7,6.7,6.7,5.1,5.1,5.1,7.9,7.9,7.9,6.6,5.6,5.6,5.6,7.5,7.5,7.5,6.2,6.2,6.2,7.0,7.0,7.0,7.0,6.9,6.3,6.3,3.7,3.7,5.6,5.6,5.6,6.5,6.2,6.2,6.2,4.6,3.8,3.8,5.7,6.6,6.6,6.6,5.6,5.6,5.6,6.9,6.9,6.9,6.9,6.9,5.4,5.4,7.1,4.0,5.0,5.0,4.9,4.9,4.9,7.1,7.0,7.0,7.0,6.1,6.1,6.1,7.7,7.7,7.7,4.3,7.4,7.4,4.5,4.5,7.4,7.4,4.7,4.7,4.7,7.2,7.2,7.2,5.6,5.6,6.8,6.8,6.8,6.5,6.5,7.8,7.7,5.2,5.2,5.2,5.7,6.7,6.3,6.3,6.6,6.6,5.5,5.5,6.7,7.0,7.0,7.0,6.3,8.5,4.7,4.7,7.1,7.3,7.3,7.3,2.9,6.6,3.8,6.4,6.4,6.4,3.9,7.1,8.3,8.3,7.5,7.5,7.5,6.4,7.2,2.5,5.4,5.4,5.4,7.5,7.5,7.5,5.8,5.8,5.8,3.4,7.0,7.0,6.5,6.5,6.3,6.3,6.3,5.7,5.7,5.7,6.5,6.5,5.7,5.7,5.5,5.5,5.5,6.9,5.7,5.7,5.7,6.1,4.0,4.0,4.0,6.8,6.8,6.8,3.7,3.7,3.7,6.9,6.8,6.8,6.8,6.6,6.6,6.6,5.8,5.8,5.8,6.8,7.3,7.3,7.3,8.2,8.2,4.9,4.9,4.9,7.0,7.0,7.0,4.4,4.4,4.3,4.3,4.3,6.6,6.6,5.7,6.9,4.0,4.0,3.9,3.9,5.5,5.5,5.5,5.7,5.7,5.7,6.9,4.4,5.2,5.2,4.7,4.7,4.7,6.9,5.9,5.9,5.7,6.0,6.1,6.1,6.1,5.8,8.0,8.0,8.0,5.3,5.3,5.3,6.0,6.0,6.0,4.4,4.4,6.2,4.2,4.2,4.2,6.5,6.5,5.7,5.7,5.7,6.1,6.1,6.1,6.1,7.8,7.8,7.8,4.3,4.3,4.3,6.2,6.2,6.2,7.1,5.9,5.9,5.9,4.7,4.7,4.7,3.4,3.4,3.4,4.6,4.6,4.5,4.5,5.3,5.3,7.3,7.3,7.3,6.5,6.5,6.5,6.0,6.0,6.0,7.1,7.1,7.1,8.4,8.4,5.6,5.6,5.6,4.9,7.0,7.0,7.0,7.2,7.2,7.2,6.9,6.9,6.9,6.1,6.1,4.5,4.5,4.7,4.7,4.7,4.1,4.1,5.1,5.1,6.2,6.2,6.2,4.3,8.0,8.0,6.9,6.9,5.6,5.6,5.6,4.6,4.6,6.2,6.2,6.6,5.7,5.7,5.7,5.4,6.2,6.2,6.2,5.5,5.5,5.5,6.4,6.4,6.4,5.8,5.8,4.7,4.7,5.5,5.5,5.5,6.1,6.1,6.1,3.3,3.3,5.5,5.5,5.8,5.8,5.8,5.1,7.3,6.9,5.7,5.7,5.7,7.4,7.4,7.4,4.4,4.4,7.2,7.2,7.7,7.7,6.8,4.4,6.2,6.2,7.0,7.0,4.8,5.3,5.3,5.3,5.4,5.4,6.1,6.1,6.1,6.0,5.1,5.1,5.1,8.3,8.3,6.0,6.3,3.4,3.4,3.4,7.5,7.5,7.5,5.0,5.0,5.3,5.3,5.3,6.5,6.5,6.5,6.2,6.2,6.2,6.4,7.5,4.6,4.6,4.6,4.7,5.2,5.2,5.2,4.3,4.3,4.9,4.9,4.9,4.9,6.8,6.6,6.6,6.6,6.5,6.5,6.5,7.1,2.8,2.8,2.8,5.2,5.2,5.4,5.4,4.7,4.7,6.9,6.9,6.9,8.3,8.3,8.3,6.5,7.2,7.2,7.2,3.1,6.2,8.3,6.0,6.0,5.8,5.8,5.8,7.1,7.1,7.1,4.8,7.2,7.2,7.2,4.6,4.6,4.6,7.2,3.7,3.7,5.3,5.3,5.3,5.0,5.0,3.5,5.1,5.1,5.1,7.3,7.1,4.5,4.5,4.5,6.5,6.5,6.5,5.0,5.0,5.0,5.1,5.1,5.1,5.2,5.2,5.2,5.3,5.3,5.3,6.5,6.5,7.1,5.8,8.0,8.0,8.0,2.5,2.5,2.5,7.3,7.3,7.3,4.6,7.6,7.6,7.6,7.6,7.6,6.1,6.1,6.1,3.6,3.6,5.2,4.7,4.7,4.7,6.4,5.4,5.4,5.7,4.6,4.6,4.6,7.8,7.8,7.8,7.3,7.3,8.2,8.2,8.2,7.1,7.1,7.1,5.3,5.3,5.3,6.8,6.8,6.8,4.5,7.3,5.8,5.8,5.8,6.7,3.4,3.4,7.4,7.4,7.4,8.1,7.3,7.0,6.5,6.5,3.5,3.5,3.5,8.8,6.0,6.0,6.0,2.7,5.6,4.2,4.2,4.2,5.9,6.9,6.9,6.9,6.0,6.8,6.8,5.4,5.4,5.4,6.1,6.1,6.1,6.7,5.3,5.3,4.9,4.9,4.9,6.1,6.1,7.3,7.3,7.3,5.8,5.8,5.8,7.0,7.0,5.8,5.8,4.4,4.4,4.4,7.1,5.5,4.9,4.9,7.6,7.6,4.0,4.0,6.0,5.8,5.8,5.9,6.6,6.6,6.6,5.7,5.7,4.7,4.7,4.7,7.1,7.1,7.1,6.9,6.9,4.6,6.7,6.7,7.4,7.4,6.9,6.9,7.6,7.6,7.6,6.3,6.3,6.3,6.8,6.8,6.8,5.4,5.4,9.4,9.4,5.5,5.4,5.4,5.4,2.3,5.0,5.0,4.3,4.3,7.3,7.3,7.3,6.2,6.2,6.6,6.6,6.6,6.6,6.6,7.2,7.2,6.3,6.3,4.9,6.8,5.7,5.7,5.7,5.6,5.6,3.2,2.1,5.6,2.7,2.7,2.7,6.7,6.7,6.7,8.1,8.1,9.3,3.6,3.6,3.6,7.0,7.1,6.7,6.7,6.7,7.3,7.3,7.3,6.3,6.3,6.3,5.9,5.9,5.9,5.5,5.5,5.0,5.0,5.0,5.1,5.1,5.1,7.4,7.4,7.4,7.0,7.0,3.8,3.8,6.9,6.4,6.4,6.4,5.8,5.8,5.8,7.6,7.6,7.0,7.0,7.0,6.9,7.0,7.0,7.0,5.5,5.5,5.5,5.9,5.9,7.4,5.0,5.0,5.0,4.9,4.9,4.9,7.4,7.4,6.7,6.7,6.7,6.1,5.1,5.1,6.8,6.8,4.4,4.4,4.4,3.6,3.6,3.6,5.7,6.9,6.9,7.2,7.2,7.2,4.2,4.2,4.7,5.3,5.3,4.2,4.2,6.7,5.4,8.4,8.4,8.4,5.4,5.4,2.4,2.4,2.4,6.1,6.1,8.1,8.1,8.1,7.5,6.3,6.3,8.0,8.0,8.0,7.0,7.0,7.0,3.7,3.7,7.8,7.8,7.8,6.9,6.9,6.2,6.2,6.2,4.7,4.7,3.3,3.3,3.3,5.6,5.8,5.1,4.9,6.7,6.7,6.7,7.3,7.3,7.3,4.2,2.4,2.4,2.4,4.1,7.6,7.6,7.6,5.3,5.3,5.3,6.8,3.5,3.5,7.3,7.3,7.3,6.5,6.5,5.5,6.7,6.7,6.7,5.6,7.7,7.1,7.1,2.7,6.0,6.0,4.9,4.9,4.9,6.6,6.7,6.7,6.7,7.5,7.5,5.8,3.4,3.4,3.7,3.7,3.7,7.6,7.6,7.6,5.7,6.3,6.3,6.2,6.9,6.9,6.9,5.4,5.4,5.4,4.2,4.2,4.2,7.3,7.3,7.3,5.8,5.8,5.8,4.3,5.3,5.3,4.9,8.4,6.1,2.5,8.1,8.1,8.1,5.3,5.3,4.9,4.9,4.9,6.1,6.1,6.1,7.1,7.1,7.1,6.8,6.8,6.8,4.4,4.4,9.7,9.7,7.4,7.4,7.4,7.2,7.2,6.1,6.1,7.9,7.9,6.4,6.7,5.6,5.6,5.6,7.8,7.5,7.5,7.5,6.7,6.7,5.3,5.3,5.3,7.8,7.1,7.1,7.1,6.4,6.4,6.7,6.7,6.0,6.0,6.0,8.5,8.5,7.7,7.6,5.7,7.6,5.4,5.4,7.4,7.4,7.4,6.5,6.5,5.4,5.4,5.9,5.9,3.2,3.2,5.0,5.0,5.0,4.5,7.8,7.8,7.8,4.6,4.6,4.6,4.6,4.6,4.4,5.2,5.2,5.2,6.6,6.6,6.6,6.4,7.9,6.4,6.4,7.7,7.7,7.7,6.5,6.5,6.5,7.2,7.2,5.5,5.5,5.5,7.5,6.2,6.2,1.9,1.9,1.9,5.7,5.7,6.9,6.9,6.9,6.8,6.8,4.4,6.2,6.2,6.2,6.7,6.7,6.7,5.4,5.4,5.4,4.7,5.3,5.3,4.4,4.4,4.5,4.5,3.3,3.3,3.3,7.9,6.0,6.0,5.6,5.6,5.6,4.2,4.2,4.2,6.9,6.9,6.9,4.1,4.1,4.1,5.6,4.1,6.3,6.3,6.3,6.7,6.2,3.3,3.3,3.3,7.4,7.4,7.4,5.5,5.5,2.7,2.7,2.7,6.2,6.2,6.5,7.1,7.9,5.1,5.1,5.1,7.0,7.0,7.0,5.1,5.1,4.0,4.0,4.0,3.4,5.6,3.3,3.3,4.7,4.7,4.7,5.6,2.7,2.7,6.3,6.3,3.8,3.8,3.8,6.0,6.0,4.3,4.3,6.4,6.4,6.4,6.8,6.8,6.8,8.2,8.2,8.2,5.3,6.7,6.7,6.7,3.5,3.5,3.5,4.8,4.8,4.8,6.2,6.2,6.2,6.2,6.2,6.2,5.5,5.5,5.5,5.1,5.3,5.3,2.9,2.9,2.9,7.9,7.9,7.9,6.3,6.0,6.0,7.5,7.5,4.2,4.2,4.2,5.4,5.4,5.4,7.6,7.6,7.6,3.7,3.7,6.8,6.8,6.8,6.4,6.4,6.4,4.5,4.5,4.5,5.0,5.0,5.0,5.1,5.1,4.5,4.5,4.5,4.3,1.7,1.7,1.7,6.6,6.6,7.9,7.9,6.2,6.2,6.2,5.3,5.9,5.4,5.4,5.4,2.9,2.9,2.9,5.4,5.4,5.4,6.1,6.1,6.1,3.8,3.8,4.3,4.3,4.3,7.4,7.4,5.9,5.9,7.2,7.2,7.0,7.0,3.1,3.1,6.6,6.5,6.5,6.5,5.6,5.6,6.1,6.1,6.1,6.3,6.3,6.3,3.5,4.2,4.7,4.7,4.7,5.2,5.2,5.2,5.1,5.0,5.0,5.0,6.2,6.2,5.8,3.8,3.8,7.6,7.6,7.6,7.1,7.1,5.5,5.8,7.3,7.3,6.4,5.5,5.5,5.3,5.3,5.3,5.0,5.0,5.0,3.5,3.5,3.5,6.9,6.9,6.4,6.1,6.1,4.6,4.6,4.6,7.1,7.1,7.1,7.0,7.0,7.0,6.4,6.4,6.8,6.8,6.8,5.7,5.7,7.5,7.5,7.5,5.8,5.8,5.8,5.7,7.5,7.5,7.5,6.6,6.6,6.6,7.5,7.5,7.5,6.3,6.3,6.3,7.1,6.2,4.8,4.8,4.8,5.5,5.5,5.5,7.4,7.4,7.4,4.2,4.2,4.2,3.6,3.6,3.6,4.4,4.4,4.4,7.2,7.2,7.2,6.5,5.6,5.6,5.6,5.3,5.3,6.5,6.5,5.7,5.7,6.3,6.3,3.5,3.5,3.5,6.0,4.5,4.5,4.5,5.8,2.7,2.7,2.7,7.0,7.0,7.0,4.7,4.7,4.7,4.6,5.9,6.4,6.4,5.3,5.3,5.3,3.6,3.6,3.6,5.4,5.4,7.5,7.5,4.9,4.9,4.9,1.7,6.7,6.7,6.7,5.2,5.2,4.8,4.8,6.9,6.0,6.0,6.0,6.4,6.4,6.4,5.3,6.1,6.1,6.1,1.8,1.8,1.8,7.5,7.5,7.5,7.0,7.0,6.9,6.9,6.9,7.2,7.2,7.2,6.8,5.2,6.1,6.1,6.1,6.8,6.0,6.0,6.5,8.0,8.0,8.0,5.7,5.7,7.2,7.2,8.6,5.4,5.4,5.4,7.3,6.0,5.6,5.6,5.6,3.5,3.4,3.4,4.1,4.1,4.1,4.6,4.6,4.6,6.9,5.4,5.4,5.9,5.9,5.9,4.5,4.5,6.5,3.6,3.6,4.7,4.7,6.0,6.0,6.1,6.1,6.1,9.2,7.4,5.4,5.4,5.4,5.7,5.7,5.3,5.3,5.3,7.4,7.4,7.1,7.1,5.9,7.1,7.1,7.1,7.1,7.1,5.4,5.4,5.4,8.2,8.2,8.2,6.9,6.9,6.9,4.5,4.5,4.5,7.0,3.0,3.0,7.3,6.0,6.0,7.2,7.2,6.0,6.0,6.9,6.9,6.0,6.0,6.0,5.8,5.8,5.8,7.4,5.7,5.7,5.7,4.7,4.7,4.8,4.8,4.2,4.2,4.2,3.9,3.9,5.4,5.4,5.4,6.8,6.8,6.8,6.5,6.5,6.4,6.4,4.6,4.6,4.6,3.0,3.0,3.0,7.4,7.4,7.4,4.6,6.8,6.9,6.9,6.9,6.2,6.2,6.8,6.8,6.8,5.1,5.1,5.1,3.8,3.8,3.8,2.6,2.6,5.0,5.0,6.5,6.5,4.8,4.8,4.8,5.8,8.1,8.1,4.7,4.7,6.3,6.3,6.3,6.7,6.7,5.0,5.4,4.7,6.5,6.5,6.5,2.6,7.3,7.3,3.8,3.8,6.9,6.9,6.9,4.0,3.1,5.8,5.8,6.8,6.8,5.7,5.5,5.5,5.5,6.0,6.0,4.8,4.1,4.1,7.3,7.3,7.3,5.7,5.7,5.7,5.4,5.4,5.4,6.4,7.5,4.4,4.4,4.4,6.7,4.5,4.5,6.7,6.7,7.3,7.3,7.3,6.8,5.0,5.0,3.5,3.5,3.5,6.9,6.9,4.5,4.5,4.5,4.3,7.4,7.4,7.4,4.5,4.5,4.5,7.2,7.2,7.2,7.0,7.0,5.8,5.8,5.0,5.0,5.0,5.3,4.1,4.1,6.5,6.5,6.5,4.2,4.2,7.2,7.2,5.8,5.8,5.8,6.9,4.1,4.1,4.1,7.3,7.3,7.3,4.1,4.1,4.1,5.6,5.9,4.7,6.6,5.3,5.3,5.3,5.9,5.9,4.6,4.8,4.8,8.4,8.4,8.4,2.7,2.7,2.7,3.3,3.3,3.3,3.8,3.8,3.8,4.8,7.5,7.5,7.5,6.5,6.8,6.8,6.8,6.1,6.1,6.1,5.8,5.8,5.8,6.1,6.1,6.1,2.8,2.8,2.8,5.0,5.0,6.0,6.0,6.0,6.3,6.3,6.3,4.2,4.2,5.3,5.3,5.3,6.9,6.9,6.8,6.8,6.8,6.2,6.2,6.7,6.7,5.6,7.9,7.9,7.9,6.5,6.5,4.4,4.4,4.4,7.5,7.5,2.0,2.0,8.1,6.1,6.1,6.6,6.5,6.5,6.5,6.4,6.4,6.4,5.1,5.1,5.1,6.8,6.8,6.8,3.9,3.9,3.9,6.4,6.4,6.1,7.8,5.6,5.6,5.1,5.1,5.2,5.2,7.9,7.9,7.9,5.2,5.2,5.2,5.1,5.1,7.2,3.6,3.6,3.6,6.2,6.2,5.3,3.6,3.6,3.6,5.0,6.2,5.3,5.3,5.6,5.6,5.2,5.2,5.2,5.8,5.8,5.8,6.7,5.7,6.0,6.0,5.7,5.7,7.0,7.1,7.1,7.1,6.6,6.6,7.5,7.5,7.1,7.1,4.0,4.0,4.0,4.0,4.4,4.4,2.9,2.9,2.9,6.2,6.2,6.7,6.7,2.7,4.2,4.2,4.2,5.9,6.2,6.2,6.2,2.8,6.9,6.9,6.9,6.5,6.5,6.5,7.0,7.0,6.0,6.0,6.0,3.9,3.9,3.9,5.8,5.6,5.6,5.6,6.6,6.6,5.2,5.2,5.2,7.6,6.0,5.6,2.9,2.9,2.9,4.6,5.0,5.6,5.6,5.3,5.3,5.3,5.8,5.8,5.8,4.2,5.5,5.5,5.5,5.4,4.8,4.8,4.4,4.4,4.8,6.7,4.6,4.6,5.9,6.9,6.9,5.9,5.7,5.7,4.8,4.1,4.1,4.1,3.8,6.6,6.6,4.9,4.9,6.3,6.3,7.1,7.1,7.1,7.3,5.1,5.1,5.1,8.0,8.0,8.0,6.1,6.1,7.2,6.5,6.5,6.5,7.2,7.2,7.2,6.9,6.9,6.9,7.1,7.2,7.2,8.2,8.2,6.3,5.9,5.9,3.7,3.7,3.7,5.7,5.7,6.1,6.1,6.1,4.7,6.6,4.6,4.6,7.0,7.0,7.0,5.9,5.9,4.4,5.2,5.2,4.9,2.5,2.5,6.4,3.4,8.6,4.9,4.9,4.9,7.4,7.4,7.4,5.2,5.2,5.2,3.0,3.0,3.0,3.6,3.6,3.6,5.7,5.7,5.7,8.2,8.2,8.2,7.6,7.6,7.6,6.1,3.5,3.5,3.5,5.8,5.8,7.4,7.4,7.4,6.2,6.2,7.3,7.3,6.4,6.4,6.4,6.8,6.8,6.8,6.8,6.8,6.8,6.8,5.6,5.6,5.6,7.5,7.5,7.5,7.8,7.8,7.8,6.0,6.0,4.9,4.9,7.3,7.3,7.3,2.4,2.4,2.4,7.5,7.5,7.2,7.2,5.1,5.1,5.1,9.0,6.2,6.2,6.2,6.2,6.2,5.7,5.7,5.7,4.6,4.6,4.6,2.1,2.1,2.1,3.1,3.1,6.6,6.1,6.1,6.1,5.9,5.9,3.9,3.9,5.9,5.9,5.9,6.1,6.1,6.1,3.6,3.6,6.2,6.5,6.5,6.5,6.1,6.1,6.1,4.0,4.0,2.3,2.3,2.3,3.7,9.4,4.0,4.0,4.0,4.2,4.2,4.2,5.6,5.6,6.1,6.1,6.1,6.2,7.3,7.3,7.3,5.6,5.6,5.6,3.1,7.6,5.6,5.6,5.6,4.2,4.2,5.6,5.6,5.6,5.4,5.4,5.4,6.8,6.8,5.4,4.6,4.6,7.9,5.3,5.3,5.3,5.6,5.6,5.6,5.8,5.8,5.8,4.2,4.2,7.6,7.6,8.0,5.9,5.0,5.0,5.0,7.1,7.1,7.1,6.5,9.1,9.1,9.1,6.1,6.1,7.1,7.1,7.6,7.6,7.6,3.9,8.0,8.9,6.2,6.2,6.2,4.6,4.6,4.6,6.7,6.7,7.7,7.7,7.7,4.2,4.2,4.2,6.4,6.4,6.3,6.3,3.4,3.4,3.4,5.0,6.8,6.8,3.3,3.3,3.3,2.7,6.4,4.6,4.6,6.6,6.6,4.2,4.2,4.2,7.3,3.8,3.8,6.5,6.5,6.5,4.8,6.3,5.0,3.6,5.4,6.8,6.8,6.8,6.6,6.2,6.2,6.2,6.1,6.1,7.8,7.8,7.8,7.4,7.4,7.4,4.3,4.3,4.3,6.2,6.2,7.4,7.4,7.1,7.1,7.1,4.8,4.8,3.7,3.1,6.8,6.8,6.8,7.8,5.9,5.9,5.9,6.4,6.4,6.0,6.0,6.0,6.1,6.1,7.0,7.0,7.0,6.6,5.3,5.3,5.3,6.8,6.8,6.8,7.1,7.1,6.8,8.1,5.8,5.7,5.7,8.1,8.1,6.6,6.6,5.8,5.8,6.9,5.2,5.2,6.0,6.0,5.6,5.6,5.6,5.7,5.7,5.7,7.5,6.9,6.9,6.9,6.3,6.3,7.8,7.8,5.4,6.2,6.2,6.6,2.8,2.8,2.8,7.9,7.9,7.9,6.9,6.9,6.9,6.7,7.9,7.9,7.9,6.2,3.6,3.6,3.6,6.3,6.3,6.3,6.0,6.0,6.0,5.5,5.5,7.4,7.4,7.4,5.7,5.7,7.1,7.1,7.1,5.6,6.4,6.4,6.4,6.3,6.3,6.3,3.6,3.6,6.3,6.3,5.8,5.8,5.8,6.2,5.7,5.7,8.0,6.7,6.7,6.7,5.1,5.1,6.7,7.2,7.8,6.5,6.5,6.5,5.2,4.1,4.1,6.5,6.5,3.9,3.9,3.9,7.4,7.4,7.4,7.1,7.2,5.1,5.8,5.8,5.8,6.0,6.0,8.2,6.2,6.2,6.8,6.6,6.7,6.7,6.7,3.7,3.7,5.8,7.9,7.9,7.9,3.1,3.1,5.6,5.6,5.6,6.3,4.6,4.6,7.3,7.3,6.9,8.2,8.2,8.2,7.7,7.7,7.7,5.5,5.5,5.5,7.1,7.1,7.1,4.0,6.8,6.8,6.8,4.2,6.2,6.2,6.2,6.5,6.5,4.8,6.1,6.1,6.5,6.5,2.7,2.7,6.7,6.7,7.4,7.4,7.4,2.9,5.0,5.0,5.0,4.4,4.4,4.4,7.0,7.0,7.1,7.1,7.1,5.1,5.1,3.0,3.0,7.7,7.7,7.7,7.6,7.6,7.6,7.5,7.5,7.5,3.9,3.9,3.9,2.1,2.1,2.1,6.6,5.1,5.1,4.5,5.1,5.1,5.1,5.7,5.7,4.3,4.3,5.9,5.9,7.0,5.4,5.4,5.4,6.7,6.7,7.1,7.1,7.1,6.0,6.0,6.0,6.9,6.9,7.8,7.8,5.6,6.9,6.9,7.2,7.2,7.2,6.4,6.4,6.4,7.8,7.8,5.6,4.9,4.9,4.9,5.1,5.9,5.9,3.2,3.2,3.2,6.1,6.1,6.1,3.8,3.8,5.5,5.5,5.5,7.8,7.8,6.4,7.1,7.1,6.7,6.7,5.0,5.0,5.0,6.9,6.9,6.8,5.7,5.7,5.7,3.3,3.3,4.7,4.7,4.7,5.7,7.4,7.4,7.4,8.1,8.1,2.3,2.3,2.3,5.6,5.6,5.6,5.9,5.6,7.4,7.4,7.4,7.2,7.2,7.2,5.7,5.7,5.7,4.0,4.0,4.0,3.7,3.7,3.7,6.3,4.6,4.6,7.5,7.5,7.7,3.3,3.3,7.7,7.7,3.5,3.5,7.5,7.5,7.5,4.0,4.0,4.0,5.9,5.9,5.9,6.2,6.2,6.5,6.5,4.0,4.0,6.9,6.9,7.2,5.8,5.1,5.0,5.0,5.2,5.2,5.2,4.8,4.8,7.5,7.5,5.7,5.7,5.7,4.4,4.4,4.4,6.6,6.6,5.8,7.0,8.1,6.4,6.4,6.4,4.0,4.0,4.0,7.5,7.5,7.5,6.2,6.2,5.2,5.2,7.2,7.2,5.8,5.8,5.8,7.2,7.2,7.2,7.2,7.2,5.2,5.2,5.2,4.3,4.3,6.0,6.0,6.0,6.8,6.8,7.2,7.2,7.2,7.1,7.1,6.8,6.8,6.8,5.1,5.1,5.3,5.3,5.3,6.4,6.4,5.7,5.7,6.6,6.6,6.6,4.8,4.8,4.8,4.1,6.1,6.1,2.7,6.2,6.2,5.6,4.1,5.5,2.8,8.3,8.3,8.3,4.7,6.2,6.2,6.2,7.5,6.3,6.3,7.6,7.6,7.6,6.5,6.5,6.5,7.4,7.4,7.4,8.1,3.2,3.2,3.2,6.9,6.9,5.1,5.1,5.1,5.8,5.8,5.8,5.8,5.8,4.1,7.1,7.1,4.4,4.4,4.4,4.6,5.5,5.5,5.5,5.9,5.9,5.9,7.8,4.1,4.1,4.1,5.8,5.8,5.3,5.3,5.3,4.6,4.6,4.6,4.3,4.3,4.3,6.3,6.3,6.3,6.7,6.7,7.1,7.1,6.3,6.3,6.3,5.1,5.1,5.1,6.3,6.3,7.5,7.5,2.5,2.5,2.5,5.7,5.7,5.6,5.3,5.3,5.3,6.1,6.1,6.1,6.3,5.9,5.9,5.9,5.1,5.1,5.1,3.7,3.7,5.2,5.2,5.2,7.4,6.1,6.1,6.1,4.2,4.2,4.2,4.2,4.2,4.5,4.5,4.5,4.6,7.1,3.3,3.3,3.3,4.6,4.6,4.6,7.4,7.4,7.4,6.1,6.1,6.1,4.5,4.5,6.0,6.0,6.0,6.8,6.8,6.8,4.5,4.5,6.7,6.7,6.7,5.5,5.4,5.4,5.4,5.2,5.2,5.2,2.4,2.4,3.5,7.9,7.9,4.7,4.7,3.5,3.5,3.5,7.1,7.1,7.1,6.3,6.3,7.4,7.4,7.4,7.4,7.3,8.6,3.8,6.9,6.9,6.9,5.4,5.4,6.2,6.2,6.2,7.2,7.2,7.2,3.8,3.8,6.3,6.3,6.3,7.4,7.4,7.4,4.6,4.6,4.6,4.2,4.2,4.2,5.8,7.8,5.7,4.7,4.7,4.7,6.6,6.5,6.5,6.5,5.2,5.2,6.5,6.5,6.5,5.1,5.1,5.1,4.4,4.4,4.4,6.5,6.5,6.5,6.4,6.4,6.4,5.2,5.2,5.2,5.9,5.9,5.9,6.7,4.3,4.2,4.2,8.5,3.8,4.6,4.6,4.6,7.6,7.6,7.6,2.5,2.5,5.4,5.4,5.4,4.3,5.6,5.6,5.6,7.5,3.4,3.4,3.7,6.9,6.9,6.9,4.5,4.5,4.5,5.1,8.5,5.3,5.3,6.6,6.6,6.6,6.5,6.5,5.8,5.8,5.1,5.1,5.1,7.2,7.2,5.7,4.2,4.2,4.2,5.7,5.7,5.7,6.0,6.0,6.0,4.7,4.7,4.7,4.3,8.9,7.4,7.4,7.4,5.9,5.9,3.6,3.6,3.6,6.1,6.1,6.1,3.9,3.9,6.1,6.1,1.9,4.9,5.4,5.4,5.4,5.6,5.6,4.2,4.2,4.2,5.8,5.8,5.8,5.4,5.4,5.4,7.3,7.3,7.3,8.0,8.0,8.0,3.4,3.4,3.4,3.2,3.2,3.2,7.1,7.1,7.1,4.4,4.4,4.4,6.4,3.6,5.8,3.6,6.0,6.0,6.0,5.9,6.2,6.2,5.2,5.2,5.2,8.1,8.1,8.1,8.0,8.0,8.0,6.5,7.2,7.2,7.2,4.5,4.5,6.3,6.3,6.3,2.8,2.8,2.8,6.1,6.1,3.4,3.4,8.0,7.8,7.8,6.7,6.7,6.7,7.3,7.3,6.9,6.9,4.4,4.4,5.4,6.8,6.8,6.8,7.0,7.0,4.7,5.0,7.9,7.9,7.9,7.9,3.2,3.2,5.7,6.2,6.5,6.3,6.7,6.7,6.7,7.4,4.6,4.6,4.6,5.0,5.0,5.0,7.4,7.4,7.4,7.3,5.8,5.8,5.8,5.8,5.8,5.8,6.0,8.8,8.8,3.4,3.4,3.4,6.6,6.5,6.5,6.5,6.0,6.0,6.0,6.6,5.2,2.4,2.4,2.4,6.2,5.3,5.3,5.3,7.3,7.3,7.3,6.6,6.6,8.9,8.9,4.9,4.9,7.5,7.5,7.5,6.7,6.7,6.7,5.1,5.1,5.1,6.1,6.1,6.1,5.7,5.7,5.7,6.3,5.7,5.7,6.8,6.8,6.8,8.2,5.9,5.9,5.9,4.4,7.4,7.4,7.4,5.4,5.4,5.5,5.3,5.3,5.8,5.8,7.1,7.1,6.6,7.9,7.9,7.9,6.4,6.4,5.9,5.9,7.1,8.4,8.4,5.6,5.6,5.6,8.0,8.0,6.8,6.8,6.6,8.6,5.1,5.1,5.1,6.1,6.1,5.8,5.1,5.1,5.1,6.5,6.5,5.2,5.2,5.2,5.8,5.8,6.1,6.1,6.0,6.0,6.0,5.5,7.8,7.0,7.0,4.4,4.4,4.4,3.8,3.8,3.8,6.4,6.4,6.4,5.3,5.3,5.7,7.7,7.7,7.7,6.8,6.8,6.8,3.3,3.3,3.3,7.6,7.6,7.3,7.3,5.1,5.1,5.1,7.0,7.0,5.9,5.9,5.9,5.7,5.7,4.7,4.7,6.8,6.8,6.8,7.4,7.4,7.4,7.4,3.8,3.8,5.1,5.8,5.8,5.8,5.2,5.3,5.3,6.0,4.3,4.3,6.5,6.5,3.1,3.1,3.1,3.6,3.6,3.6,6.8,6.8,6.8,4.2,6.6,6.0,6.0,6.0,5.7,5.7,5.7,5.5,5.5,7.6,7.2,7.2,10.0,10.0,4.4,4.4,7.4,9.3,9.3,9.3,6.5,6.5,6.5,2.6,2.6,2.6,5.8,5.3,5.3,3.0,3.0,3.0,5.3,5.3,6.0,6.0,4.5,4.5,5.1,7.1,7.1,7.1,7.5,7.5,7.5,4.8,4.8,4.8,7.1,7.1,6.2,6.2,6.2,5.1,4.7,4.7,4.7,7.6,7.6,7.6,6.3,6.3,5.6,5.6,6.4,6.4,4.8,4.8,4.7,6.6,5.3,5.3,5.5,5.5,6.2,5.6,5.6,5.6,3.9,3.9,5.1,5.1,7.9,7.9,7.9,5.0,5.0,5.0,5.9,5.9,7.2,7.2,6.5,6.5,7.5,6.6,6.6,5.1,4.4,4.6,3.5,3.5,7.8,7.8,7.8,7.0,5.7,5.4,5.4,3.1,3.1,3.1,3.7,6.3,6.3,6.3,8.6,5.4,5.4,4.5,5.8,5.8,5.8,8.6,8.6,2.3,2.7,2.7,2.7,7.6,7.6,7.6,4.6,3.7,3.7,3.7,5.3,5.3,6.2,6.2,6.2,6.2,6.3,6.3,6.3,4.6,4.6,4.6,3.2,8.0,8.0,8.0,5.4,5.4,7.0,7.0,7.0,3.6,3.6,7.7,7.7,7.7,5.1,5.0,6.5,6.4,6.4,6.4,5.7,5.7,6.1,6.1,6.1,6.9,6.9,6.9,7.3,7.3,7.3,5.3,5.3,5.3,6.8,6.8,6.8,4.9,4.9,4.9,7.1,7.1,7.1,6.6,6.6,6.6,7.6,4.1,4.1,4.1,5.0,5.0,7.1,7.1,7.1,5.6,5.6,5.6,7.7,8.0,6.3,6.2,6.2,6.7,6.7,6.8,6.8,4.3,4.3,4.8,4.8,4.8,6.3,6.3,6.3,6.6,6.6,5.2,5.2,5.2,5.2,7.2,5.8,7.4,7.4,7.0,7.0,7.0,7.3,6.5,6.5,5.3,5.3,5.3,4.2,4.0,4.0,4.0,4.5,4.5,6.5,6.5,6.5,5.1,5.1,5.1,4.7,6.7,6.7,6.8,4.1,4.1,7.8,7.2,7.2,7.2,3.7,3.7,5.5,5.5,5.5,5.1,5.4,2.8,7.7,8.1,5.3,5.3,5.3,5.2,5.2,5.2,6.0,6.0,6.0,7.0,6.5,6.5,6.5,6.6,6.6,6.6,7.7,6.8,6.8,5.7,5.7,5.2,5.2,6.9,7.3,7.3,5.2,6.5,6.5,6.5,7.5,7.5,5.9,5.9,5.9,6.6,6.6,6.6,6.2,6.2,6.5,6.5,3.6,3.6,3.6,6.4,6.4,6.4,8.0,8.0,8.0,7.2,7.2,6.7,6.7,6.7,7.1,7.1,7.1,7.1,7.6,7.6,7.6,6.8,6.8,6.8,7.4,7.4,6.0,6.0,6.0,6.0,6.9,6.9,6.9,4.2,8.1,8.1,8.1,5.9,5.9,6.2,6.2,6.2,4.2,7.4,7.4,7.3,7.3,7.3,7.4,7.4,7.4,7.2,4.8,4.8,4.8,6.4,6.4,6.4,3.6,3.6,3.6,3.5,3.5,4.9,5.1,5.4,4.9,4.9,6.1,6.1,6.8,6.8,6.8,7.1,7.1,8.2,8.2,5.2,5.2,4.1,4.1,4.1,6.2,7.3,7.3,7.3,5.3,5.3,5.3,5.8,5.8,5.8,5.2,5.2,5.2,8.4,5.8,5.8,5.8,7.2,5.4,5.4,5.4,5.2,5.2,5.2,6.8,6.8,6.8,4.8,6.5,6.5,6.5,6.2,6.2,6.2,5.1,5.1,5.1,3.3,2.4,4.8,4.8,7.7,7.7,5.6,5.6,7.7,8.1,8.1,4.7,4.7,4.7,2.8,4.3,4.2,5.4,5.4,3.5,4.7,4.7,4.7,7.0,5.4,5.4,5.4,6.5,6.5,6.9,5.9,5.9,5.9,2.7,6.7,8.5,6.5,6.5,5.7,3.6,3.6,3.6,7.9,6.7,6.9,6.9,7.2,6.2,6.2,6.2,6.6,6.6,5.5,7.2,7.2,5.3,5.3,6.6,6.1,6.7,6.7,6.7,6.5,6.5,3.5,3.5,3.4,5.9,5.9,5.9,7.2,6.6,7.5,7.5,7.5,6.8,6.8,3.8,3.8,3.8,6.4,6.4,7.2,7.2,7.2,7.4,7.4,7.6,7.6,7.2,6.1,3.6,3.6,4.4,4.4,5.6,4.8,7.0,7.0,4.7,5.8,5.8,8.0,8.0,4.1,3.8,3.8,4.6,4.6,4.6,8.8,4.9,7.6,7.6,7.6,3.9,5.2,4.7,4.7,5.5,7.4,6.6,5.4,5.4,5.4,5.6,5.6,5.8,5.8,5.8,6.4,6.4,6.4,5.0,3.5,6.7,6.7,7.0,7.0,6.4,6.4,6.9,6.9,6.9,3.5,3.5,3.5,5.6,5.6,5.6,6.9,6.9,6.9,6.1,6.3,6.3,7.3,7.3,5.3,5.3,5.3,6.6,6.6,6.6,5.1,5.1,5.1,5.1,3.9,3.9,3.9,6.5,6.5,5.6,7.3,7.3,3.2,3.2,3.2,7.1,5.0,6.0,6.0,6.0,5.7,5.7,5.7,5.3,5.3,6.0,6.0,6.2,6.8,6.8,6.8,5.0,5.0,6.0,6.0,6.0,4.1,4.1,6.6,2.5,2.5,2.5,7.5,7.5,7.5,6.2,6.2,6.2,6.5,6.5,6.5,7.7,7.7,3.9,6.1,6.1,6.1,7.0,7.0,7.0,4.1,7.3,4.6,4.6,4.6,7.1,7.1,4.3,4.3,4.3,6.1,7.5,6.4,6.4,6.4,6.3,4.5,5.4,5.4,5.4,3.2,7.6,7.6,5.8,5.8,5.8,4.3,3.4,3.4,3.4,6.7,6.7,6.7,6.5,6.5,3.8,7.1,7.1,7.1,6.8,6.9,5.3,5.3,4.7,4.7,6.4,6.4,8.0,6.5,6.5,6.5,5.6,5.6,5.6,5.5,5.3,5.3,4.5,6.7,6.7,3.5,3.5,5.3,5.3,5.3,7.1,7.1,7.1,6.8,6.8,7.1,7.1,6.8,5.7,5.7,5.7,7.0,7.0,7.0,5.3,5.3,4.2,6.2,6.2,6.2,4.8,4.8,7.3,7.3,7.3,5.9,5.9,5.9,2.7,2.7,5.5,5.5,5.5,3.3,3.3,3.3,6.6,6.6,6.6,7.4,7.4,7.4,5.8,4.4,4.4,4.4,9.0,6.7,6.7,4.7,7.9,4.3,4.3,8.0,8.0,8.0,4.8,4.8,7.0,7.0,7.0,3.6,3.6,3.6,5.3,3.6,3.6,7.2,7.2,7.2,6.4,6.4,6.4,4.2,4.2,4.2,5.4,4.3,4.3,4.3,4.0,4.0,4.0,7.8,7.8,7.8,6.8,6.8,6.8,4.8,6.6,6.6,6.6,5.5,5.5,5.5,6.7,6.7,7.4,4.2,3.3,3.3,3.3,5.5,5.5,5.5,7.0,3.8,3.8,3.8,6.3,6.3,6.3,5.8,6.6,2.5,2.5,2.5,7.3,7.3,6.5,6.5,4.8,4.8,4.8,6.6,6.6,6.6,6.7,6.7,6.7,5.8,5.8,5.8,2.5,2.5,5.5,5.5,8.6,8.6,7.2,3.9,6.0,6.0,6.0,6.5,6.5,6.6,6.6,6.6,5.0,5.0,6.1,6.9,6.9,6.9,6.7,6.7,6.9,6.9,6.9,7.0,7.2,7.2,7.2,6.9,4.8,6.8,6.8,6.8,2.7,2.7,2.7,1.6,4.8,5.9,5.7,5.7,5.2,5.2,7.7,4.9,4.9,4.9,6.1,6.1,3.3,3.3,3.3,6.6,6.4,5.2,5.2,5.2,4.9,4.9,7.4,7.4,7.4,5.3,8.1,8.1,3.2,3.3,3.3,3.3,4.0,4.0,4.0,6.5,6.5,6.5,4.2,4.2,4.2,5.5,5.5,4.8,4.8,4.8,7.5,7.5,5.4,5.4,5.4,6.2,6.2,6.2,4.9,4.9,4.9,7.4,5.5,5.5,5.5,4.8,6.3,6.3,4.4,4.4,7.0,7.0,5.7,7.1,7.1,7.6,7.6,7.6,5.5,6.7,5.5,7.2,7.2,6.2,6.2,7.4,7.4,7.4,7.5,7.5,7.5,4.7,4.7,4.7,6.2,4.6,4.4,4.4,5.3,5.3,5.3,6.4,3.1,6.9,8.0,6.1,6.1,6.1,6.5,5.7,5.7,7.2,7.2,7.2,5.4,5.0,5.0,5.0,4.2,4.2,4.2,4.1,5.8,5.6,5.6,5.6,4.4,5.5,5.5,6.0,6.0,7.5,7.5,7.5,5.9,5.9,5.9,5.9,4.3,4.3,6.3,6.3,4.5,4.5,5.8,4.5,4.5,4.5,6.7,6.7,4.8,6.7,7.1,7.9,7.9,6.8,5.6,5.6,6.7,6.7,6.7,6.3,6.3,6.3,6.5,6.5,6.3,6.3,7.4,6.3,6.3,4.3,4.3,4.3,6.8,6.8,7.5,6.4,6.4,6.4,5.9,5.9,3.3,3.3,3.3,5.0,5.0,5.0,6.1,6.1,6.1,4.1,4.1,4.1,7.3,7.3,7.3,7.3,2.2,2.2,2.2,7.1,7.1,7.1,7.4,7.6,7.6,5.4,5.4,5.4,8.2,6.0,6.0,6.0,6.2,6.2,6.2,5.9,5.9,5.9,5.4,5.4,5.4,8.6,7.4,7.4,5.5,5.5,6.8,7.0,6.5,6.5,6.5,7.1,7.1,7.1,5.3,5.3,5.3,5.6,5.6,3.8,3.2,3.2,5.1,5.1,6.2,6.2,6.2,4.9,4.9,6.2,6.8,6.8,6.8,2.5,2.5,5.4,5.6,6.6,7.4,7.4,6.4,6.4,6.2,6.2,6.5,6.5,6.5,5.8,5.8,5.8,7.1,6.5,6.5,6.5,4.4,4.4,5.8,8.0,8.0,8.0,5.5,5.5,5.5,7.0,7.0,4.4,6.9,6.9,7.8,7.8,7.8,5.4,6.3,3.9,4.7,4.7,4.7,6.9,6.9,6.9,7.8,3.2,3.2,3.2,6.8,7.7,7.7,7.7,6.8,6.8,6.8,6.1,7.4,6.5,6.5,7.6,7.6,7.6,5.5,5.5,3.8,3.8,3.8,5.4,3.2,7.6,7.6,7.6,7.7,7.7,7.4,7.4,7.4,7.7,7.7,6.8,6.8,6.8,7.7,7.7,2.7,6.1,6.1,5.2,5.2,5.2,4.3,4.3,6.2,6.2,8.3,8.3,7.5,7.5,7.5,4.9,4.9,4.0,4.0,3.9,3.9,3.9,7.7,9.1,5.5,5.9,9.1,6.3,6.3,6.3,5.4,4.9,5.9,5.9,2.9,2.9,2.9,7.6,7.6,4.2,4.2,4.2,6.6,6.6,6.6,6.3,6.3,6.3,7.2,7.2,7.2,4.3,4.3,4.3,7.3,7.3,7.3,5.8,7.2,7.2,3.9,3.9,3.9,6.0,6.0,6.0,6.0,6.0,6.0,5.0,5.0,5.0,6.9,6.9,7.6,7.6,5.6,5.6,6.3,6.3,6.3,4.3,4.3,4.3,5.7,5.1,5.3,5.3,5.3,3.3,3.3,6.2,6.6,5.1,7.5,7.5,8.2,5.4,8.0,8.0,6.3,4.2,5.4,5.4,5.2,5.2,7.1,5.5,5.5,6.7,6.7,6.7,7.2,7.2,7.2,8.1,8.1,8.1,8.1,8.1,8.1,4.9,4.9,7.0,7.0,6.7,7.4,7.4,7.4,4.6,4.6,4.6,5.4,5.4,5.4,4.2,4.2,4.2,7.5,7.5,5.0,5.0,5.0,5.6,7.0,3.1,3.1,5.3,5.3,6.1,6.1,6.4,6.4,7.4,7.4,7.4,6.9,6.9,6.2,3.5,3.5,5.5,5.5,5.5,8.0,8.0,4.7,4.7,4.7,7.0,7.0,7.0,6.6,7.0,7.0,7.0,8.5,3.3,3.3,3.3,4.8,7.7,7.7,7.7,3.9,3.9,6.8,6.8,6.8,7.2,7.2,6.5,8.2,8.2,8.2,7.7,7.7,6.2,6.2,4.1,4.1,5.1,5.1,5.1,5.0,5.0,5.0,5.2,5.4,3.8,7.6,4.9,4.9,3.3,3.3,3.3,6.7,7.9,7.9,7.1,7.1,7.0,7.0,7.0,2.4,8.1,8.1,8.1,7.2,3.2,3.2,5.8,5.8,3.9,3.9,7.3,6.9,6.9,6.7,4.5,4.5,4.5,7.6,7.6,6.5,6.5,6.5,7.0,7.0,6.4,6.4,6.4,6.3,6.5,4.1,4.1,4.1,4.9,4.9,4.9,6.5,6.5,4.6,4.6,4.6,6.5,6.5,5.5,5.5,5.5,7.6,7.6,5.3,5.3,5.3,6.5,6.5,6.4,6.4,6.4,5.9,3.9,3.9,3.9,8.6,7.3,6.8,6.8,5.2,5.2,6.8,6.8,5.3,5.3,5.3,3.7,4.6,5.5,7.6,7.6,2.2,2.2,6.5,6.5,6.5,6.0,5.9,5.9,5.9,6.7,6.5,6.5,6.5,5.7,5.7,5.7,5.0,5.0,6.2,6.2,6.4,6.4,6.4,4.3,4.3,6.2,6.2,7.6,6.4,7.1,7.1,7.1,7.0,7.0,7.0,7.0,7.0,7.0,6.2,8.1,4.8,4.8,6.6,6.6,6.6,7.5,7.5,7.5,7.2,7.8,7.8,7.8,7.2,7.2,7.2,6.3,6.3,7.6,7.6,7.6,6.6,5.8,5.8,5.8,7.2,6.8,6.8,6.9,6.9,6.9,6.8,6.8,2.2,2.2,2.2,7.6,7.6,6.9,6.9,7.2,7.2,7.2,5.7,5.7,7.1,6.2,5.5,5.5,5.5,6.4,6.4,4.1,4.6,6.2,6.2,6.2,7.1,7.1,5.7,5.7,4.0,5.6,5.6,7.8,5.8,4.3,3.8,4.6,6.6,6.6,5.6,5.6,5.6,6.6,6.6,6.6,8.0,7.0,5.6,4.4,4.4,4.4,5.5,5.5,5.5,7.1,7.1,7.1,4.2,4.2,2.8,2.8,7.2,7.2,7.0,7.0,6.4,6.4,7.4,7.4,4.4,4.4,4.4,5.7,4.9,4.9,4.9,6.4,6.4,6.4,4.4,5.5,6.2,6.2,6.2,4.8,4.8,4.8,8.3,8.3,8.3,7.1,7.1,6.3,6.3,6.6,6.6,6.0,7.3,7.3,7.3,3.8,3.8,3.8,6.7,6.7,5.9,5.9,5.9,7.5,7.5,7.5,4.8,4.8,5.0,5.0,5.0,6.1,6.1,6.1,7.2,6.2,6.2,6.2,7.0,7.0,6.2,6.1,5.4,7.5,7.5,2.7,5.8,5.8,6.6,6.6,6.6,6.9,6.9,6.9,6.5,5.4,5.4,5.8,5.8,5.8,6.3,6.3,6.3,6.2,6.2,4.4,5.7,5.7,3.9,3.9,3.9,3.2,3.2,3.2,7.6,6.9,6.9,6.0,6.0,5.4,5.8,5.8,6.2,6.3,6.3,6.1,6.1,6.1,6.7,6.7,7.6,7.6,8.0,7.9,8.1,8.1,8.1,8.4,8.7,5.9,6.3,6.3,5.0,5.0,6.7,6.7,6.7,4.5,4.5,4.5,8.3,2.7,2.7,6.2,8.1,8.1,8.1,5.5,5.5,4.1,4.1,4.1,3.7,3.7,3.7,5.4,4.1,4.1,4.1,3.1,3.1,6.5,6.5,5.2,5.2,5.2,4.5,4.5,4.5,3.4,6.6,6.6,4.1,4.1,4.1,4.1,5.0,5.0,4.6,4.6,7.0,7.0,7.0,5.2,6.8,6.8,6.8,7.8,7.8,7.8,4.0,4.0,4.0,6.4,6.4,5.4,6.9,5.6,5.6,5.6,8.0,8.0,8.0,4.9,6.2,6.2,4.3,4.3,4.3,6.8,5.9,5.9,5.5,6.0,6.0,7.8,7.8,7.8,7.0,7.0,7.0,5.5,4.9,4.9,4.9,7.4,7.4,6.5,6.7,6.2,6.2,4.1,4.1,4.1,1.7,1.7,5.2,5.2,5.2,7.7,5.9,5.9,5.9,6.6,6.6,6.6,6.3,6.3,6.3,7.6,7.6,5.9,5.9,6.9,6.9,6.9,2.1,2.1,4.4,4.4,4.4,7.2,7.2,7.2,6.5,6.5,6.1,6.1,6.1,6.1,5.7,5.7,5.7,3.5,5.5,5.5,5.5,4.2,4.2,4.2,4.4,4.4,4.4,7.7,5.8,4.6,4.6,4.6,6.7,6.7,6.7,7.4,7.4,7.4,7.0,7.0,7.0,6.2,6.6,6.6,6.6,6.4,6.6,7.4,7.4,7.4,4.7,4.7,4.7,6.0,6.0,6.0,6.3,6.3,6.3,7.8,7.8,7.8,7.4,7.4,6.4,6.4,6.4,8.4,8.4,8.4,5.2,6.3,6.3,6.5,6.5,5.9,3.9,3.9,3.9,4.6,4.6,7.6,7.6,7.6,7.2,7.2,7.2,6.1,4.3,4.3,6.4,6.4,3.6,6.7,6.7,6.7,6.1,6.1,6.7,6.7,6.7,3.3,3.3,3.3,6.1,6.1,6.1,6.7,6.7,6.7,5.7,5.7,5.7,5.9,6.5,6.5,6.5,8.4,8.4,8.4,3.3,3.3,5.3,7.4,7.4,6.3,6.3,6.9,6.3,6.3,6.3,3.8,3.8,3.8,6.1,6.5,6.5,6.8,6.8,6.8,6.2,6.2,6.2,4.4,6.2,6.2,5.6,5.6,5.6,5.6,5.6,5.6,7.4,7.4,7.4,6.1,6.1,3.6,3.6,7.1,7.1,3.3,3.3,3.3,6.8,6.8,6.8,5.0,5.7,5.7,5.7,6.1,6.1,7.1,7.1,4.0,6.0,6.0,6.0,5.2,3.1,7.0,7.0,6.0,6.0,6.0,7.5,7.5,7.5,4.7,4.7,4.7,5.1,5.1,5.1,8.2,8.2,8.2,5.8,5.8,5.8,7.0,7.0,7.0,5.2,5.2,5.2,4.7,4.7,4.7,5.1,5.1,5.1,5.4,5.4,8.1,8.1,8.1,6.5,6.5,7.4,6.2,6.2,7.5,7.5,7.5,3.6,3.6,3.6,6.3,6.3,6.3,7.6,7.6,4.9,4.9,5.7,5.7,7.1,7.3,7.3,7.3,7.6,7.6,5.2,5.2,6.3,6.3,4.3,4.3,5.4,5.4,5.4,6.2,6.2,5.2,5.2,5.2,6.5,6.5,6.5,4.0,4.0,4.0,4.4,4.4,4.4,5.6,5.6,5.6,7.8,7.8,7.8,7.2,7.2,7.2,4.3,4.3,6.7,6.7,6.7,5.4,5.4,5.4,1.9,1.9,1.9,4.8,7.3,7.9,1.8,1.8,1.8,2.9,2.9,2.9,6.8,6.8,6.8,3.6,3.4,3.4,3.4,6.9,6.9,4.3,4.3,4.9,4.9,4.9,3.8,7.6,7.6,5.6,6.8,7.0,5.8,5.4,7.4,7.4,7.4,8.0,8.0,7.2,7.2,7.2,7.5,7.5,7.9,7.9,7.6,7.6,6.2,6.2,6.2,6.1,6.1,6.1,5.3,5.3,5.3,4.3,6.9,6.9,6.9,6.3,6.3,6.3,3.7,3.7,6.0,6.2,6.2,6.2,3.7,3.7,3.4,3.4,3.4,6.1,6.1,6.3,4.6,4.6,2.9,2.9,2.9,2.3,2.3,4.5,4.5,4.5,7.0,7.0,7.0,5.8,5.8,5.8,7.1,7.1,7.1,7.3,7.3,3.3,6.4,6.4,3.1,6.8,6.8,6.8,5.1,5.1,5.1,6.5,6.5,6.6,6.6,6.6,3.7,3.7,7.6,7.6,7.6,6.5,6.5,6.5,3.1,2.9,4.7,5.8,5.8,7.6,4.7,4.7,5.3,5.3,5.3,6.5,7.4,7.4,7.4,6.3,6.3,6.3,6.7,1.7,1.7,1.7,5.4,5.4,5.4,6.6,6.8,6.8,6.8,7.2,7.2,7.2,3.7,8.0,5.8,6.0,6.7,6.7,6.7,3.9,3.9,3.9,3.4,3.4,3.4,7.5,7.5,5.7,5.7,5.7,4.5,4.5,4.5,5.9,5.9,5.9,4.7,4.7,4.7,6.7,6.7,6.7,5.4,6.4,6.4,6.4,7.6,7.6,6.8,6.9,6.1,6.1,6.1,3.6,7.3,4.8,4.8,7.1,8.1,8.1,8.1,6.2,6.2,7.5,7.5,7.5,2.3,5.0,5.0,5.0,5.6,5.6,5.6,5.1,5.1,6.7,6.7,6.7,5.8,5.8,7.2,6.9,6.9,6.9,6.2,6.2,6.2,7.7,7.7,7.7,5.7,5.7,4.2,4.2,4.2,4.3,4.3,4.3,2.9,2.9,2.9,5.7,5.7,5.7,7.2,7.2,3.5,5.9,5.9,5.9,4.8,4.8,4.8,6.8,6.8,6.4,6.4,6.4,6.3,6.3,6.3,2.8,2.8,2.8,3.3,3.3,3.3,9.0,3.9,9.3,5.4,5.4,5.4,5.5,5.9,7.6,7.6,3.2,8.0,8.0,7.7,5.2,5.2,5.2,4.5,7.0,7.0,6.8,6.8,6.8,4.9,4.6,4.6,7.0,8.4,5.1,8.5,4.5,4.5,4.5,6.9,6.9,6.4,6.4,6.4,6.7,7.6,3.5,3.5,3.5,6.5,6.5,4.6,4.6,6.6,6.6,6.6,7.0,6.8,6.8,6.7,4.6,4.6,4.6,6.4,8.7,5.6,6.1,7.4,7.4,6.8,6.8,6.8,5.2,5.2,5.2,7.8,5.6,5.6,5.6,4.2,4.2,4.2,5.0,5.0,7.7,7.7,7.5,7.5,7.4,7.4,7.7,7.7,7.7,6.9,6.9,3.9,3.9,3.9,6.8,6.8,6.8,5.2,5.2,5.2,4.2,4.2,4.2,6.9,6.6,6.6,6.6,3.9,4.3,4.3,2.6,2.6,2.6,3.5,4.9,4.9,4.9,6.1,6.1,6.1,6.2,6.2,6.8,6.8,6.8,6.3,6.9,6.9,6.9,5.8,5.8,5.8,6.8,6.0,6.0,5.7,5.7,5.7,3.3,3.3,3.3,5.5,5.5,5.5,7.2,2.7,2.7,2.7,6.5,6.5,6.5,7.7,6.4,6.4,4.8,4.8,4.8,5.7,7.5,7.5,7.5,6.5,6.5,6.5,6.6,6.6,4.0,4.0,4.0,5.4,5.4,5.4,3.7,3.7,6.3,7.1,7.1,7.1,6.2,6.2,6.2,6.2,6.2,6.4,6.4,6.4,5.7,5.7,5.4,7.1,7.1,7.2,7.2,7.2,7.2,6.4,6.4,6.4,6.0,6.0,4.9,7.6,7.6,7.6,6.3,6.3,7.7,7.7,8.2,8.2,5.8,3.1,3.1,8.2,7.1,7.1,5.6,6.5,6.5,6.5,5.9,5.9,5.7,7.1,7.2,7.2,6.2,6.2,6.2,6.8,6.8,6.8,5.1,6.7,2.8,2.8,2.8,5.2,5.2,5.2,5.1,5.8,5.8,5.8,5.1,5.1,5.1,5.7,5.7,5.7,4.8,4.4,3.5,3.5,6.5,6.5,3.4,3.4,6.9,6.0,6.0,6.0,6.8,2.9,7.5,7.5,7.5,6.7,6.7,6.7,7.3,7.3,7.3,4.5,4.5,8.6,8.6,5.8,6.5,6.5,6.5,1.1,1.1,7.1,7.1,7.1,7.2,6.6,6.6,4.5,4.5,8.4,8.4,7.2,7.2,6.1,6.4,5.6,5.6,6.0,6.0,6.0,6.6,6.6,7.2,7.2,7.2,4.4,4.4,4.4,6.8,6.8,6.8,4.7,4.8,4.8,4.8,8.3,8.3,5.7,5.7,4.2,4.2,4.2,6.1,6.1,6.1,6.7,6.7,7.1,7.1,7.1,4.1,6.6,6.6,6.6,5.4,5.4,5.8,5.8,5.8,5.8,8.0,8.0,6.2,6.2,6.2,6.4,5.1,5.1,5.1,7.6,7.6,3.6,5.6,7.3,6.9,6.6,6.6,6.6,6.2,7.5,7.1,7.1,6.7,6.7,6.7,6.9,6.9,6.9,5.4,6.7,7.8,7.8,7.8,7.4,7.4,7.4,5.8,5.8,5.8,6.2,6.2,6.1,6.1,6.1,6.0,6.0,5.5,5.5,5.5,4.8,4.8,4.8,5.4,5.4,3.2,3.2,4.8,4.8,4.8,7.4,7.4,7.4,6.9,6.3,6.3,6.3,5.4,5.4,7.5,7.5,7.5,7.3,7.3,7.3,4.2,4.2,5.6,5.6,6.8,6.8,6.8,6.7,3.2,3.2,7.0,7.0,6.9,6.9,6.2,6.2,6.2,7.0,7.7,7.7,7.7,6.2,6.2,6.2,5.0,5.0,6.4,6.4,6.6,6.6,7.3,7.9,8.1,6.5,6.5,6.7,2.8,2.8,2.8,5.8,5.8,6.7,6.7,7.1,7.1,6.8,3.3,3.3,7.2,5.2,5.2,5.2,7.2,6.8,4.5,4.5,4.5,7.3,7.3,7.3,6.4,6.4,7.3,7.3,4.7,4.7,4.7,7.9,7.9,7.9,4.1,4.1,4.1,6.6,5.2,8.1,8.1,6.8,6.8,6.9,6.9,6.2,7.5,3.9,3.9,7.0,7.6,7.6,7.6,4.9,4.9,4.9,6.7,6.7,6.7,4.8,4.8,5.3,5.4,5.4,6.7,6.3,6.3,5.0,5.0,5.3,5.3,5.3,6.8,6.8,7.2,7.2,7.2,8.2,8.2,8.2,5.9,5.9,5.9,5.9,7.2,7.2,8.2,7.1,7.1,5.2,5.2,5.7,5.7,5.7,4.0,4.0,7.2,7.2,3.8,7.2,7.2,6.8,6.8,6.8,5.8,5.8,5.8,3.8,4.7,6.0,6.2,6.1,6.1,6.1,6.5,6.5,6.5,6.3,6.3,7.6,7.6,7.6,6.3,6.3,5.5,7.6,7.6,7.6,6.2,6.2,2.5,5.3,6.0,6.0,4.1,4.1,4.1,6.5,3.8,3.8,7.5,7.8,7.8,9.3,9.3,8.1,8.1,8.1,6.8,6.8,7.5,7.5,6.8,6.8,6.8,6.8,4.4,4.4,4.4,6.8,6.8,7.7,7.7,7.7,6.9,6.8,6.8,5.3,5.2,4.1,4.1,4.1,5.1,6.9,5.6,5.6,7.6,7.6,3.5,4.1,4.1,4.1,4.9,6.0,6.0,7.1,7.1,7.1,3.5,3.5,3.5,5.4,5.4,5.4,5.1,5.1,6.6,6.6,6.6,6.2,6.2,6.2,5.6,5.6,5.6,7.4,7.1,7.1,7.1,7.2,7.2,7.9,7.9,7.9,6.8,6.8,6.8,6.3,6.3,4.6,8.2,8.2,6.9,6.9,6.9,7.4,5.0,5.0,7.1,5.4,5.4,5.4,7.2,7.2,7.2,4.3,4.8,4.9,4.9,4.9,2.3,2.3,2.3,3.2,3.2,6.8,6.8,6.0,6.0,7.7,7.7,7.7,2.6,2.6,2.6,6.7,6.1,6.1,6.3,6.3,6.3,3.5,3.5,6.5,6.5,6.5,6.6,6.6,6.8,6.8,6.8,5.2,5.2,5.2,7.2,7.2,7.2,6.5,5.6,5.6,5.6,5.5,5.5,5.5,6.0,6.0,6.0,4.3,5.5,7.4,7.4,7.4,6.6,6.6,6.6,7.1,7.1,5.8,4.9,4.9,4.9,6.8,4.6,4.6,4.6,5.5,5.5,4.9,7.0,7.0,7.0,6.7,6.7,6.4,6.4,6.4,3.5,3.5,4.6,4.6,6.1,6.1,6.9,6.9,6.9,7.2,6.1,6.1,7.3,7.3,7.3,7.4,7.2,3.9,6.5,4.2,8.5,8.5,5.4,5.4,5.4,4.0,5.1,4.5,4.5,4.5,3.6,3.6,6.6,6.6,3.8,3.8,3.8,4.6,4.6,4.6,5.7,5.7,5.7,5.6,5.6,7.0,4.9,5.6,5.6,4.6,4.6,8.1,7.0,7.0,4.8,4.8,4.2,8.1,8.1,8.1,3.9,3.9,3.9,4.6,4.6,4.6,4.7,4.7,4.7,6.2,6.2,6.2,4.2,4.2,6.2,6.2,5.2,7.3,7.3,6.5,6.5,6.5,8.2,8.2,8.2,7.7,7.7,7.7,6.8,5.0,7.1,7.1,7.1,5.9,5.9,5.9,7.2,7.2,7.2,6.6,5.7,2.3,2.3,2.3,6.4,6.4,6.4,3.4,3.4,6.5,3.6,3.6,3.6,7.3,7.3,6.3,6.3,8.0,8.0,8.0,7.5,7.5,7.5,7.0,7.0,7.0,7.2,4.8,4.8,8.2,8.2,7.0,7.0,7.0,6.4,6.4,6.4,6.6,6.6,5.0,5.0,6.3,6.3,6.9,6.9,5.8,5.8,4.5,6.0,6.0,6.0,7.9,7.9,7.9,6.4,5.1,5.1,5.1,7.2,6.6,6.2,6.2,7.5,7.3,6.4,6.4,6.4,3.9,3.9,4.5,4.5,2.9,6.2,6.6,6.6,4.0,7.3,7.3,7.3,2.5,2.5,2.5,7.1,7.1,8.5,8.5,5.6,5.6,5.6,5.1,5.1,5.1,9.3,9.3,9.3,5.1,5.1,6.5,6.5,5.0,5.0,5.7,5.7,5.7,5.6,5.6,6.8,6.8,6.8,5.5,5.5,5.7,5.7,5.7,5.1,5.1,5.1,4.2,4.2,4.2,7.7,7.7,6.2,6.2,6.2,3.4,5.8,5.1,5.1,6.5,6.5,7.5,7.5,7.5,5.5,6.9,6.3,6.3,6.3,5.3,6.6,6.6,6.6,7.1,7.1,6.5,6.5,6.5,6.5,6.5,5.9,5.9,5.9,4.3,4.3,4.3,7.4,7.4,7.4,7.2,7.2,6.1,6.1,6.1,5.9,5.9,6.9,6.2,6.2,6.2,7.0,7.0,7.0,6.0,5.1,5.1,5.1,5.5,5.5,2.8,4.0,4.0,3.5,3.5,3.5,5.3,5.3,8.1,8.1,8.1,6.0,6.0,4.8,4.8,7.2,7.2,6.7,6.7,6.7,7.1,7.1,9.1,7.4,7.4,7.4,5.6,6.3,6.3,6.1,6.1,6.1,5.8,5.6,5.6,5.6,7.1,7.1,5.8,5.8,5.7,5.7,5.7,5.3,5.3,4.7,6.1,5.9,8.0,8.0,8.0,2.9,2.9,2.9,6.5,6.5,4.9,4.9,4.9,7.8,7.8,4.6,4.6,8.5,8.5,4.4,4.4,7.8,7.8,7.8,6.3,6.3,6.3,7.5,7.5,7.5,8.2,8.2,6.2,6.2,5.6,6.2,6.2,5.8,5.8,4.9,4.9,4.9,7.5,7.6,7.6,3.6,3.6,5.2,3.7,3.7,3.7,6.3,6.9,6.9,6.9,6.5,5.3,5.3,5.3,2.2,2.2,2.2,2.6,2.6,2.6,6.7,6.7,6.7,5.4,6.5,6.5,6.5,8.2,8.2,8.2,7.2,3.7,3.7,3.7,4.0,4.0,4.0,6.7,6.7,6.7,5.7,5.7,5.7,4.8,4.8,6.1,6.4,6.4,6.8,6.8,7.3,7.3,7.1,7.1,3.2,3.2,3.2,5.6,5.6,7.0,7.0,7.0,6.2,6.2,6.2,7.1,7.1,6.9,6.3,6.3,6.3,5.4,5.4,5.9,5.9,5.9,5.3,5.3,5.3,6.6,6.8,6.8,6.8,5.4,5.4,5.4,6.1,6.1,5.6,5.6,4.5,2.5,2.5,2.5,8.6,6.5,6.8,4.3,4.3,4.3,5.9,8.0,8.0,1.9,1.9,1.9,4.6,4.6,4.6,5.5,5.5,4.5,4.5,4.5,8.0,6.0,6.0,6.4,6.4,6.4,6.8,6.8,6.8,6.7,6.7,6.7,5.7,5.7,5.9,7.3,7.3,7.3,4.1,4.1,4.1,6.3,6.3,6.3,5.4,5.4,5.4,4.5,4.5,7.3,8.2,6.5,6.8,6.3,6.3,6.7,5.5,5.5,5.5,6.7,7.4,7.4,7.4,6.1,6.1,3.4,3.4,3.4,4.2,4.2,8.7,5.6,5.6,5.6,6.7,6.7,6.7,7.3,7.3,4.8,4.8,4.5,4.5,4.5,4.4,7.2,7.2,7.2,4.7,5.6,4.7,4.7,5.7,5.7,5.7,5.4,5.4,5.4,5.3,5.3,7.5,7.5,6.6,6.6,6.7,6.7,6.7,5.0,5.0,5.0,5.7,5.7,6.1,4.6,4.6,4.6,5.4,6.7,7.2,7.2,7.2,4.7,4.7,4.7,4.3,4.3,6.6,6.6,5.5,5.5,5.5,5.4,5.4,5.4,8.2,8.2,8.2,4.0,4.0,4.4,4.4,6.8,7.6,7.3,7.3,7.3,5.1,5.6,5.6,5.6,8.4,8.4,6.0,6.0,6.0,7.6,7.6,7.6,8.7,7.5,7.5,7.5,6.8,6.8,6.8,7.6,7.6,7.6,7.2,7.2,6.0,6.3,6.3,4.2,4.2,4.2,6.5,6.5,6.5,7.3,5.5,6.9,6.9,6.9,4.5,4.5,4.5,7.6,4.6,4.6,4.6,5.0,5.0,7.2,7.2,8.1,3.8,5.6,5.6,5.6,3.8,4.5,4.5,4.5,3.9,3.9,3.9,6.9,6.9,4.4,4.4,4.4,2.6,2.6,7.4,7.1,7.1,7.1,5.2,5.2,6.9,6.9,6.3,7.3,7.3,7.3,6.4,6.4,6.4,7.3,7.3,7.3,4.0,4.0,6.8,5.8,5.8,5.8,6.9,6.9,4.1,4.1,4.1,6.3,6.3,6.3,6.4,7.5,2.6,2.6,6.3,6.3,6.3,5.2,5.2,6.4,6.4,2.6,2.6,2.6,7.9,7.9,7.9,7.7,7.7,7.7,5.9,6.3,6.3,6.3,2.5,2.5,2.5,5.5,5.5,5.5,5.4,1.8,1.8,3.0,3.0,6.0,6.0,6.0,4.9,4.0,2.6,2.6,2.6,7.2,7.2,4.3,5.1,7.4,7.4,7.4,2.4,5.3,5.3,5.3,5.3,5.3,5.3,7.2,7.2,6.2,6.2,6.2,5.8,5.8,5.8,5.9,6.2,6.2,6.1,3.1,3.1,7.0,5.7,5.7,5.7,6.7,5.0,5.4,5.4,5.4,4.7,4.7,4.7,5.3,5.3,6.8,6.8,6.8,6.2,4.0,4.0,4.0,7.0,7.0,7.0,3.9,3.9,3.9,5.2,5.2,5.9,5.9,5.9,5.7,5.7,5.6,5.6,5.6,6.1,6.1,4.7,7.9,7.9,6.8,6.7,6.7,6.7,4.2,4.8,4.8,4.8,6.3,6.3,6.0,6.0,7.3,7.1,7.1,5.7,6.8,6.8,6.8,6.9,6.9,6.9,6.4,6.4,6.4,6.1,6.1,6.1,7.4,7.4,7.4,5.6,5.6,5.4,5.4,8.0,8.0,8.0,5.9,6.8,6.8,7.6,7.6,7.6,7.7,6.4,7.2,7.2,7.2,5.9,6.1,6.1,6.1,2.4,6.6,6.6,6.6,3.6,6.0,6.0,6.0,7.5,7.5,7.5,5.1,6.9,6.9,6.4,6.4,6.4,6.0,6.0,6.0,3.4,3.4,3.4,6.2,5.4,9.2,5.0,5.0,5.0,5.2,5.2,7.6,7.6,7.6,4.4,4.4,4.4,7.1,7.1,7.1,6.1,6.5,6.5,6.5,6.2,7.1,7.1,7.1,6.5,6.5,4.1,4.1,4.1,5.3,5.3,5.3,3.5,8.0,8.0,7.2,6.8,6.8,7.3,7.3,7.2,6.4,6.4,6.4,6.0,6.6,6.1,4.7,4.7,4.7,7.9,5.9,7.3,7.3,7.3,8.1,8.1,8.1,2.0,2.0,2.0,7.2,7.2,6.2,6.2,7.8,7.8,7.9,7.9,7.9,4.6,4.6,4.6,7.8,7.8,4.4,4.4,7.0,4.0,4.0,5.8,5.8,6.4,6.2,6.2,6.2,5.3,3.5,3.5,5.7,8.7,8.7,8.7,5.7,5.7,5.7,6.8,6.8,6.8,6.8,4.5,4.5,8.6,7.3,7.3,7.3,9.4,2.9,6.9,7.0,7.0,7.0,6.6,6.6,6.6,8.0,8.0,4.9,6.7,7.7,7.7,7.7,7.3,6.4,6.4,6.4,6.8,6.8,7.6,7.6,5.9,5.7,5.7,5.7,7.2,7.2,7.2,7.4,7.4,7.4,7.1,7.8,7.8,7.8,7.3,8.1,8.1,6.4,6.4,6.4,4.4,4.3,4.3,4.3,5.7,5.7,4.6,5.7,5.7,5.7,6.5,6.5,6.5,6.9,6.9,6.0,6.0,6.0,6.7,6.7,7.4,7.4,7.4,5.2,7.1,7.1,4.5,4.5,4.5,7.0,7.0,6.8,6.8,5.9,5.9,3.3,3.3,7.3,7.3,7.3,4.2,4.2,4.2,6.6,6.6,6.6,5.5,5.5,4.4,4.4,4.4,4.9,4.9,4.9,7.0,7.0,7.0,5.9,5.9,5.9,7.3,7.3,6.4,6.6,5.9,5.8,5.8,5.8,7.1,7.1,7.1,4.1,4.1,6.4,5.9,5.9,5.9,7.3,7.9,5.9,5.9,5.9,4.1,1.8,1.8,5.4,6.3,6.9,6.9,6.9,5.0,5.0,5.0,4.1,4.1,7.6,7.6,7.6,4.3,4.3,6.7,6.7,6.7,4.4,4.4,4.4,6.9,6.9,5.1,5.1,5.2,5.2,5.5,5.5,7.2,7.2,3.2,3.2,3.2,7.9,4.9,4.9,5.7,5.7,3.4,4.2,4.2,4.2,5.7,5.4,2.6,2.6,6.8,6.8,6.8,4.2,4.2,4.2,5.0,5.0,5.0,7.6,6.3,6.3,6.7,6.7,6.7,6.5,5.6,5.6,5.6,6.7,6.7,7.6,7.6,5.3,5.3,5.3,6.1,6.1,6.3,6.3,6.3,7.0,4.8,4.8,5.1,2.4,2.4,7.3,7.2,6.0,7.7,7.7,7.7,5.2,5.2,5.2,7.3,8.0,5.2,5.2,5.2,3.8,3.8,4.5,4.5,4.5,6.4,6.2,6.2,6.6,6.6,6.0,4.8,4.8,7.5,7.5,7.0,7.0,3.9,4.7,4.7,4.7,5.0,5.0,5.6,5.6,4.6,4.6,4.6,2.4,2.4,2.4,8.3,8.3,8.3,5.6,5.6,6.1,7.0,7.0,5.6,5.6,5.6,7.0,7.0,4.5,4.5,6.5,6.5,6.5,5.9,5.9,5.1,5.1,5.1,8.1,5.5,5.5,5.0,6.9,4.8,6.8,5.9,5.9,5.8,6.6,4.5,4.5,4.5,8.1,3.5,5.0,5.0,7.8,7.8,7.8,8.0,8.0,8.0,3.7,3.7,6.8,6.8,6.8,6.2,6.2,6.9,6.5,7.0,7.0,7.0,4.4,4.4,5.5,5.5,5.5,4.2,4.2,4.2,6.6,5.5,5.5,5.5,5.5,6.6,6.6,8.2,6.6,6.6,5.8,5.1,5.1,5.1,5.7,5.7,5.7,4.2,4.2,7.3,6.5,6.5,6.5,3.3,3.3,3.3,7.0,7.0,7.8,7.2,7.5,7.5,7.5,6.7,7.4,7.4,7.4,8.2,8.2,8.2,7.1,7.1,6.9,6.8,6.8,6.8,5.2,3.8,3.8,3.8,7.4,7.4,7.4,4.4,4.4,5.6,6.9,6.9,6.9,6.0,6.0,4.2,4.2,4.1,4.1,4.1,4.8,4.8,4.9,4.9,6.9,6.9,6.9,5.6,5.6,5.6,4.8,4.5,4.5,4.5,5.8,5.8,5.8,8.0,8.0,8.0,5.0,5.0,5.3,6.8,6.8,8.5,8.5,8.5,7.7,7.7,7.7,7.3,7.3,5.5,5.5,5.5,7.0,7.0,7.0,7.0,4.7,8.2,6.0,6.0,6.0,7.4,4.5,4.5,4.5,5.1,3.7,3.7,4.5,4.5,4.5,7.0,7.0,7.0,6.8,6.8,7.2,7.2,7.2,6.6,6.6,6.5,6.4,6.4,6.4,6.6,6.6,6.6,5.3,5.3,5.3,3.2,2.8,2.8,5.7,5.7,6.0,5.8,5.0,7.8,7.8,7.8,6.7,6.7,6.0,6.7,6.7,6.7,5.4,5.4,5.4,6.7,6.7,6.7,6.9,6.9,7.8,7.8,7.1,7.1,7.1,5.3,5.3,5.3,3.8,3.8,7.2,7.2,5.2,5.2,6.5,7.1,7.2,5.6,5.6,5.6,5.0,5.0,5.0,7.3,6.1,6.1,6.1,7.3,7.3,7.3,3.7,3.7,6.2,5.3,5.3,5.3,5.6,8.9,7.5,7.5,7.5,2.9,2.9,4.3,7.1,7.1,4.9,4.9,4.9,5.1,5.1,5.1,7.2,7.2,7.2,8.1,8.1,5.9,5.9,5.3,6.5,6.5,6.5,6.6,6.6,6.6,6.6,6.6,5.6,5.6,5.4,5.4,5.4,6.6,6.6,6.6,3.7,3.7,3.7,6.7,3.8,3.8,3.8,3.7,3.7,3.7,4.5,4.5,5.4,5.5,5.5,5.5,7.2,7.2,4.4,4.4,4.4,6.9,6.9,6.9,6.7,7.6,7.6,7.6,6.6,6.6,6.6,6.6,6.5,6.5,6.5,4.5,4.5,7.8,7.8,6.0,6.0,6.0,6.3,6.3,6.3,5.9,5.9,5.9,6.8,6.8,6.8,6.5,6.5,6.5,5.4,5.4,6.8,6.8,6.4,6.4,4.6,4.6,7.1,7.1,4.1,4.1,5.7,5.7,5.7,7.7,7.1,7.1,7.1,5.6,5.6,5.6,4.8,4.9,3.8,3.8,6.9,6.9,4.3,4.3,4.3,4.2,4.2,4.2,7.5,7.5,7.5,6.0,6.0,6.0,7.9,5.2,5.2,5.2,1.6,1.6,6.9,6.9,7.3,5.4,6.5,5.0,5.0,5.0,4.6,4.6,4.6,4.9,4.9,7.3,7.3,7.3,4.9,5.8,5.8,5.8,5.5,6.8,5.1,5.1,3.9,3.9,6.0,6.0,4.5,9.0,9.0,6.4,6.4,6.4,4.8,6.2,6.2,7.6,7.6,4.6,7.6,7.6,7.6,6.4,6.4,6.4,7.1,6.4,3.3,7.6,7.6,8.1,3.9,3.9,2.7,5.2,5.2,5.2,5.7,7.7,7.7,7.7,5.9,5.9,5.9,6.5,6.5,4.4,4.4,4.4,5.4,3.5,3.5,3.7,3.7,4.2,4.2,4.2,6.3,6.3,6.3,5.6,7.1,7.1,7.1,2.7,2.7,7.0,6.0,6.6,5.1,7.2,7.2,7.2,7.0,7.0,7.0,5.1,5.1,3.3,3.3,3.3,5.4,5.4,5.4,6.7,3.2,3.2,3.4,3.4,4.5,4.5,4.5,4.7,4.7,4.7,5.4,6.1,4.4,4.4,4.4,6.3,6.3,6.4,4.6,3.4,3.4,3.4,7.6,5.8,5.8,3.9,3.9,4.3,4.3,5.4,5.4,6.4,6.4,6.4,6.0,6.0,6.0,4.7,4.7,6.8,6.8,3.6,3.6,6.6,5.2,5.2,5.2,4.7,4.7,4.7,4.4,4.4,4.4,3.3,7.1,7.1,7.1,5.2,4.4,6.1,3.8,3.8,3.8,3.7,3.7,3.7,4.9,4.9,4.1,4.1,4.1,3.4,6.0,6.0,6.0,8.0,8.0,8.0,7.5,7.5,7.5,8.6,6.5,6.5,6.5,7.2,7.2,7.2,3.0,3.0,5.2,5.2,5.2,4.8,6.4,6.4,6.8,6.8,6.8,7.2,7.2,7.2,4.6,4.6,7.8,7.8,5.1,5.1,5.7,5.7,5.9,7.0,6.2,6.2,6.2,7.7,7.7,7.7,7.4,7.4,7.4,4.8,4.8,4.8,4.1,4.1,4.1,4.9,4.9,5.3,5.3,4.6,4.6,7.9,6.2,6.2,4.0,4.0,4.0,5.0,4.7,4.7,4.7,5.6,5.6,6.0,6.0,4.9,4.9,4.9,3.8,3.8,3.8,6.8,6.8,6.3,6.3,6.3,5.5,5.5,5.5,5.3,5.3,5.3,6.0,6.0,6.0,5.5,5.5,6.2,6.2,3.0,3.0,3.3,7.6,7.6,7.6,3.2,3.2,3.2,7.6,7.6,7.6,6.3,7.7,7.7,7.7,6.4,6.4,5.4,5.4,5.4,7.1,7.1,5.4,5.4,5.4,4.7,4.7,4.4,4.4,4.4,6.9,6.9,5.8,5.8,3.6,3.6,3.6,4.8,4.8,4.8,5.3,4.9,4.9,4.9,7.1,7.1,3.9,7.1,6.5,6.5,6.5,7.0,6.8,6.8,2.8,2.7,2.7,6.0,8.2,8.2,8.2,3.7,5.5,5.5,8.2,8.2,4.4,6.0,5.7,4.0,4.0,4.0,5.7,4.3,4.3,4.3,5.6,5.6,5.6,6.1,6.2,6.2,6.2,5.8,5.8,5.8,4.5,4.5,6.2,6.2],\"xaxis\":\"x\",\"yaxis\":\"y\",\"type\":\"histogram\"}],                        {\"template\":{\"data\":{\"histogram2dcontour\":[{\"type\":\"histogram2dcontour\",\"colorbar\":{\"outlinewidth\":0,\"ticks\":\"\"},\"colorscale\":[[0.0,\"#0d0887\"],[0.1111111111111111,\"#46039f\"],[0.2222222222222222,\"#7201a8\"],[0.3333333333333333,\"#9c179e\"],[0.4444444444444444,\"#bd3786\"],[0.5555555555555556,\"#d8576b\"],[0.6666666666666666,\"#ed7953\"],[0.7777777777777778,\"#fb9f3a\"],[0.8888888888888888,\"#fdca26\"],[1.0,\"#f0f921\"]]}],\"choropleth\":[{\"type\":\"choropleth\",\"colorbar\":{\"outlinewidth\":0,\"ticks\":\"\"}}],\"histogram2d\":[{\"type\":\"histogram2d\",\"colorbar\":{\"outlinewidth\":0,\"ticks\":\"\"},\"colorscale\":[[0.0,\"#0d0887\"],[0.1111111111111111,\"#46039f\"],[0.2222222222222222,\"#7201a8\"],[0.3333333333333333,\"#9c179e\"],[0.4444444444444444,\"#bd3786\"],[0.5555555555555556,\"#d8576b\"],[0.6666666666666666,\"#ed7953\"],[0.7777777777777778,\"#fb9f3a\"],[0.8888888888888888,\"#fdca26\"],[1.0,\"#f0f921\"]]}],\"heatmap\":[{\"type\":\"heatmap\",\"colorbar\":{\"outlinewidth\":0,\"ticks\":\"\"},\"colorscale\":[[0.0,\"#0d0887\"],[0.1111111111111111,\"#46039f\"],[0.2222222222222222,\"#7201a8\"],[0.3333333333333333,\"#9c179e\"],[0.4444444444444444,\"#bd3786\"],[0.5555555555555556,\"#d8576b\"],[0.6666666666666666,\"#ed7953\"],[0.7777777777777778,\"#fb9f3a\"],[0.8888888888888888,\"#fdca26\"],[1.0,\"#f0f921\"]]}],\"heatmapgl\":[{\"type\":\"heatmapgl\",\"colorbar\":{\"outlinewidth\":0,\"ticks\":\"\"},\"colorscale\":[[0.0,\"#0d0887\"],[0.1111111111111111,\"#46039f\"],[0.2222222222222222,\"#7201a8\"],[0.3333333333333333,\"#9c179e\"],[0.4444444444444444,\"#bd3786\"],[0.5555555555555556,\"#d8576b\"],[0.6666666666666666,\"#ed7953\"],[0.7777777777777778,\"#fb9f3a\"],[0.8888888888888888,\"#fdca26\"],[1.0,\"#f0f921\"]]}],\"contourcarpet\":[{\"type\":\"contourcarpet\",\"colorbar\":{\"outlinewidth\":0,\"ticks\":\"\"}}],\"contour\":[{\"type\":\"contour\",\"colorbar\":{\"outlinewidth\":0,\"ticks\":\"\"},\"colorscale\":[[0.0,\"#0d0887\"],[0.1111111111111111,\"#46039f\"],[0.2222222222222222,\"#7201a8\"],[0.3333333333333333,\"#9c179e\"],[0.4444444444444444,\"#bd3786\"],[0.5555555555555556,\"#d8576b\"],[0.6666666666666666,\"#ed7953\"],[0.7777777777777778,\"#fb9f3a\"],[0.8888888888888888,\"#fdca26\"],[1.0,\"#f0f921\"]]}],\"surface\":[{\"type\":\"surface\",\"colorbar\":{\"outlinewidth\":0,\"ticks\":\"\"},\"colorscale\":[[0.0,\"#0d0887\"],[0.1111111111111111,\"#46039f\"],[0.2222222222222222,\"#7201a8\"],[0.3333333333333333,\"#9c179e\"],[0.4444444444444444,\"#bd3786\"],[0.5555555555555556,\"#d8576b\"],[0.6666666666666666,\"#ed7953\"],[0.7777777777777778,\"#fb9f3a\"],[0.8888888888888888,\"#fdca26\"],[1.0,\"#f0f921\"]]}],\"mesh3d\":[{\"type\":\"mesh3d\",\"colorbar\":{\"outlinewidth\":0,\"ticks\":\"\"}}],\"scatter\":[{\"fillpattern\":{\"fillmode\":\"overlay\",\"size\":10,\"solidity\":0.2},\"type\":\"scatter\"}],\"parcoords\":[{\"type\":\"parcoords\",\"line\":{\"colorbar\":{\"outlinewidth\":0,\"ticks\":\"\"}}}],\"scatterpolargl\":[{\"type\":\"scatterpolargl\",\"marker\":{\"colorbar\":{\"outlinewidth\":0,\"ticks\":\"\"}}}],\"bar\":[{\"error_x\":{\"color\":\"#2a3f5f\"},\"error_y\":{\"color\":\"#2a3f5f\"},\"marker\":{\"line\":{\"color\":\"#E5ECF6\",\"width\":0.5},\"pattern\":{\"fillmode\":\"overlay\",\"size\":10,\"solidity\":0.2}},\"type\":\"bar\"}],\"scattergeo\":[{\"type\":\"scattergeo\",\"marker\":{\"colorbar\":{\"outlinewidth\":0,\"ticks\":\"\"}}}],\"scatterpolar\":[{\"type\":\"scatterpolar\",\"marker\":{\"colorbar\":{\"outlinewidth\":0,\"ticks\":\"\"}}}],\"histogram\":[{\"marker\":{\"pattern\":{\"fillmode\":\"overlay\",\"size\":10,\"solidity\":0.2}},\"type\":\"histogram\"}],\"scattergl\":[{\"type\":\"scattergl\",\"marker\":{\"colorbar\":{\"outlinewidth\":0,\"ticks\":\"\"}}}],\"scatter3d\":[{\"type\":\"scatter3d\",\"line\":{\"colorbar\":{\"outlinewidth\":0,\"ticks\":\"\"}},\"marker\":{\"colorbar\":{\"outlinewidth\":0,\"ticks\":\"\"}}}],\"scattermapbox\":[{\"type\":\"scattermapbox\",\"marker\":{\"colorbar\":{\"outlinewidth\":0,\"ticks\":\"\"}}}],\"scatterternary\":[{\"type\":\"scatterternary\",\"marker\":{\"colorbar\":{\"outlinewidth\":0,\"ticks\":\"\"}}}],\"scattercarpet\":[{\"type\":\"scattercarpet\",\"marker\":{\"colorbar\":{\"outlinewidth\":0,\"ticks\":\"\"}}}],\"carpet\":[{\"aaxis\":{\"endlinecolor\":\"#2a3f5f\",\"gridcolor\":\"white\",\"linecolor\":\"white\",\"minorgridcolor\":\"white\",\"startlinecolor\":\"#2a3f5f\"},\"baxis\":{\"endlinecolor\":\"#2a3f5f\",\"gridcolor\":\"white\",\"linecolor\":\"white\",\"minorgridcolor\":\"white\",\"startlinecolor\":\"#2a3f5f\"},\"type\":\"carpet\"}],\"table\":[{\"cells\":{\"fill\":{\"color\":\"#EBF0F8\"},\"line\":{\"color\":\"white\"}},\"header\":{\"fill\":{\"color\":\"#C8D4E3\"},\"line\":{\"color\":\"white\"}},\"type\":\"table\"}],\"barpolar\":[{\"marker\":{\"line\":{\"color\":\"#E5ECF6\",\"width\":0.5},\"pattern\":{\"fillmode\":\"overlay\",\"size\":10,\"solidity\":0.2}},\"type\":\"barpolar\"}],\"pie\":[{\"automargin\":true,\"type\":\"pie\"}]},\"layout\":{\"autotypenumbers\":\"strict\",\"colorway\":[\"#636efa\",\"#EF553B\",\"#00cc96\",\"#ab63fa\",\"#FFA15A\",\"#19d3f3\",\"#FF6692\",\"#B6E880\",\"#FF97FF\",\"#FECB52\"],\"font\":{\"color\":\"#2a3f5f\"},\"hovermode\":\"closest\",\"hoverlabel\":{\"align\":\"left\"},\"paper_bgcolor\":\"white\",\"plot_bgcolor\":\"#E5ECF6\",\"polar\":{\"bgcolor\":\"#E5ECF6\",\"angularaxis\":{\"gridcolor\":\"white\",\"linecolor\":\"white\",\"ticks\":\"\"},\"radialaxis\":{\"gridcolor\":\"white\",\"linecolor\":\"white\",\"ticks\":\"\"}},\"ternary\":{\"bgcolor\":\"#E5ECF6\",\"aaxis\":{\"gridcolor\":\"white\",\"linecolor\":\"white\",\"ticks\":\"\"},\"baxis\":{\"gridcolor\":\"white\",\"linecolor\":\"white\",\"ticks\":\"\"},\"caxis\":{\"gridcolor\":\"white\",\"linecolor\":\"white\",\"ticks\":\"\"}},\"coloraxis\":{\"colorbar\":{\"outlinewidth\":0,\"ticks\":\"\"}},\"colorscale\":{\"sequential\":[[0.0,\"#0d0887\"],[0.1111111111111111,\"#46039f\"],[0.2222222222222222,\"#7201a8\"],[0.3333333333333333,\"#9c179e\"],[0.4444444444444444,\"#bd3786\"],[0.5555555555555556,\"#d8576b\"],[0.6666666666666666,\"#ed7953\"],[0.7777777777777778,\"#fb9f3a\"],[0.8888888888888888,\"#fdca26\"],[1.0,\"#f0f921\"]],\"sequentialminus\":[[0.0,\"#0d0887\"],[0.1111111111111111,\"#46039f\"],[0.2222222222222222,\"#7201a8\"],[0.3333333333333333,\"#9c179e\"],[0.4444444444444444,\"#bd3786\"],[0.5555555555555556,\"#d8576b\"],[0.6666666666666666,\"#ed7953\"],[0.7777777777777778,\"#fb9f3a\"],[0.8888888888888888,\"#fdca26\"],[1.0,\"#f0f921\"]],\"diverging\":[[0,\"#8e0152\"],[0.1,\"#c51b7d\"],[0.2,\"#de77ae\"],[0.3,\"#f1b6da\"],[0.4,\"#fde0ef\"],[0.5,\"#f7f7f7\"],[0.6,\"#e6f5d0\"],[0.7,\"#b8e186\"],[0.8,\"#7fbc41\"],[0.9,\"#4d9221\"],[1,\"#276419\"]]},\"xaxis\":{\"gridcolor\":\"white\",\"linecolor\":\"white\",\"ticks\":\"\",\"title\":{\"standoff\":15},\"zerolinecolor\":\"white\",\"automargin\":true,\"zerolinewidth\":2},\"yaxis\":{\"gridcolor\":\"white\",\"linecolor\":\"white\",\"ticks\":\"\",\"title\":{\"standoff\":15},\"zerolinecolor\":\"white\",\"automargin\":true,\"zerolinewidth\":2},\"scene\":{\"xaxis\":{\"backgroundcolor\":\"#E5ECF6\",\"gridcolor\":\"white\",\"linecolor\":\"white\",\"showbackground\":true,\"ticks\":\"\",\"zerolinecolor\":\"white\",\"gridwidth\":2},\"yaxis\":{\"backgroundcolor\":\"#E5ECF6\",\"gridcolor\":\"white\",\"linecolor\":\"white\",\"showbackground\":true,\"ticks\":\"\",\"zerolinecolor\":\"white\",\"gridwidth\":2},\"zaxis\":{\"backgroundcolor\":\"#E5ECF6\",\"gridcolor\":\"white\",\"linecolor\":\"white\",\"showbackground\":true,\"ticks\":\"\",\"zerolinecolor\":\"white\",\"gridwidth\":2}},\"shapedefaults\":{\"line\":{\"color\":\"#2a3f5f\"}},\"annotationdefaults\":{\"arrowcolor\":\"#2a3f5f\",\"arrowhead\":0,\"arrowwidth\":1},\"geo\":{\"bgcolor\":\"white\",\"landcolor\":\"#E5ECF6\",\"subunitcolor\":\"white\",\"showland\":true,\"showlakes\":true,\"lakecolor\":\"white\"},\"title\":{\"x\":0.05},\"mapbox\":{\"style\":\"light\"}}},\"xaxis\":{\"anchor\":\"y\",\"domain\":[0.0,1.0],\"title\":{\"text\":\"Rating\"}},\"yaxis\":{\"anchor\":\"x\",\"domain\":[0.0,1.0],\"title\":{\"text\":\"Probability Density\"}},\"legend\":{\"tracegroupgap\":0},\"margin\":{\"t\":60},\"barmode\":\"relative\",\"title\":{\"text\":\"Rating Distribution\",\"x\":0.5,\"pad\":{\"t\":20},\"font\":{\"size\":20}}},                        {\"responsive\": true}                    ).then(function(){\n",
              "                            \n",
              "var gd = document.getElementById('c1fdf6b2-c2ef-4e4c-ac19-c4416c275e91');\n",
              "var x = new MutationObserver(function (mutations, observer) {{\n",
              "        var display = window.getComputedStyle(gd).display;\n",
              "        if (!display || display === 'none') {{\n",
              "            console.log([gd, 'removed!']);\n",
              "            Plotly.purge(gd);\n",
              "            observer.disconnect();\n",
              "        }}\n",
              "}});\n",
              "\n",
              "// Listen for the removal of the full notebook cells\n",
              "var notebookContainer = gd.closest('#notebook-container');\n",
              "if (notebookContainer) {{\n",
              "    x.observe(notebookContainer, {childList: true});\n",
              "}}\n",
              "\n",
              "// Listen for the clearing of the current output cell\n",
              "var outputEl = gd.closest('.output');\n",
              "if (outputEl) {{\n",
              "    x.observe(outputEl, {childList: true});\n",
              "}}\n",
              "\n",
              "                        })                };                            </script>        </div>\n",
              "</body>\n",
              "</html>"
            ]
          },
          "metadata": {}
        }
      ]
    },
    {
      "cell_type": "code",
      "source": [
        "#Importing essential libraries for model building\n",
        "\n",
        "from sklearn.model_selection import train_test_split, cross_val_score\n",
        "from sklearn.linear_model import LogisticRegression\n",
        "from sklearn.metrics import accuracy_score, mean_absolute_error, mean_squared_error, r2_score"
      ],
      "metadata": {
        "id": "WFFrMzjUk7q1"
      },
      "execution_count": null,
      "outputs": []
    },
    {
      "cell_type": "code",
      "source": [
        "#Dropping Name Column because it does not impact the outcome\n",
        "imdb_df.drop('Name', axis=1, inplace=True)"
      ],
      "metadata": {
        "id": "d4ZOsEULliDV"
      },
      "execution_count": null,
      "outputs": []
    },
    {
      "cell_type": "code",
      "source": [
        "#Grouping the columns with their avg rating and then creating a new feature\n",
        "\n",
        "genre_mean_rating = imdb_df.groupby(['Year', 'Genre'])['Rating'].transform('mean')\n",
        "imdb_df['Genre_Mean_Rating'] = genre_mean_rating\n",
        "\n",
        "director_mean_rating = imdb_df.groupby(['Year', 'Director'])['Rating'].transform('mean')\n",
        "imdb_df['Director_Mean_Rating'] = director_mean_rating\n",
        "\n",
        "actor1_mean_rating = imdb_df.groupby(['Year', 'Actor 1'])['Rating'].transform('mean')\n",
        "imdb_df['Actor1_Mean_Rating'] = actor1_mean_rating\n",
        "\n",
        "actor2_mean_rating = imdb_df.groupby(['Year', 'Actor 2'])['Rating'].transform('mean')\n",
        "imdb_df['Actor2_Mean_Rating'] = actor2_mean_rating\n",
        "\n",
        "actor3_mean_rating = imdb_df.groupby(['Year', 'Actor 3'])['Rating'].transform('mean')\n",
        "imdb_df['Actor3_Mean_Rating'] = actor3_mean_rating"
      ],
      "metadata": {
        "id": "ZyvvLxuHlvrF"
      },
      "execution_count": null,
      "outputs": []
    },
    {
      "cell_type": "code",
      "source": [
        "#Keeping the predictor and the target variable\n",
        "\n",
        "x = imdb_df[['Year', 'Votes', 'Duration', 'Genre_Mean_Rating', 'Director_Mean_Rating', 'Actor1_Mean_Rating', 'Actor2_Mean_Rating', 'Actor3_Mean_Rating']]\n",
        "y = imdb_df['Rating']"
      ],
      "metadata": {
        "id": "RUQ5dC2cn489"
      },
      "execution_count": null,
      "outputs": []
    },
    {
      "cell_type": "code",
      "source": [
        "#Splitting the dataset into training and testing parts\n",
        "\n",
        "x_train, x_test, y_train, y_test = train_test_split(x, y, test_size=0.2, random_state=42)"
      ],
      "metadata": {
        "id": "XMEivUQBoH8V"
      },
      "execution_count": null,
      "outputs": []
    },
    {
      "cell_type": "markdown",
      "source": [
        "\n",
        "\n",
        "*   **Model Building**\n",
        "\n"
      ],
      "metadata": {
        "id": "r8TEg72F5Agk"
      }
    },
    {
      "cell_type": "code",
      "source": [
        "# Import the necessary libraries\n",
        "from sklearn.linear_model import LinearRegression\n",
        "from sklearn.model_selection import train_test_split\n",
        "\n",
        "# Assuming x_train, x_test, y_train, and y_test are already defined\n",
        "\n",
        "# Use Linear Regression for a continuous target variable\n",
        "Model = LinearRegression() # Create a Linear Regression model\n",
        "Model.fit(x_train, y_train) # Fit the model to the training data\n",
        "Model_pred = Model.predict(x_test) # Make predictions on the test data"
      ],
      "metadata": {
        "id": "rGOfrpi-Hyys"
      },
      "execution_count": null,
      "outputs": []
    },
    {
      "cell_type": "code",
      "source": [
        "#Evaluating the performance of model with evaluation metrics\n",
        "\n",
        "print('The Performance Evaluation of LR is below: ', '\\n')\n",
        "print(\"Mean Absolute Error:\", mean_absolute_error(y_test, Model_pred))\n",
        "print(\"Mean Squared Error:\", mean_squared_error(y_test, Model_pred))\n",
        "print(\"R2 Score:\", r2_score(y_test, Model_pred))"
      ],
      "metadata": {
        "colab": {
          "base_uri": "https://localhost:8080/"
        },
        "id": "D9x-xEhRJqYD",
        "outputId": "da3655ec-31e5-4075-df14-2f0064c6af91"
      },
      "execution_count": null,
      "outputs": [
        {
          "output_type": "stream",
          "name": "stdout",
          "text": [
            "The Performance Evaluation of LR is below:  \n",
            "\n",
            "Mean Absolute Error: 0.10937813439682302\n",
            "Mean Squared Error: 0.03587283451541104\n",
            "R2 Score: 0.9810502010154679\n"
          ]
        }
      ]
    },
    {
      "cell_type": "markdown",
      "source": [
        "\n",
        "\n",
        "*   **Model Testing**\n",
        "\n"
      ],
      "metadata": {
        "id": "te5xnzrLKKfm"
      }
    },
    {
      "cell_type": "code",
      "source": [
        "x.head(5)"
      ],
      "metadata": {
        "colab": {
          "base_uri": "https://localhost:8080/",
          "height": 206
        },
        "id": "3z3N9xKkKP0z",
        "outputId": "38bc1e17-7fc2-46d8-dcab-82eb99066c0c"
      },
      "execution_count": null,
      "outputs": [
        {
          "output_type": "execute_result",
          "data": {
            "text/plain": [
              "   Year  Votes  Duration  Genre_Mean_Rating  Director_Mean_Rating  \\\n",
              "1  2019      8       109           6.551351                   7.0   \n",
              "3  2019     35       110           6.270833                   4.4   \n",
              "3  2019     35       110           6.167742                   4.4   \n",
              "5  1997    827       147           5.918182                   4.7   \n",
              "5  1997    827       147           5.570588                   4.7   \n",
              "\n",
              "   Actor1_Mean_Rating  Actor2_Mean_Rating  Actor3_Mean_Rating  \n",
              "1                 7.0                 7.0                7.00  \n",
              "3                 4.4                 4.4                4.46  \n",
              "3                 4.4                 4.4                4.46  \n",
              "5                 6.0                 4.7                4.70  \n",
              "5                 6.0                 4.7                4.70  "
            ],
            "text/html": [
              "\n",
              "  <div id=\"df-0f03df3e-cec1-4f10-9650-4f2832c994e5\" class=\"colab-df-container\">\n",
              "    <div>\n",
              "<style scoped>\n",
              "    .dataframe tbody tr th:only-of-type {\n",
              "        vertical-align: middle;\n",
              "    }\n",
              "\n",
              "    .dataframe tbody tr th {\n",
              "        vertical-align: top;\n",
              "    }\n",
              "\n",
              "    .dataframe thead th {\n",
              "        text-align: right;\n",
              "    }\n",
              "</style>\n",
              "<table border=\"1\" class=\"dataframe\">\n",
              "  <thead>\n",
              "    <tr style=\"text-align: right;\">\n",
              "      <th></th>\n",
              "      <th>Year</th>\n",
              "      <th>Votes</th>\n",
              "      <th>Duration</th>\n",
              "      <th>Genre_Mean_Rating</th>\n",
              "      <th>Director_Mean_Rating</th>\n",
              "      <th>Actor1_Mean_Rating</th>\n",
              "      <th>Actor2_Mean_Rating</th>\n",
              "      <th>Actor3_Mean_Rating</th>\n",
              "    </tr>\n",
              "  </thead>\n",
              "  <tbody>\n",
              "    <tr>\n",
              "      <th>1</th>\n",
              "      <td>2019</td>\n",
              "      <td>8</td>\n",
              "      <td>109</td>\n",
              "      <td>6.551351</td>\n",
              "      <td>7.0</td>\n",
              "      <td>7.0</td>\n",
              "      <td>7.0</td>\n",
              "      <td>7.00</td>\n",
              "    </tr>\n",
              "    <tr>\n",
              "      <th>3</th>\n",
              "      <td>2019</td>\n",
              "      <td>35</td>\n",
              "      <td>110</td>\n",
              "      <td>6.270833</td>\n",
              "      <td>4.4</td>\n",
              "      <td>4.4</td>\n",
              "      <td>4.4</td>\n",
              "      <td>4.46</td>\n",
              "    </tr>\n",
              "    <tr>\n",
              "      <th>3</th>\n",
              "      <td>2019</td>\n",
              "      <td>35</td>\n",
              "      <td>110</td>\n",
              "      <td>6.167742</td>\n",
              "      <td>4.4</td>\n",
              "      <td>4.4</td>\n",
              "      <td>4.4</td>\n",
              "      <td>4.46</td>\n",
              "    </tr>\n",
              "    <tr>\n",
              "      <th>5</th>\n",
              "      <td>1997</td>\n",
              "      <td>827</td>\n",
              "      <td>147</td>\n",
              "      <td>5.918182</td>\n",
              "      <td>4.7</td>\n",
              "      <td>6.0</td>\n",
              "      <td>4.7</td>\n",
              "      <td>4.70</td>\n",
              "    </tr>\n",
              "    <tr>\n",
              "      <th>5</th>\n",
              "      <td>1997</td>\n",
              "      <td>827</td>\n",
              "      <td>147</td>\n",
              "      <td>5.570588</td>\n",
              "      <td>4.7</td>\n",
              "      <td>6.0</td>\n",
              "      <td>4.7</td>\n",
              "      <td>4.70</td>\n",
              "    </tr>\n",
              "  </tbody>\n",
              "</table>\n",
              "</div>\n",
              "    <div class=\"colab-df-buttons\">\n",
              "\n",
              "  <div class=\"colab-df-container\">\n",
              "    <button class=\"colab-df-convert\" onclick=\"convertToInteractive('df-0f03df3e-cec1-4f10-9650-4f2832c994e5')\"\n",
              "            title=\"Convert this dataframe to an interactive table.\"\n",
              "            style=\"display:none;\">\n",
              "\n",
              "  <svg xmlns=\"http://www.w3.org/2000/svg\" height=\"24px\" viewBox=\"0 -960 960 960\">\n",
              "    <path d=\"M120-120v-720h720v720H120Zm60-500h600v-160H180v160Zm220 220h160v-160H400v160Zm0 220h160v-160H400v160ZM180-400h160v-160H180v160Zm440 0h160v-160H620v160ZM180-180h160v-160H180v160Zm440 0h160v-160H620v160Z\"/>\n",
              "  </svg>\n",
              "    </button>\n",
              "\n",
              "  <style>\n",
              "    .colab-df-container {\n",
              "      display:flex;\n",
              "      gap: 12px;\n",
              "    }\n",
              "\n",
              "    .colab-df-convert {\n",
              "      background-color: #E8F0FE;\n",
              "      border: none;\n",
              "      border-radius: 50%;\n",
              "      cursor: pointer;\n",
              "      display: none;\n",
              "      fill: #1967D2;\n",
              "      height: 32px;\n",
              "      padding: 0 0 0 0;\n",
              "      width: 32px;\n",
              "    }\n",
              "\n",
              "    .colab-df-convert:hover {\n",
              "      background-color: #E2EBFA;\n",
              "      box-shadow: 0px 1px 2px rgba(60, 64, 67, 0.3), 0px 1px 3px 1px rgba(60, 64, 67, 0.15);\n",
              "      fill: #174EA6;\n",
              "    }\n",
              "\n",
              "    .colab-df-buttons div {\n",
              "      margin-bottom: 4px;\n",
              "    }\n",
              "\n",
              "    [theme=dark] .colab-df-convert {\n",
              "      background-color: #3B4455;\n",
              "      fill: #D2E3FC;\n",
              "    }\n",
              "\n",
              "    [theme=dark] .colab-df-convert:hover {\n",
              "      background-color: #434B5C;\n",
              "      box-shadow: 0px 1px 3px 1px rgba(0, 0, 0, 0.15);\n",
              "      filter: drop-shadow(0px 1px 2px rgba(0, 0, 0, 0.3));\n",
              "      fill: #FFFFFF;\n",
              "    }\n",
              "  </style>\n",
              "\n",
              "    <script>\n",
              "      const buttonEl =\n",
              "        document.querySelector('#df-0f03df3e-cec1-4f10-9650-4f2832c994e5 button.colab-df-convert');\n",
              "      buttonEl.style.display =\n",
              "        google.colab.kernel.accessAllowed ? 'block' : 'none';\n",
              "\n",
              "      async function convertToInteractive(key) {\n",
              "        const element = document.querySelector('#df-0f03df3e-cec1-4f10-9650-4f2832c994e5');\n",
              "        const dataTable =\n",
              "          await google.colab.kernel.invokeFunction('convertToInteractive',\n",
              "                                                    [key], {});\n",
              "        if (!dataTable) return;\n",
              "\n",
              "        const docLinkHtml = 'Like what you see? Visit the ' +\n",
              "          '<a target=\"_blank\" href=https://colab.research.google.com/notebooks/data_table.ipynb>data table notebook</a>'\n",
              "          + ' to learn more about interactive tables.';\n",
              "        element.innerHTML = '';\n",
              "        dataTable['output_type'] = 'display_data';\n",
              "        await google.colab.output.renderOutput(dataTable, element);\n",
              "        const docLink = document.createElement('div');\n",
              "        docLink.innerHTML = docLinkHtml;\n",
              "        element.appendChild(docLink);\n",
              "      }\n",
              "    </script>\n",
              "  </div>\n",
              "\n",
              "\n",
              "<div id=\"df-0560eeb5-adfd-4c4e-a352-37186c61f39c\">\n",
              "  <button class=\"colab-df-quickchart\" onclick=\"quickchart('df-0560eeb5-adfd-4c4e-a352-37186c61f39c')\"\n",
              "            title=\"Suggest charts\"\n",
              "            style=\"display:none;\">\n",
              "\n",
              "<svg xmlns=\"http://www.w3.org/2000/svg\" height=\"24px\"viewBox=\"0 0 24 24\"\n",
              "     width=\"24px\">\n",
              "    <g>\n",
              "        <path d=\"M19 3H5c-1.1 0-2 .9-2 2v14c0 1.1.9 2 2 2h14c1.1 0 2-.9 2-2V5c0-1.1-.9-2-2-2zM9 17H7v-7h2v7zm4 0h-2V7h2v10zm4 0h-2v-4h2v4z\"/>\n",
              "    </g>\n",
              "</svg>\n",
              "  </button>\n",
              "\n",
              "<style>\n",
              "  .colab-df-quickchart {\n",
              "      --bg-color: #E8F0FE;\n",
              "      --fill-color: #1967D2;\n",
              "      --hover-bg-color: #E2EBFA;\n",
              "      --hover-fill-color: #174EA6;\n",
              "      --disabled-fill-color: #AAA;\n",
              "      --disabled-bg-color: #DDD;\n",
              "  }\n",
              "\n",
              "  [theme=dark] .colab-df-quickchart {\n",
              "      --bg-color: #3B4455;\n",
              "      --fill-color: #D2E3FC;\n",
              "      --hover-bg-color: #434B5C;\n",
              "      --hover-fill-color: #FFFFFF;\n",
              "      --disabled-bg-color: #3B4455;\n",
              "      --disabled-fill-color: #666;\n",
              "  }\n",
              "\n",
              "  .colab-df-quickchart {\n",
              "    background-color: var(--bg-color);\n",
              "    border: none;\n",
              "    border-radius: 50%;\n",
              "    cursor: pointer;\n",
              "    display: none;\n",
              "    fill: var(--fill-color);\n",
              "    height: 32px;\n",
              "    padding: 0;\n",
              "    width: 32px;\n",
              "  }\n",
              "\n",
              "  .colab-df-quickchart:hover {\n",
              "    background-color: var(--hover-bg-color);\n",
              "    box-shadow: 0 1px 2px rgba(60, 64, 67, 0.3), 0 1px 3px 1px rgba(60, 64, 67, 0.15);\n",
              "    fill: var(--button-hover-fill-color);\n",
              "  }\n",
              "\n",
              "  .colab-df-quickchart-complete:disabled,\n",
              "  .colab-df-quickchart-complete:disabled:hover {\n",
              "    background-color: var(--disabled-bg-color);\n",
              "    fill: var(--disabled-fill-color);\n",
              "    box-shadow: none;\n",
              "  }\n",
              "\n",
              "  .colab-df-spinner {\n",
              "    border: 2px solid var(--fill-color);\n",
              "    border-color: transparent;\n",
              "    border-bottom-color: var(--fill-color);\n",
              "    animation:\n",
              "      spin 1s steps(1) infinite;\n",
              "  }\n",
              "\n",
              "  @keyframes spin {\n",
              "    0% {\n",
              "      border-color: transparent;\n",
              "      border-bottom-color: var(--fill-color);\n",
              "      border-left-color: var(--fill-color);\n",
              "    }\n",
              "    20% {\n",
              "      border-color: transparent;\n",
              "      border-left-color: var(--fill-color);\n",
              "      border-top-color: var(--fill-color);\n",
              "    }\n",
              "    30% {\n",
              "      border-color: transparent;\n",
              "      border-left-color: var(--fill-color);\n",
              "      border-top-color: var(--fill-color);\n",
              "      border-right-color: var(--fill-color);\n",
              "    }\n",
              "    40% {\n",
              "      border-color: transparent;\n",
              "      border-right-color: var(--fill-color);\n",
              "      border-top-color: var(--fill-color);\n",
              "    }\n",
              "    60% {\n",
              "      border-color: transparent;\n",
              "      border-right-color: var(--fill-color);\n",
              "    }\n",
              "    80% {\n",
              "      border-color: transparent;\n",
              "      border-right-color: var(--fill-color);\n",
              "      border-bottom-color: var(--fill-color);\n",
              "    }\n",
              "    90% {\n",
              "      border-color: transparent;\n",
              "      border-bottom-color: var(--fill-color);\n",
              "    }\n",
              "  }\n",
              "</style>\n",
              "\n",
              "  <script>\n",
              "    async function quickchart(key) {\n",
              "      const quickchartButtonEl =\n",
              "        document.querySelector('#' + key + ' button');\n",
              "      quickchartButtonEl.disabled = true;  // To prevent multiple clicks.\n",
              "      quickchartButtonEl.classList.add('colab-df-spinner');\n",
              "      try {\n",
              "        const charts = await google.colab.kernel.invokeFunction(\n",
              "            'suggestCharts', [key], {});\n",
              "      } catch (error) {\n",
              "        console.error('Error during call to suggestCharts:', error);\n",
              "      }\n",
              "      quickchartButtonEl.classList.remove('colab-df-spinner');\n",
              "      quickchartButtonEl.classList.add('colab-df-quickchart-complete');\n",
              "    }\n",
              "    (() => {\n",
              "      let quickchartButtonEl =\n",
              "        document.querySelector('#df-0560eeb5-adfd-4c4e-a352-37186c61f39c button');\n",
              "      quickchartButtonEl.style.display =\n",
              "        google.colab.kernel.accessAllowed ? 'block' : 'none';\n",
              "    })();\n",
              "  </script>\n",
              "</div>\n",
              "\n",
              "    </div>\n",
              "  </div>\n"
            ],
            "application/vnd.google.colaboratory.intrinsic+json": {
              "type": "dataframe",
              "variable_name": "x",
              "summary": "{\n  \"name\": \"x\",\n  \"rows\": 11979,\n  \"fields\": [\n    {\n      \"column\": \"Year\",\n      \"properties\": {\n        \"dtype\": \"number\",\n        \"std\": 19,\n        \"min\": 1931,\n        \"max\": 2021,\n        \"num_unique_values\": 91,\n        \"samples\": [\n          1990,\n          1974,\n          1970\n        ],\n        \"semantic_type\": \"\",\n        \"description\": \"\"\n      }\n    },\n    {\n      \"column\": \"Votes\",\n      \"properties\": {\n        \"dtype\": \"number\",\n        \"std\": 15305,\n        \"min\": 5,\n        \"max\": 591417,\n        \"num_unique_values\": 2027,\n        \"samples\": [\n          2534,\n          8372,\n          21773\n        ],\n        \"semantic_type\": \"\",\n        \"description\": \"\"\n      }\n    },\n    {\n      \"column\": \"Duration\",\n      \"properties\": {\n        \"dtype\": \"number\",\n        \"std\": 25,\n        \"min\": 21,\n        \"max\": 321,\n        \"num_unique_values\": 174,\n        \"samples\": [\n          197,\n          247,\n          86\n        ],\n        \"semantic_type\": \"\",\n        \"description\": \"\"\n      }\n    },\n    {\n      \"column\": \"Genre_Mean_Rating\",\n      \"properties\": {\n        \"dtype\": \"number\",\n        \"std\": 0.7206662867775234,\n        \"min\": 1.8,\n        \"max\": 9.7,\n        \"num_unique_values\": 689,\n        \"samples\": [\n          5.174418604651163,\n          7.65,\n          6.82\n        ],\n        \"semantic_type\": \"\",\n        \"description\": \"\"\n      }\n    },\n    {\n      \"column\": \"Director_Mean_Rating\",\n      \"properties\": {\n        \"dtype\": \"number\",\n        \"std\": 1.353500136100236,\n        \"min\": 1.1,\n        \"max\": 10.0,\n        \"num_unique_values\": 283,\n        \"samples\": [\n          5.7,\n          7.775,\n          5.9399999999999995\n        ],\n        \"semantic_type\": \"\",\n        \"description\": \"\"\n      }\n    },\n    {\n      \"column\": \"Actor1_Mean_Rating\",\n      \"properties\": {\n        \"dtype\": \"number\",\n        \"std\": 1.2830133332605946,\n        \"min\": 1.1,\n        \"max\": 10.0,\n        \"num_unique_values\": 514,\n        \"samples\": [\n          4.779999999999999,\n          4.828571428571428,\n          9.1\n        ],\n        \"semantic_type\": \"\",\n        \"description\": \"\"\n      }\n    },\n    {\n      \"column\": \"Actor2_Mean_Rating\",\n      \"properties\": {\n        \"dtype\": \"number\",\n        \"std\": 1.3072502810041289,\n        \"min\": 1.4,\n        \"max\": 10.0,\n        \"num_unique_values\": 440,\n        \"samples\": [\n          3.3000000000000003,\n          6.171428571428571,\n          5.675000000000001\n        ],\n        \"semantic_type\": \"\",\n        \"description\": \"\"\n      }\n    },\n    {\n      \"column\": \"Actor3_Mean_Rating\",\n      \"properties\": {\n        \"dtype\": \"number\",\n        \"std\": 1.3218482258009117,\n        \"min\": 1.1,\n        \"max\": 10.0,\n        \"num_unique_values\": 366,\n        \"samples\": [\n          6.266666666666667,\n          8.4,\n          7.1\n        ],\n        \"semantic_type\": \"\",\n        \"description\": \"\"\n      }\n    }\n  ]\n}"
            }
          },
          "metadata": {},
          "execution_count": 30
        }
      ]
    },
    {
      "cell_type": "code",
      "source": [
        "y.head(5)"
      ],
      "metadata": {
        "colab": {
          "base_uri": "https://localhost:8080/",
          "height": 241
        },
        "id": "r-8mBIs8KXAV",
        "outputId": "89e8b186-3e57-414b-9f6d-edc4699bebf1"
      },
      "execution_count": null,
      "outputs": [
        {
          "output_type": "execute_result",
          "data": {
            "text/plain": [
              "1    7.0\n",
              "3    4.4\n",
              "3    4.4\n",
              "5    4.7\n",
              "5    4.7\n",
              "Name: Rating, dtype: float64"
            ],
            "text/html": [
              "<div>\n",
              "<style scoped>\n",
              "    .dataframe tbody tr th:only-of-type {\n",
              "        vertical-align: middle;\n",
              "    }\n",
              "\n",
              "    .dataframe tbody tr th {\n",
              "        vertical-align: top;\n",
              "    }\n",
              "\n",
              "    .dataframe thead th {\n",
              "        text-align: right;\n",
              "    }\n",
              "</style>\n",
              "<table border=\"1\" class=\"dataframe\">\n",
              "  <thead>\n",
              "    <tr style=\"text-align: right;\">\n",
              "      <th></th>\n",
              "      <th>Rating</th>\n",
              "    </tr>\n",
              "  </thead>\n",
              "  <tbody>\n",
              "    <tr>\n",
              "      <th>1</th>\n",
              "      <td>7.0</td>\n",
              "    </tr>\n",
              "    <tr>\n",
              "      <th>3</th>\n",
              "      <td>4.4</td>\n",
              "    </tr>\n",
              "    <tr>\n",
              "      <th>3</th>\n",
              "      <td>4.4</td>\n",
              "    </tr>\n",
              "    <tr>\n",
              "      <th>5</th>\n",
              "      <td>4.7</td>\n",
              "    </tr>\n",
              "    <tr>\n",
              "      <th>5</th>\n",
              "      <td>4.7</td>\n",
              "    </tr>\n",
              "  </tbody>\n",
              "</table>\n",
              "</div><br><label><b>dtype:</b> float64</label>"
            ]
          },
          "metadata": {},
          "execution_count": 31
        }
      ]
    },
    {
      "cell_type": "code",
      "source": [
        "#For testing =, we create a new dataframe with values close to the any of our existing data to evaluate\n",
        "\n",
        "data = {'Year': [2019], 'Votes': [41], 'Duration': [145], 'Genre_Mean_Rating': [6.2], 'Director_Mean_Rating': [5.9], 'Actor1_Mean_Rating': [6.7], 'Actor2_Mean_Rating': [4.7], 'Actor3_Mean_Rating': [4.4] }\n",
        "newdata = pd.DataFrame(data)"
      ],
      "metadata": {
        "id": "cjbI2WUNKeB4"
      },
      "execution_count": null,
      "outputs": []
    },
    {
      "cell_type": "code",
      "source": [
        "# Get the feature names from the training data\n",
        "feature_names = Model.feature_names_in_\n",
        "\n",
        "# Ensure the new data has the same columns in the same order\n",
        "newdata = newdata[feature_names]\n",
        "\n",
        "# Predict the Movie Rating by entered data\n",
        "Rating_Predicted = Model.predict(newdata)\n",
        "\n",
        "# Print the predicted rating\n",
        "print(\"Predicted Rating:\", Rating_Predicted[0])"
      ],
      "metadata": {
        "colab": {
          "base_uri": "https://localhost:8080/"
        },
        "id": "laOnCtmQL_Gb",
        "outputId": "d31cd761-b5cc-4d93-9cff-807c247ae59a"
      },
      "execution_count": null,
      "outputs": [
        {
          "output_type": "stream",
          "name": "stdout",
          "text": [
            "Predicted Rating: 5.481850304689413\n"
          ]
        }
      ]
    },
    {
      "cell_type": "code",
      "source": [],
      "metadata": {
        "id": "jnv4eTFmhXpU"
      },
      "execution_count": null,
      "outputs": []
    }
  ]
}